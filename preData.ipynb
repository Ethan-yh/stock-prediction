{
 "metadata": {
  "language_info": {
   "codemirror_mode": {
    "name": "ipython",
    "version": 3
   },
   "file_extension": ".py",
   "mimetype": "text/x-python",
   "name": "python",
   "nbconvert_exporter": "python",
   "pygments_lexer": "ipython3",
   "version": "3.8.5-final"
  },
  "orig_nbformat": 2,
  "kernelspec": {
   "name": "python3",
   "display_name": "Python 3",
   "language": "python"
  }
 },
 "nbformat": 4,
 "nbformat_minor": 2,
 "cells": [
  {
   "cell_type": "code",
   "execution_count": 8,
   "metadata": {},
   "outputs": [],
   "source": [
    "import pandas as pd\n",
    "import numpy as np"
   ]
  },
  {
   "cell_type": "code",
   "execution_count": 9,
   "metadata": {},
   "outputs": [
    {
     "output_type": "execute_result",
     "data": {
      "text/plain": [
       "            date    symbol      close       high        low       open  \\\n",
       "0       2021/1/8  SH000001  3570.1082  3588.0625  3544.8912  3577.6923   \n",
       "1       2021/1/7  SH000001  3576.2046  3576.2046  3526.6174  3552.9087   \n",
       "2       2021/1/6  SH000001  3550.8767  3556.8022  3513.1262  3530.9072   \n",
       "3       2021/1/5  SH000001  3528.6767  3528.6767  3484.7151  3492.1912   \n",
       "4       2021/1/4  SH000001  3502.9584  3511.6554  3457.2061  3474.6793   \n",
       "...          ...       ...        ...        ...        ...        ...   \n",
       "7343  1990/12/25  SH000001   120.2500   120.2500   114.5500   120.0900   \n",
       "7344  1990/12/24  SH000001   114.5500   114.5500   109.1300   113.5700   \n",
       "7345  1990/12/21  SH000001   109.1300   109.1300   103.7300   109.0700   \n",
       "7346  1990/12/20  SH000001   104.3900   104.3900    99.9800   104.3000   \n",
       "7347  1990/12/19  SH000001    99.9800    99.9800    95.7900    96.0500   \n",
       "\n",
       "      pre_close   change  pct_chg     volume    amount  \n",
       "0     3576.2046  -6.0964  -0.1705  345557896  5.02E+11  \n",
       "1     3550.8767  25.3279   0.7133  405348226  5.46E+11  \n",
       "2     3528.6767     22.2   0.6291  370230926  5.22E+11  \n",
       "3     3502.9584  25.7183   0.7342  407995934  5.68E+11  \n",
       "4     3473.0693  29.8891   0.8606  380790800  5.23E+11  \n",
       "...         ...      ...      ...        ...       ...  \n",
       "7343     114.55      5.7    4.976         15      6000  \n",
       "7344     109.13     5.42   4.9666         32     31000  \n",
       "7345     104.39     4.74   4.5407         28     16000  \n",
       "7346      99.98     4.41   4.4109        197     84000  \n",
       "7347       None     None     None       1260    494000  \n",
       "\n",
       "[7348 rows x 11 columns]"
      ],
      "text/html": "<div>\n<style scoped>\n    .dataframe tbody tr th:only-of-type {\n        vertical-align: middle;\n    }\n\n    .dataframe tbody tr th {\n        vertical-align: top;\n    }\n\n    .dataframe thead th {\n        text-align: right;\n    }\n</style>\n<table border=\"1\" class=\"dataframe\">\n  <thead>\n    <tr style=\"text-align: right;\">\n      <th></th>\n      <th>date</th>\n      <th>symbol</th>\n      <th>close</th>\n      <th>high</th>\n      <th>low</th>\n      <th>open</th>\n      <th>pre_close</th>\n      <th>change</th>\n      <th>pct_chg</th>\n      <th>volume</th>\n      <th>amount</th>\n    </tr>\n  </thead>\n  <tbody>\n    <tr>\n      <th>0</th>\n      <td>2021/1/8</td>\n      <td>SH000001</td>\n      <td>3570.1082</td>\n      <td>3588.0625</td>\n      <td>3544.8912</td>\n      <td>3577.6923</td>\n      <td>3576.2046</td>\n      <td>-6.0964</td>\n      <td>-0.1705</td>\n      <td>345557896</td>\n      <td>5.02E+11</td>\n    </tr>\n    <tr>\n      <th>1</th>\n      <td>2021/1/7</td>\n      <td>SH000001</td>\n      <td>3576.2046</td>\n      <td>3576.2046</td>\n      <td>3526.6174</td>\n      <td>3552.9087</td>\n      <td>3550.8767</td>\n      <td>25.3279</td>\n      <td>0.7133</td>\n      <td>405348226</td>\n      <td>5.46E+11</td>\n    </tr>\n    <tr>\n      <th>2</th>\n      <td>2021/1/6</td>\n      <td>SH000001</td>\n      <td>3550.8767</td>\n      <td>3556.8022</td>\n      <td>3513.1262</td>\n      <td>3530.9072</td>\n      <td>3528.6767</td>\n      <td>22.2</td>\n      <td>0.6291</td>\n      <td>370230926</td>\n      <td>5.22E+11</td>\n    </tr>\n    <tr>\n      <th>3</th>\n      <td>2021/1/5</td>\n      <td>SH000001</td>\n      <td>3528.6767</td>\n      <td>3528.6767</td>\n      <td>3484.7151</td>\n      <td>3492.1912</td>\n      <td>3502.9584</td>\n      <td>25.7183</td>\n      <td>0.7342</td>\n      <td>407995934</td>\n      <td>5.68E+11</td>\n    </tr>\n    <tr>\n      <th>4</th>\n      <td>2021/1/4</td>\n      <td>SH000001</td>\n      <td>3502.9584</td>\n      <td>3511.6554</td>\n      <td>3457.2061</td>\n      <td>3474.6793</td>\n      <td>3473.0693</td>\n      <td>29.8891</td>\n      <td>0.8606</td>\n      <td>380790800</td>\n      <td>5.23E+11</td>\n    </tr>\n    <tr>\n      <th>...</th>\n      <td>...</td>\n      <td>...</td>\n      <td>...</td>\n      <td>...</td>\n      <td>...</td>\n      <td>...</td>\n      <td>...</td>\n      <td>...</td>\n      <td>...</td>\n      <td>...</td>\n      <td>...</td>\n    </tr>\n    <tr>\n      <th>7343</th>\n      <td>1990/12/25</td>\n      <td>SH000001</td>\n      <td>120.2500</td>\n      <td>120.2500</td>\n      <td>114.5500</td>\n      <td>120.0900</td>\n      <td>114.55</td>\n      <td>5.7</td>\n      <td>4.976</td>\n      <td>15</td>\n      <td>6000</td>\n    </tr>\n    <tr>\n      <th>7344</th>\n      <td>1990/12/24</td>\n      <td>SH000001</td>\n      <td>114.5500</td>\n      <td>114.5500</td>\n      <td>109.1300</td>\n      <td>113.5700</td>\n      <td>109.13</td>\n      <td>5.42</td>\n      <td>4.9666</td>\n      <td>32</td>\n      <td>31000</td>\n    </tr>\n    <tr>\n      <th>7345</th>\n      <td>1990/12/21</td>\n      <td>SH000001</td>\n      <td>109.1300</td>\n      <td>109.1300</td>\n      <td>103.7300</td>\n      <td>109.0700</td>\n      <td>104.39</td>\n      <td>4.74</td>\n      <td>4.5407</td>\n      <td>28</td>\n      <td>16000</td>\n    </tr>\n    <tr>\n      <th>7346</th>\n      <td>1990/12/20</td>\n      <td>SH000001</td>\n      <td>104.3900</td>\n      <td>104.3900</td>\n      <td>99.9800</td>\n      <td>104.3000</td>\n      <td>99.98</td>\n      <td>4.41</td>\n      <td>4.4109</td>\n      <td>197</td>\n      <td>84000</td>\n    </tr>\n    <tr>\n      <th>7347</th>\n      <td>1990/12/19</td>\n      <td>SH000001</td>\n      <td>99.9800</td>\n      <td>99.9800</td>\n      <td>95.7900</td>\n      <td>96.0500</td>\n      <td>None</td>\n      <td>None</td>\n      <td>None</td>\n      <td>1260</td>\n      <td>494000</td>\n    </tr>\n  </tbody>\n</table>\n<p>7348 rows × 11 columns</p>\n</div>"
     },
     "metadata": {},
     "execution_count": 9
    }
   ],
   "source": [
    "df = pd.read_csv('./data/raw/SH000001.csv')\n",
    "df"
   ]
  },
  {
   "cell_type": "code",
   "execution_count": 10,
   "metadata": {},
   "outputs": [
    {
     "output_type": "execute_result",
     "data": {
      "text/plain": [
       "              symbol      close       high        low       open  pre_close  \\\n",
       "date                                                                          \n",
       "1990-12-19  SH000001    99.9800    99.9800    95.7900    96.0500       None   \n",
       "1990-12-20  SH000001   104.3900   104.3900    99.9800   104.3000      99.98   \n",
       "1990-12-21  SH000001   109.1300   109.1300   103.7300   109.0700     104.39   \n",
       "1990-12-24  SH000001   114.5500   114.5500   109.1300   113.5700     109.13   \n",
       "1990-12-25  SH000001   120.2500   120.2500   114.5500   120.0900     114.55   \n",
       "...              ...        ...        ...        ...        ...        ...   \n",
       "2021-01-04  SH000001  3502.9584  3511.6554  3457.2061  3474.6793  3473.0693   \n",
       "2021-01-05  SH000001  3528.6767  3528.6767  3484.7151  3492.1912  3502.9584   \n",
       "2021-01-06  SH000001  3550.8767  3556.8022  3513.1262  3530.9072  3528.6767   \n",
       "2021-01-07  SH000001  3576.2046  3576.2046  3526.6174  3552.9087  3550.8767   \n",
       "2021-01-08  SH000001  3570.1082  3588.0625  3544.8912  3577.6923  3576.2046   \n",
       "\n",
       "             change  pct_chg     volume    amount  \n",
       "date                                               \n",
       "1990-12-19     None     None       1260    494000  \n",
       "1990-12-20     4.41   4.4109        197     84000  \n",
       "1990-12-21     4.74   4.5407         28     16000  \n",
       "1990-12-24     5.42   4.9666         32     31000  \n",
       "1990-12-25      5.7    4.976         15      6000  \n",
       "...             ...      ...        ...       ...  \n",
       "2021-01-04  29.8891   0.8606  380790800  5.23E+11  \n",
       "2021-01-05  25.7183   0.7342  407995934  5.68E+11  \n",
       "2021-01-06     22.2   0.6291  370230926  5.22E+11  \n",
       "2021-01-07  25.3279   0.7133  405348226  5.46E+11  \n",
       "2021-01-08  -6.0964  -0.1705  345557896  5.02E+11  \n",
       "\n",
       "[7348 rows x 10 columns]"
      ],
      "text/html": "<div>\n<style scoped>\n    .dataframe tbody tr th:only-of-type {\n        vertical-align: middle;\n    }\n\n    .dataframe tbody tr th {\n        vertical-align: top;\n    }\n\n    .dataframe thead th {\n        text-align: right;\n    }\n</style>\n<table border=\"1\" class=\"dataframe\">\n  <thead>\n    <tr style=\"text-align: right;\">\n      <th></th>\n      <th>symbol</th>\n      <th>close</th>\n      <th>high</th>\n      <th>low</th>\n      <th>open</th>\n      <th>pre_close</th>\n      <th>change</th>\n      <th>pct_chg</th>\n      <th>volume</th>\n      <th>amount</th>\n    </tr>\n    <tr>\n      <th>date</th>\n      <th></th>\n      <th></th>\n      <th></th>\n      <th></th>\n      <th></th>\n      <th></th>\n      <th></th>\n      <th></th>\n      <th></th>\n      <th></th>\n    </tr>\n  </thead>\n  <tbody>\n    <tr>\n      <th>1990-12-19</th>\n      <td>SH000001</td>\n      <td>99.9800</td>\n      <td>99.9800</td>\n      <td>95.7900</td>\n      <td>96.0500</td>\n      <td>None</td>\n      <td>None</td>\n      <td>None</td>\n      <td>1260</td>\n      <td>494000</td>\n    </tr>\n    <tr>\n      <th>1990-12-20</th>\n      <td>SH000001</td>\n      <td>104.3900</td>\n      <td>104.3900</td>\n      <td>99.9800</td>\n      <td>104.3000</td>\n      <td>99.98</td>\n      <td>4.41</td>\n      <td>4.4109</td>\n      <td>197</td>\n      <td>84000</td>\n    </tr>\n    <tr>\n      <th>1990-12-21</th>\n      <td>SH000001</td>\n      <td>109.1300</td>\n      <td>109.1300</td>\n      <td>103.7300</td>\n      <td>109.0700</td>\n      <td>104.39</td>\n      <td>4.74</td>\n      <td>4.5407</td>\n      <td>28</td>\n      <td>16000</td>\n    </tr>\n    <tr>\n      <th>1990-12-24</th>\n      <td>SH000001</td>\n      <td>114.5500</td>\n      <td>114.5500</td>\n      <td>109.1300</td>\n      <td>113.5700</td>\n      <td>109.13</td>\n      <td>5.42</td>\n      <td>4.9666</td>\n      <td>32</td>\n      <td>31000</td>\n    </tr>\n    <tr>\n      <th>1990-12-25</th>\n      <td>SH000001</td>\n      <td>120.2500</td>\n      <td>120.2500</td>\n      <td>114.5500</td>\n      <td>120.0900</td>\n      <td>114.55</td>\n      <td>5.7</td>\n      <td>4.976</td>\n      <td>15</td>\n      <td>6000</td>\n    </tr>\n    <tr>\n      <th>...</th>\n      <td>...</td>\n      <td>...</td>\n      <td>...</td>\n      <td>...</td>\n      <td>...</td>\n      <td>...</td>\n      <td>...</td>\n      <td>...</td>\n      <td>...</td>\n      <td>...</td>\n    </tr>\n    <tr>\n      <th>2021-01-04</th>\n      <td>SH000001</td>\n      <td>3502.9584</td>\n      <td>3511.6554</td>\n      <td>3457.2061</td>\n      <td>3474.6793</td>\n      <td>3473.0693</td>\n      <td>29.8891</td>\n      <td>0.8606</td>\n      <td>380790800</td>\n      <td>5.23E+11</td>\n    </tr>\n    <tr>\n      <th>2021-01-05</th>\n      <td>SH000001</td>\n      <td>3528.6767</td>\n      <td>3528.6767</td>\n      <td>3484.7151</td>\n      <td>3492.1912</td>\n      <td>3502.9584</td>\n      <td>25.7183</td>\n      <td>0.7342</td>\n      <td>407995934</td>\n      <td>5.68E+11</td>\n    </tr>\n    <tr>\n      <th>2021-01-06</th>\n      <td>SH000001</td>\n      <td>3550.8767</td>\n      <td>3556.8022</td>\n      <td>3513.1262</td>\n      <td>3530.9072</td>\n      <td>3528.6767</td>\n      <td>22.2</td>\n      <td>0.6291</td>\n      <td>370230926</td>\n      <td>5.22E+11</td>\n    </tr>\n    <tr>\n      <th>2021-01-07</th>\n      <td>SH000001</td>\n      <td>3576.2046</td>\n      <td>3576.2046</td>\n      <td>3526.6174</td>\n      <td>3552.9087</td>\n      <td>3550.8767</td>\n      <td>25.3279</td>\n      <td>0.7133</td>\n      <td>405348226</td>\n      <td>5.46E+11</td>\n    </tr>\n    <tr>\n      <th>2021-01-08</th>\n      <td>SH000001</td>\n      <td>3570.1082</td>\n      <td>3588.0625</td>\n      <td>3544.8912</td>\n      <td>3577.6923</td>\n      <td>3576.2046</td>\n      <td>-6.0964</td>\n      <td>-0.1705</td>\n      <td>345557896</td>\n      <td>5.02E+11</td>\n    </tr>\n  </tbody>\n</table>\n<p>7348 rows × 10 columns</p>\n</div>"
     },
     "metadata": {},
     "execution_count": 10
    }
   ],
   "source": [
    "# 转换日期\n",
    "df['date'] = pd.to_datetime(df['date'])\n",
    "df = df.sort_values(by='date')\n",
    "df = df.set_index(keys=['date'])\n",
    "df"
   ]
  },
  {
   "cell_type": "code",
   "execution_count": 11,
   "metadata": {},
   "outputs": [
    {
     "output_type": "execute_result",
     "data": {
      "text/plain": [
       "(array([], dtype=int64), array([], dtype=int64))"
      ]
     },
     "metadata": {},
     "execution_count": 11
    }
   ],
   "source": [
    "np.where(df.isnull())"
   ]
  },
  {
   "cell_type": "code",
   "execution_count": 12,
   "metadata": {},
   "outputs": [
    {
     "output_type": "execute_result",
     "data": {
      "text/plain": [
       "              symbol      close       high        low       open  pre_close  \\\n",
       "date                                                                          \n",
       "1990-12-19  SH000001    99.9800    99.9800    95.7900    96.0500        NaN   \n",
       "1990-12-20  SH000001   104.3900   104.3900    99.9800   104.3000    99.9800   \n",
       "1990-12-21  SH000001   109.1300   109.1300   103.7300   109.0700   104.3900   \n",
       "1990-12-24  SH000001   114.5500   114.5500   109.1300   113.5700   109.1300   \n",
       "1990-12-25  SH000001   120.2500   120.2500   114.5500   120.0900   114.5500   \n",
       "...              ...        ...        ...        ...        ...        ...   \n",
       "2021-01-04  SH000001  3502.9584  3511.6554  3457.2061  3474.6793  3473.0693   \n",
       "2021-01-05  SH000001  3528.6767  3528.6767  3484.7151  3492.1912  3502.9584   \n",
       "2021-01-06  SH000001  3550.8767  3556.8022  3513.1262  3530.9072  3528.6767   \n",
       "2021-01-07  SH000001  3576.2046  3576.2046  3526.6174  3552.9087  3550.8767   \n",
       "2021-01-08  SH000001  3570.1082  3588.0625  3544.8912  3577.6923  3576.2046   \n",
       "\n",
       "             change  pct_chg     volume        amount  \n",
       "date                                                   \n",
       "1990-12-19      NaN      NaN       1260  4.940000e+05  \n",
       "1990-12-20   4.4100   4.4109        197  8.400000e+04  \n",
       "1990-12-21   4.7400   4.5407         28  1.600000e+04  \n",
       "1990-12-24   5.4200   4.9666         32  3.100000e+04  \n",
       "1990-12-25   5.7000   4.9760         15  6.000000e+03  \n",
       "...             ...      ...        ...           ...  \n",
       "2021-01-04  29.8891   0.8606  380790800  5.230000e+11  \n",
       "2021-01-05  25.7183   0.7342  407995934  5.680000e+11  \n",
       "2021-01-06  22.2000   0.6291  370230926  5.220000e+11  \n",
       "2021-01-07  25.3279   0.7133  405348226  5.460000e+11  \n",
       "2021-01-08  -6.0964  -0.1705  345557896  5.020000e+11  \n",
       "\n",
       "[7348 rows x 10 columns]"
      ],
      "text/html": "<div>\n<style scoped>\n    .dataframe tbody tr th:only-of-type {\n        vertical-align: middle;\n    }\n\n    .dataframe tbody tr th {\n        vertical-align: top;\n    }\n\n    .dataframe thead th {\n        text-align: right;\n    }\n</style>\n<table border=\"1\" class=\"dataframe\">\n  <thead>\n    <tr style=\"text-align: right;\">\n      <th></th>\n      <th>symbol</th>\n      <th>close</th>\n      <th>high</th>\n      <th>low</th>\n      <th>open</th>\n      <th>pre_close</th>\n      <th>change</th>\n      <th>pct_chg</th>\n      <th>volume</th>\n      <th>amount</th>\n    </tr>\n    <tr>\n      <th>date</th>\n      <th></th>\n      <th></th>\n      <th></th>\n      <th></th>\n      <th></th>\n      <th></th>\n      <th></th>\n      <th></th>\n      <th></th>\n      <th></th>\n    </tr>\n  </thead>\n  <tbody>\n    <tr>\n      <th>1990-12-19</th>\n      <td>SH000001</td>\n      <td>99.9800</td>\n      <td>99.9800</td>\n      <td>95.7900</td>\n      <td>96.0500</td>\n      <td>NaN</td>\n      <td>NaN</td>\n      <td>NaN</td>\n      <td>1260</td>\n      <td>4.940000e+05</td>\n    </tr>\n    <tr>\n      <th>1990-12-20</th>\n      <td>SH000001</td>\n      <td>104.3900</td>\n      <td>104.3900</td>\n      <td>99.9800</td>\n      <td>104.3000</td>\n      <td>99.9800</td>\n      <td>4.4100</td>\n      <td>4.4109</td>\n      <td>197</td>\n      <td>8.400000e+04</td>\n    </tr>\n    <tr>\n      <th>1990-12-21</th>\n      <td>SH000001</td>\n      <td>109.1300</td>\n      <td>109.1300</td>\n      <td>103.7300</td>\n      <td>109.0700</td>\n      <td>104.3900</td>\n      <td>4.7400</td>\n      <td>4.5407</td>\n      <td>28</td>\n      <td>1.600000e+04</td>\n    </tr>\n    <tr>\n      <th>1990-12-24</th>\n      <td>SH000001</td>\n      <td>114.5500</td>\n      <td>114.5500</td>\n      <td>109.1300</td>\n      <td>113.5700</td>\n      <td>109.1300</td>\n      <td>5.4200</td>\n      <td>4.9666</td>\n      <td>32</td>\n      <td>3.100000e+04</td>\n    </tr>\n    <tr>\n      <th>1990-12-25</th>\n      <td>SH000001</td>\n      <td>120.2500</td>\n      <td>120.2500</td>\n      <td>114.5500</td>\n      <td>120.0900</td>\n      <td>114.5500</td>\n      <td>5.7000</td>\n      <td>4.9760</td>\n      <td>15</td>\n      <td>6.000000e+03</td>\n    </tr>\n    <tr>\n      <th>...</th>\n      <td>...</td>\n      <td>...</td>\n      <td>...</td>\n      <td>...</td>\n      <td>...</td>\n      <td>...</td>\n      <td>...</td>\n      <td>...</td>\n      <td>...</td>\n      <td>...</td>\n    </tr>\n    <tr>\n      <th>2021-01-04</th>\n      <td>SH000001</td>\n      <td>3502.9584</td>\n      <td>3511.6554</td>\n      <td>3457.2061</td>\n      <td>3474.6793</td>\n      <td>3473.0693</td>\n      <td>29.8891</td>\n      <td>0.8606</td>\n      <td>380790800</td>\n      <td>5.230000e+11</td>\n    </tr>\n    <tr>\n      <th>2021-01-05</th>\n      <td>SH000001</td>\n      <td>3528.6767</td>\n      <td>3528.6767</td>\n      <td>3484.7151</td>\n      <td>3492.1912</td>\n      <td>3502.9584</td>\n      <td>25.7183</td>\n      <td>0.7342</td>\n      <td>407995934</td>\n      <td>5.680000e+11</td>\n    </tr>\n    <tr>\n      <th>2021-01-06</th>\n      <td>SH000001</td>\n      <td>3550.8767</td>\n      <td>3556.8022</td>\n      <td>3513.1262</td>\n      <td>3530.9072</td>\n      <td>3528.6767</td>\n      <td>22.2000</td>\n      <td>0.6291</td>\n      <td>370230926</td>\n      <td>5.220000e+11</td>\n    </tr>\n    <tr>\n      <th>2021-01-07</th>\n      <td>SH000001</td>\n      <td>3576.2046</td>\n      <td>3576.2046</td>\n      <td>3526.6174</td>\n      <td>3552.9087</td>\n      <td>3550.8767</td>\n      <td>25.3279</td>\n      <td>0.7133</td>\n      <td>405348226</td>\n      <td>5.460000e+11</td>\n    </tr>\n    <tr>\n      <th>2021-01-08</th>\n      <td>SH000001</td>\n      <td>3570.1082</td>\n      <td>3588.0625</td>\n      <td>3544.8912</td>\n      <td>3577.6923</td>\n      <td>3576.2046</td>\n      <td>-6.0964</td>\n      <td>-0.1705</td>\n      <td>345557896</td>\n      <td>5.020000e+11</td>\n    </tr>\n  </tbody>\n</table>\n<p>7348 rows × 10 columns</p>\n</div>"
     },
     "metadata": {},
     "execution_count": 12
    }
   ],
   "source": [
    "# 数据类型限制为float， 无法转换则为NaN\n",
    "float_cols = ['close', 'high', 'low', 'open', 'pre_close', 'change', 'pct_chg', 'volume', 'amount']\n",
    "df[float_cols] = df[float_cols].apply(pd.to_numeric, errors = 'coerce')\n",
    "df"
   ]
  },
  {
   "cell_type": "code",
   "execution_count": 13,
   "metadata": {},
   "outputs": [
    {
     "output_type": "execute_result",
     "data": {
      "text/plain": [
       "              symbol      close       high        low       open  pre_close  \\\n",
       "date                                                                          \n",
       "1990-12-19  SH000001    99.9800    99.9800    95.7900    96.0500        NaN   \n",
       "1990-12-20  SH000001   104.3900   104.3900    99.9800   104.3000    99.9800   \n",
       "1990-12-21  SH000001   109.1300   109.1300   103.7300   109.0700   104.3900   \n",
       "1990-12-24  SH000001   114.5500   114.5500   109.1300   113.5700   109.1300   \n",
       "1990-12-25  SH000001   120.2500   120.2500   114.5500   120.0900   114.5500   \n",
       "...              ...        ...        ...        ...        ...        ...   \n",
       "2021-01-04  SH000001  3502.9584  3511.6554  3457.2061  3474.6793  3473.0693   \n",
       "2021-01-05  SH000001  3528.6767  3528.6767  3484.7151  3492.1912  3502.9584   \n",
       "2021-01-06  SH000001  3550.8767  3556.8022  3513.1262  3530.9072  3528.6767   \n",
       "2021-01-07  SH000001  3576.2046  3576.2046  3526.6174  3552.9087  3550.8767   \n",
       "2021-01-08  SH000001  3570.1082  3588.0625  3544.8912  3577.6923  3576.2046   \n",
       "\n",
       "             change  pct_chg     volume        amount  label  \n",
       "date                                                          \n",
       "1990-12-19      NaN      NaN       1260  4.940000e+05      1  \n",
       "1990-12-20   4.4100   4.4109        197  8.400000e+04      1  \n",
       "1990-12-21   4.7400   4.5407         28  1.600000e+04      1  \n",
       "1990-12-24   5.4200   4.9666         32  3.100000e+04      1  \n",
       "1990-12-25   5.7000   4.9760         15  6.000000e+03      1  \n",
       "...             ...      ...        ...           ...    ...  \n",
       "2021-01-04  29.8891   0.8606  380790800  5.230000e+11      1  \n",
       "2021-01-05  25.7183   0.7342  407995934  5.680000e+11      1  \n",
       "2021-01-06  22.2000   0.6291  370230926  5.220000e+11      1  \n",
       "2021-01-07  25.3279   0.7133  405348226  5.460000e+11      0  \n",
       "2021-01-08  -6.0964  -0.1705  345557896  5.020000e+11      0  \n",
       "\n",
       "[7348 rows x 11 columns]"
      ],
      "text/html": "<div>\n<style scoped>\n    .dataframe tbody tr th:only-of-type {\n        vertical-align: middle;\n    }\n\n    .dataframe tbody tr th {\n        vertical-align: top;\n    }\n\n    .dataframe thead th {\n        text-align: right;\n    }\n</style>\n<table border=\"1\" class=\"dataframe\">\n  <thead>\n    <tr style=\"text-align: right;\">\n      <th></th>\n      <th>symbol</th>\n      <th>close</th>\n      <th>high</th>\n      <th>low</th>\n      <th>open</th>\n      <th>pre_close</th>\n      <th>change</th>\n      <th>pct_chg</th>\n      <th>volume</th>\n      <th>amount</th>\n      <th>label</th>\n    </tr>\n    <tr>\n      <th>date</th>\n      <th></th>\n      <th></th>\n      <th></th>\n      <th></th>\n      <th></th>\n      <th></th>\n      <th></th>\n      <th></th>\n      <th></th>\n      <th></th>\n      <th></th>\n    </tr>\n  </thead>\n  <tbody>\n    <tr>\n      <th>1990-12-19</th>\n      <td>SH000001</td>\n      <td>99.9800</td>\n      <td>99.9800</td>\n      <td>95.7900</td>\n      <td>96.0500</td>\n      <td>NaN</td>\n      <td>NaN</td>\n      <td>NaN</td>\n      <td>1260</td>\n      <td>4.940000e+05</td>\n      <td>1</td>\n    </tr>\n    <tr>\n      <th>1990-12-20</th>\n      <td>SH000001</td>\n      <td>104.3900</td>\n      <td>104.3900</td>\n      <td>99.9800</td>\n      <td>104.3000</td>\n      <td>99.9800</td>\n      <td>4.4100</td>\n      <td>4.4109</td>\n      <td>197</td>\n      <td>8.400000e+04</td>\n      <td>1</td>\n    </tr>\n    <tr>\n      <th>1990-12-21</th>\n      <td>SH000001</td>\n      <td>109.1300</td>\n      <td>109.1300</td>\n      <td>103.7300</td>\n      <td>109.0700</td>\n      <td>104.3900</td>\n      <td>4.7400</td>\n      <td>4.5407</td>\n      <td>28</td>\n      <td>1.600000e+04</td>\n      <td>1</td>\n    </tr>\n    <tr>\n      <th>1990-12-24</th>\n      <td>SH000001</td>\n      <td>114.5500</td>\n      <td>114.5500</td>\n      <td>109.1300</td>\n      <td>113.5700</td>\n      <td>109.1300</td>\n      <td>5.4200</td>\n      <td>4.9666</td>\n      <td>32</td>\n      <td>3.100000e+04</td>\n      <td>1</td>\n    </tr>\n    <tr>\n      <th>1990-12-25</th>\n      <td>SH000001</td>\n      <td>120.2500</td>\n      <td>120.2500</td>\n      <td>114.5500</td>\n      <td>120.0900</td>\n      <td>114.5500</td>\n      <td>5.7000</td>\n      <td>4.9760</td>\n      <td>15</td>\n      <td>6.000000e+03</td>\n      <td>1</td>\n    </tr>\n    <tr>\n      <th>...</th>\n      <td>...</td>\n      <td>...</td>\n      <td>...</td>\n      <td>...</td>\n      <td>...</td>\n      <td>...</td>\n      <td>...</td>\n      <td>...</td>\n      <td>...</td>\n      <td>...</td>\n      <td>...</td>\n    </tr>\n    <tr>\n      <th>2021-01-04</th>\n      <td>SH000001</td>\n      <td>3502.9584</td>\n      <td>3511.6554</td>\n      <td>3457.2061</td>\n      <td>3474.6793</td>\n      <td>3473.0693</td>\n      <td>29.8891</td>\n      <td>0.8606</td>\n      <td>380790800</td>\n      <td>5.230000e+11</td>\n      <td>1</td>\n    </tr>\n    <tr>\n      <th>2021-01-05</th>\n      <td>SH000001</td>\n      <td>3528.6767</td>\n      <td>3528.6767</td>\n      <td>3484.7151</td>\n      <td>3492.1912</td>\n      <td>3502.9584</td>\n      <td>25.7183</td>\n      <td>0.7342</td>\n      <td>407995934</td>\n      <td>5.680000e+11</td>\n      <td>1</td>\n    </tr>\n    <tr>\n      <th>2021-01-06</th>\n      <td>SH000001</td>\n      <td>3550.8767</td>\n      <td>3556.8022</td>\n      <td>3513.1262</td>\n      <td>3530.9072</td>\n      <td>3528.6767</td>\n      <td>22.2000</td>\n      <td>0.6291</td>\n      <td>370230926</td>\n      <td>5.220000e+11</td>\n      <td>1</td>\n    </tr>\n    <tr>\n      <th>2021-01-07</th>\n      <td>SH000001</td>\n      <td>3576.2046</td>\n      <td>3576.2046</td>\n      <td>3526.6174</td>\n      <td>3552.9087</td>\n      <td>3550.8767</td>\n      <td>25.3279</td>\n      <td>0.7133</td>\n      <td>405348226</td>\n      <td>5.460000e+11</td>\n      <td>0</td>\n    </tr>\n    <tr>\n      <th>2021-01-08</th>\n      <td>SH000001</td>\n      <td>3570.1082</td>\n      <td>3588.0625</td>\n      <td>3544.8912</td>\n      <td>3577.6923</td>\n      <td>3576.2046</td>\n      <td>-6.0964</td>\n      <td>-0.1705</td>\n      <td>345557896</td>\n      <td>5.020000e+11</td>\n      <td>0</td>\n    </tr>\n  </tbody>\n</table>\n<p>7348 rows × 11 columns</p>\n</div>"
     },
     "metadata": {},
     "execution_count": 13
    }
   ],
   "source": [
    "# 获取label\n",
    "df['label'] = [1 if change >= 0 else 0 for change in df['change'].shift(-1)]\n",
    "df"
   ]
  },
  {
   "cell_type": "code",
   "execution_count": 14,
   "metadata": {},
   "outputs": [
    {
     "output_type": "execute_result",
     "data": {
      "text/plain": [
       "              symbol      close       high        low       open  pre_close  \\\n",
       "date                                                                          \n",
       "1990-12-20  SH000001   104.3900   104.3900    99.9800   104.3000    99.9800   \n",
       "1990-12-21  SH000001   109.1300   109.1300   103.7300   109.0700   104.3900   \n",
       "1990-12-24  SH000001   114.5500   114.5500   109.1300   113.5700   109.1300   \n",
       "1990-12-25  SH000001   120.2500   120.2500   114.5500   120.0900   114.5500   \n",
       "1990-12-26  SH000001   125.2700   125.2700   120.2500   125.2700   120.2500   \n",
       "...              ...        ...        ...        ...        ...        ...   \n",
       "2021-01-04  SH000001  3502.9584  3511.6554  3457.2061  3474.6793  3473.0693   \n",
       "2021-01-05  SH000001  3528.6767  3528.6767  3484.7151  3492.1912  3502.9584   \n",
       "2021-01-06  SH000001  3550.8767  3556.8022  3513.1262  3530.9072  3528.6767   \n",
       "2021-01-07  SH000001  3576.2046  3576.2046  3526.6174  3552.9087  3550.8767   \n",
       "2021-01-08  SH000001  3570.1082  3588.0625  3544.8912  3577.6923  3576.2046   \n",
       "\n",
       "             change  pct_chg     volume        amount  label  \n",
       "date                                                          \n",
       "1990-12-20   4.4100   4.4109        197  8.400000e+04      1  \n",
       "1990-12-21   4.7400   4.5407         28  1.600000e+04      1  \n",
       "1990-12-24   5.4200   4.9666         32  3.100000e+04      1  \n",
       "1990-12-25   5.7000   4.9760         15  6.000000e+03      1  \n",
       "1990-12-26   5.0200   4.1746        100  5.300000e+04      1  \n",
       "...             ...      ...        ...           ...    ...  \n",
       "2021-01-04  29.8891   0.8606  380790800  5.230000e+11      1  \n",
       "2021-01-05  25.7183   0.7342  407995934  5.680000e+11      1  \n",
       "2021-01-06  22.2000   0.6291  370230926  5.220000e+11      1  \n",
       "2021-01-07  25.3279   0.7133  405348226  5.460000e+11      0  \n",
       "2021-01-08  -6.0964  -0.1705  345557896  5.020000e+11      0  \n",
       "\n",
       "[7337 rows x 11 columns]"
      ],
      "text/html": "<div>\n<style scoped>\n    .dataframe tbody tr th:only-of-type {\n        vertical-align: middle;\n    }\n\n    .dataframe tbody tr th {\n        vertical-align: top;\n    }\n\n    .dataframe thead th {\n        text-align: right;\n    }\n</style>\n<table border=\"1\" class=\"dataframe\">\n  <thead>\n    <tr style=\"text-align: right;\">\n      <th></th>\n      <th>symbol</th>\n      <th>close</th>\n      <th>high</th>\n      <th>low</th>\n      <th>open</th>\n      <th>pre_close</th>\n      <th>change</th>\n      <th>pct_chg</th>\n      <th>volume</th>\n      <th>amount</th>\n      <th>label</th>\n    </tr>\n    <tr>\n      <th>date</th>\n      <th></th>\n      <th></th>\n      <th></th>\n      <th></th>\n      <th></th>\n      <th></th>\n      <th></th>\n      <th></th>\n      <th></th>\n      <th></th>\n      <th></th>\n    </tr>\n  </thead>\n  <tbody>\n    <tr>\n      <th>1990-12-20</th>\n      <td>SH000001</td>\n      <td>104.3900</td>\n      <td>104.3900</td>\n      <td>99.9800</td>\n      <td>104.3000</td>\n      <td>99.9800</td>\n      <td>4.4100</td>\n      <td>4.4109</td>\n      <td>197</td>\n      <td>8.400000e+04</td>\n      <td>1</td>\n    </tr>\n    <tr>\n      <th>1990-12-21</th>\n      <td>SH000001</td>\n      <td>109.1300</td>\n      <td>109.1300</td>\n      <td>103.7300</td>\n      <td>109.0700</td>\n      <td>104.3900</td>\n      <td>4.7400</td>\n      <td>4.5407</td>\n      <td>28</td>\n      <td>1.600000e+04</td>\n      <td>1</td>\n    </tr>\n    <tr>\n      <th>1990-12-24</th>\n      <td>SH000001</td>\n      <td>114.5500</td>\n      <td>114.5500</td>\n      <td>109.1300</td>\n      <td>113.5700</td>\n      <td>109.1300</td>\n      <td>5.4200</td>\n      <td>4.9666</td>\n      <td>32</td>\n      <td>3.100000e+04</td>\n      <td>1</td>\n    </tr>\n    <tr>\n      <th>1990-12-25</th>\n      <td>SH000001</td>\n      <td>120.2500</td>\n      <td>120.2500</td>\n      <td>114.5500</td>\n      <td>120.0900</td>\n      <td>114.5500</td>\n      <td>5.7000</td>\n      <td>4.9760</td>\n      <td>15</td>\n      <td>6.000000e+03</td>\n      <td>1</td>\n    </tr>\n    <tr>\n      <th>1990-12-26</th>\n      <td>SH000001</td>\n      <td>125.2700</td>\n      <td>125.2700</td>\n      <td>120.2500</td>\n      <td>125.2700</td>\n      <td>120.2500</td>\n      <td>5.0200</td>\n      <td>4.1746</td>\n      <td>100</td>\n      <td>5.300000e+04</td>\n      <td>1</td>\n    </tr>\n    <tr>\n      <th>...</th>\n      <td>...</td>\n      <td>...</td>\n      <td>...</td>\n      <td>...</td>\n      <td>...</td>\n      <td>...</td>\n      <td>...</td>\n      <td>...</td>\n      <td>...</td>\n      <td>...</td>\n      <td>...</td>\n    </tr>\n    <tr>\n      <th>2021-01-04</th>\n      <td>SH000001</td>\n      <td>3502.9584</td>\n      <td>3511.6554</td>\n      <td>3457.2061</td>\n      <td>3474.6793</td>\n      <td>3473.0693</td>\n      <td>29.8891</td>\n      <td>0.8606</td>\n      <td>380790800</td>\n      <td>5.230000e+11</td>\n      <td>1</td>\n    </tr>\n    <tr>\n      <th>2021-01-05</th>\n      <td>SH000001</td>\n      <td>3528.6767</td>\n      <td>3528.6767</td>\n      <td>3484.7151</td>\n      <td>3492.1912</td>\n      <td>3502.9584</td>\n      <td>25.7183</td>\n      <td>0.7342</td>\n      <td>407995934</td>\n      <td>5.680000e+11</td>\n      <td>1</td>\n    </tr>\n    <tr>\n      <th>2021-01-06</th>\n      <td>SH000001</td>\n      <td>3550.8767</td>\n      <td>3556.8022</td>\n      <td>3513.1262</td>\n      <td>3530.9072</td>\n      <td>3528.6767</td>\n      <td>22.2000</td>\n      <td>0.6291</td>\n      <td>370230926</td>\n      <td>5.220000e+11</td>\n      <td>1</td>\n    </tr>\n    <tr>\n      <th>2021-01-07</th>\n      <td>SH000001</td>\n      <td>3576.2046</td>\n      <td>3576.2046</td>\n      <td>3526.6174</td>\n      <td>3552.9087</td>\n      <td>3550.8767</td>\n      <td>25.3279</td>\n      <td>0.7133</td>\n      <td>405348226</td>\n      <td>5.460000e+11</td>\n      <td>0</td>\n    </tr>\n    <tr>\n      <th>2021-01-08</th>\n      <td>SH000001</td>\n      <td>3570.1082</td>\n      <td>3588.0625</td>\n      <td>3544.8912</td>\n      <td>3577.6923</td>\n      <td>3576.2046</td>\n      <td>-6.0964</td>\n      <td>-0.1705</td>\n      <td>345557896</td>\n      <td>5.020000e+11</td>\n      <td>0</td>\n    </tr>\n  </tbody>\n</table>\n<p>7337 rows × 11 columns</p>\n</div>"
     },
     "metadata": {},
     "execution_count": 14
    }
   ],
   "source": [
    "# 丢弃NaN行\n",
    "df = df.dropna()\n",
    "df"
   ]
  },
  {
   "cell_type": "code",
   "execution_count": 15,
   "metadata": {},
   "outputs": [],
   "source": [
    "# 保存处理好的数据\n",
    "df.to_csv('./data/pre/SH000001.csv')"
   ]
  },
  {
   "cell_type": "code",
   "execution_count": null,
   "metadata": {},
   "outputs": [],
   "source": []
  }
 ]
}