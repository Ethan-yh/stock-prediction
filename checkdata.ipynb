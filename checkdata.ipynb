{
 "metadata": {
  "language_info": {
   "codemirror_mode": {
    "name": "ipython",
    "version": 3
   },
   "file_extension": ".py",
   "mimetype": "text/x-python",
   "name": "python",
   "nbconvert_exporter": "python",
   "pygments_lexer": "ipython3",
   "version": "3.8.5-final"
  },
  "orig_nbformat": 2,
  "kernelspec": {
   "name": "python3",
   "display_name": "Python 3.8.5 64-bit ('qlibenv': conda)",
   "metadata": {
    "interpreter": {
     "hash": "a80615ed667307891162d8069f9f22a90e600d092da01fa181e261e16d9aa3b3"
    }
   }
  }
 },
 "nbformat": 4,
 "nbformat_minor": 2,
 "cells": [
  {
   "cell_type": "code",
   "execution_count": 10,
   "metadata": {},
   "outputs": [],
   "source": [
    "import qlib\n",
    "from qlib.data import D"
   ]
  },
  {
   "cell_type": "code",
   "execution_count": 11,
   "metadata": {},
   "outputs": [
    {
     "output_type": "stream",
     "name": "stderr",
     "text": [
      "[6976:MainThread](2021-01-10 21:18:52,323) INFO - qlib.Initialization - [__init__.py:42] - default_conf: client.\n",
      "[6976:MainThread](2021-01-10 21:18:54,358) WARNING - qlib.Initialization - [__init__.py:57] - redis connection failed(host=127.0.0.1 port=6379), cache will not be used!\n",
      "[6976:MainThread](2021-01-10 21:18:54,362) INFO - qlib.Initialization - [__init__.py:77] - qlib successfully initialized based on client settings.\n",
      "[6976:MainThread](2021-01-10 21:18:54,366) INFO - qlib.Initialization - [__init__.py:80] - data_path=C:\\Users\\yin\\source\\repos\\data-mining\\stock-prediction\\data\\qlib_data\\sh000001_data\n"
     ]
    }
   ],
   "source": [
    "provider_uri = './data/qlib_data/sh000001_data'\n",
    "\n",
    "qlib.init(provider_uri=provider_uri)"
   ]
  },
  {
   "cell_type": "code",
   "execution_count": 12,
   "metadata": {},
   "outputs": [
    {
     "output_type": "execute_result",
     "data": {
      "text/plain": [
       "                            $open      $close       $high        $low  \\\n",
       "instrument datetime                                                     \n",
       "SH000001   1990-12-20  104.300003  104.389999  104.389999   99.980003   \n",
       "           1990-12-21  109.070000  109.129997  109.129997  103.730003   \n",
       "           1990-12-24  113.570000  114.550003  114.550003  109.129997   \n",
       "           1990-12-25  120.089996  120.250000  120.250000  114.550003   \n",
       "           1990-12-26  125.269997  125.269997  125.269997  120.250000   \n",
       "\n",
       "                       $pre_close  $change  $pct_chg  $volume  $amount  \n",
       "instrument datetime                                                     \n",
       "SH000001   1990-12-20   99.980003     4.41    4.4109    197.0  84000.0  \n",
       "           1990-12-21  104.389999     4.74    4.5407     28.0  16000.0  \n",
       "           1990-12-24  109.129997     5.42    4.9666     32.0  31000.0  \n",
       "           1990-12-25  114.550003     5.70    4.9760     15.0   6000.0  \n",
       "           1990-12-26  120.250000     5.02    4.1746    100.0  53000.0  "
      ],
      "text/html": "<div>\n<style scoped>\n    .dataframe tbody tr th:only-of-type {\n        vertical-align: middle;\n    }\n\n    .dataframe tbody tr th {\n        vertical-align: top;\n    }\n\n    .dataframe thead th {\n        text-align: right;\n    }\n</style>\n<table border=\"1\" class=\"dataframe\">\n  <thead>\n    <tr style=\"text-align: right;\">\n      <th></th>\n      <th></th>\n      <th>$open</th>\n      <th>$close</th>\n      <th>$high</th>\n      <th>$low</th>\n      <th>$pre_close</th>\n      <th>$change</th>\n      <th>$pct_chg</th>\n      <th>$volume</th>\n      <th>$amount</th>\n    </tr>\n    <tr>\n      <th>instrument</th>\n      <th>datetime</th>\n      <th></th>\n      <th></th>\n      <th></th>\n      <th></th>\n      <th></th>\n      <th></th>\n      <th></th>\n      <th></th>\n      <th></th>\n    </tr>\n  </thead>\n  <tbody>\n    <tr>\n      <th rowspan=\"5\" valign=\"top\">SH000001</th>\n      <th>1990-12-20</th>\n      <td>104.300003</td>\n      <td>104.389999</td>\n      <td>104.389999</td>\n      <td>99.980003</td>\n      <td>99.980003</td>\n      <td>4.41</td>\n      <td>4.4109</td>\n      <td>197.0</td>\n      <td>84000.0</td>\n    </tr>\n    <tr>\n      <th>1990-12-21</th>\n      <td>109.070000</td>\n      <td>109.129997</td>\n      <td>109.129997</td>\n      <td>103.730003</td>\n      <td>104.389999</td>\n      <td>4.74</td>\n      <td>4.5407</td>\n      <td>28.0</td>\n      <td>16000.0</td>\n    </tr>\n    <tr>\n      <th>1990-12-24</th>\n      <td>113.570000</td>\n      <td>114.550003</td>\n      <td>114.550003</td>\n      <td>109.129997</td>\n      <td>109.129997</td>\n      <td>5.42</td>\n      <td>4.9666</td>\n      <td>32.0</td>\n      <td>31000.0</td>\n    </tr>\n    <tr>\n      <th>1990-12-25</th>\n      <td>120.089996</td>\n      <td>120.250000</td>\n      <td>120.250000</td>\n      <td>114.550003</td>\n      <td>114.550003</td>\n      <td>5.70</td>\n      <td>4.9760</td>\n      <td>15.0</td>\n      <td>6000.0</td>\n    </tr>\n    <tr>\n      <th>1990-12-26</th>\n      <td>125.269997</td>\n      <td>125.269997</td>\n      <td>125.269997</td>\n      <td>120.250000</td>\n      <td>120.250000</td>\n      <td>5.02</td>\n      <td>4.1746</td>\n      <td>100.0</td>\n      <td>53000.0</td>\n    </tr>\n  </tbody>\n</table>\n</div>"
     },
     "metadata": {},
     "execution_count": 12
    }
   ],
   "source": [
    "fields = [\"$open\", \"$close\", \"$high\", \"$low\", \"$pre_close\", \"$change\", \"$pct_chg\", \"$volume\", \"$amount\"]\n",
    "df = D.features(D.instruments('all'), fields)\n",
    "df.head()"
   ]
  }
 ]
}