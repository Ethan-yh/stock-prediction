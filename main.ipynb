{
 "metadata": {
  "language_info": {
   "codemirror_mode": {
    "name": "ipython",
    "version": 3
   },
   "file_extension": ".py",
   "mimetype": "text/x-python",
   "name": "python",
   "nbconvert_exporter": "python",
   "pygments_lexer": "ipython3",
   "version": "3.8.5-final"
  },
  "orig_nbformat": 2,
  "kernelspec": {
   "name": "python3",
   "display_name": "Python 3",
   "language": "python"
  }
 },
 "nbformat": 4,
 "nbformat_minor": 2,
 "cells": [
  {
   "cell_type": "code",
   "execution_count": 34,
   "metadata": {},
   "outputs": [],
   "source": [
    "import pandas as pd\n",
    "import numpy as np\n",
    "import lightgbm as lgb\n",
    "from sklearn.model_selection import KFold, train_test_split\n",
    "from sklearn.metrics import accuracy_score, f1_score, confusion_matrix, classification_report, roc_auc_score\n",
    "import talib as ta\n"
   ]
  },
  {
   "source": [
    "# 数据加载"
   ],
   "cell_type": "markdown",
   "metadata": {}
  },
  {
   "cell_type": "code",
   "execution_count": 35,
   "metadata": {},
   "outputs": [
    {
     "output_type": "execute_result",
     "data": {
      "text/plain": [
       "              symbol      close       high        low       open  pre_close  \\\n",
       "date                                                                          \n",
       "1990-12-20  SH000001   104.3900   104.3900    99.9800   104.3000    99.9800   \n",
       "1990-12-21  SH000001   109.1300   109.1300   103.7300   109.0700   104.3900   \n",
       "1990-12-24  SH000001   114.5500   114.5500   109.1300   113.5700   109.1300   \n",
       "1990-12-25  SH000001   120.2500   120.2500   114.5500   120.0900   114.5500   \n",
       "1990-12-26  SH000001   125.2700   125.2700   120.2500   125.2700   120.2500   \n",
       "...              ...        ...        ...        ...        ...        ...   \n",
       "2021-01-04  SH000001  3502.9584  3511.6554  3457.2061  3474.6793  3473.0693   \n",
       "2021-01-05  SH000001  3528.6767  3528.6767  3484.7151  3492.1912  3502.9584   \n",
       "2021-01-06  SH000001  3550.8767  3556.8022  3513.1262  3530.9072  3528.6767   \n",
       "2021-01-07  SH000001  3576.2046  3576.2046  3526.6174  3552.9087  3550.8767   \n",
       "2021-01-08  SH000001  3570.1082  3588.0625  3544.8912  3577.6923  3576.2046   \n",
       "\n",
       "             change  pct_chg     volume        amount  label  \n",
       "date                                                          \n",
       "1990-12-20   4.4100   4.4109        197  8.400000e+04      1  \n",
       "1990-12-21   4.7400   4.5407         28  1.600000e+04      1  \n",
       "1990-12-24   5.4200   4.9666         32  3.100000e+04      1  \n",
       "1990-12-25   5.7000   4.9760         15  6.000000e+03      1  \n",
       "1990-12-26   5.0200   4.1746        100  5.300000e+04      1  \n",
       "...             ...      ...        ...           ...    ...  \n",
       "2021-01-04  29.8891   0.8606  380790800  5.230000e+11      1  \n",
       "2021-01-05  25.7183   0.7342  407995934  5.680000e+11      1  \n",
       "2021-01-06  22.2000   0.6291  370230926  5.220000e+11      1  \n",
       "2021-01-07  25.3279   0.7133  405348226  5.460000e+11      0  \n",
       "2021-01-08  -6.0964  -0.1705  345557896  5.020000e+11      0  \n",
       "\n",
       "[7337 rows x 11 columns]"
      ],
      "text/html": "<div>\n<style scoped>\n    .dataframe tbody tr th:only-of-type {\n        vertical-align: middle;\n    }\n\n    .dataframe tbody tr th {\n        vertical-align: top;\n    }\n\n    .dataframe thead th {\n        text-align: right;\n    }\n</style>\n<table border=\"1\" class=\"dataframe\">\n  <thead>\n    <tr style=\"text-align: right;\">\n      <th></th>\n      <th>symbol</th>\n      <th>close</th>\n      <th>high</th>\n      <th>low</th>\n      <th>open</th>\n      <th>pre_close</th>\n      <th>change</th>\n      <th>pct_chg</th>\n      <th>volume</th>\n      <th>amount</th>\n      <th>label</th>\n    </tr>\n    <tr>\n      <th>date</th>\n      <th></th>\n      <th></th>\n      <th></th>\n      <th></th>\n      <th></th>\n      <th></th>\n      <th></th>\n      <th></th>\n      <th></th>\n      <th></th>\n      <th></th>\n    </tr>\n  </thead>\n  <tbody>\n    <tr>\n      <th>1990-12-20</th>\n      <td>SH000001</td>\n      <td>104.3900</td>\n      <td>104.3900</td>\n      <td>99.9800</td>\n      <td>104.3000</td>\n      <td>99.9800</td>\n      <td>4.4100</td>\n      <td>4.4109</td>\n      <td>197</td>\n      <td>8.400000e+04</td>\n      <td>1</td>\n    </tr>\n    <tr>\n      <th>1990-12-21</th>\n      <td>SH000001</td>\n      <td>109.1300</td>\n      <td>109.1300</td>\n      <td>103.7300</td>\n      <td>109.0700</td>\n      <td>104.3900</td>\n      <td>4.7400</td>\n      <td>4.5407</td>\n      <td>28</td>\n      <td>1.600000e+04</td>\n      <td>1</td>\n    </tr>\n    <tr>\n      <th>1990-12-24</th>\n      <td>SH000001</td>\n      <td>114.5500</td>\n      <td>114.5500</td>\n      <td>109.1300</td>\n      <td>113.5700</td>\n      <td>109.1300</td>\n      <td>5.4200</td>\n      <td>4.9666</td>\n      <td>32</td>\n      <td>3.100000e+04</td>\n      <td>1</td>\n    </tr>\n    <tr>\n      <th>1990-12-25</th>\n      <td>SH000001</td>\n      <td>120.2500</td>\n      <td>120.2500</td>\n      <td>114.5500</td>\n      <td>120.0900</td>\n      <td>114.5500</td>\n      <td>5.7000</td>\n      <td>4.9760</td>\n      <td>15</td>\n      <td>6.000000e+03</td>\n      <td>1</td>\n    </tr>\n    <tr>\n      <th>1990-12-26</th>\n      <td>SH000001</td>\n      <td>125.2700</td>\n      <td>125.2700</td>\n      <td>120.2500</td>\n      <td>125.2700</td>\n      <td>120.2500</td>\n      <td>5.0200</td>\n      <td>4.1746</td>\n      <td>100</td>\n      <td>5.300000e+04</td>\n      <td>1</td>\n    </tr>\n    <tr>\n      <th>...</th>\n      <td>...</td>\n      <td>...</td>\n      <td>...</td>\n      <td>...</td>\n      <td>...</td>\n      <td>...</td>\n      <td>...</td>\n      <td>...</td>\n      <td>...</td>\n      <td>...</td>\n      <td>...</td>\n    </tr>\n    <tr>\n      <th>2021-01-04</th>\n      <td>SH000001</td>\n      <td>3502.9584</td>\n      <td>3511.6554</td>\n      <td>3457.2061</td>\n      <td>3474.6793</td>\n      <td>3473.0693</td>\n      <td>29.8891</td>\n      <td>0.8606</td>\n      <td>380790800</td>\n      <td>5.230000e+11</td>\n      <td>1</td>\n    </tr>\n    <tr>\n      <th>2021-01-05</th>\n      <td>SH000001</td>\n      <td>3528.6767</td>\n      <td>3528.6767</td>\n      <td>3484.7151</td>\n      <td>3492.1912</td>\n      <td>3502.9584</td>\n      <td>25.7183</td>\n      <td>0.7342</td>\n      <td>407995934</td>\n      <td>5.680000e+11</td>\n      <td>1</td>\n    </tr>\n    <tr>\n      <th>2021-01-06</th>\n      <td>SH000001</td>\n      <td>3550.8767</td>\n      <td>3556.8022</td>\n      <td>3513.1262</td>\n      <td>3530.9072</td>\n      <td>3528.6767</td>\n      <td>22.2000</td>\n      <td>0.6291</td>\n      <td>370230926</td>\n      <td>5.220000e+11</td>\n      <td>1</td>\n    </tr>\n    <tr>\n      <th>2021-01-07</th>\n      <td>SH000001</td>\n      <td>3576.2046</td>\n      <td>3576.2046</td>\n      <td>3526.6174</td>\n      <td>3552.9087</td>\n      <td>3550.8767</td>\n      <td>25.3279</td>\n      <td>0.7133</td>\n      <td>405348226</td>\n      <td>5.460000e+11</td>\n      <td>0</td>\n    </tr>\n    <tr>\n      <th>2021-01-08</th>\n      <td>SH000001</td>\n      <td>3570.1082</td>\n      <td>3588.0625</td>\n      <td>3544.8912</td>\n      <td>3577.6923</td>\n      <td>3576.2046</td>\n      <td>-6.0964</td>\n      <td>-0.1705</td>\n      <td>345557896</td>\n      <td>5.020000e+11</td>\n      <td>0</td>\n    </tr>\n  </tbody>\n</table>\n<p>7337 rows × 11 columns</p>\n</div>"
     },
     "metadata": {},
     "execution_count": 35
    }
   ],
   "source": [
    "# 原始数据\n",
    "data_path = './data/pre/SH000001.csv'\n",
    "df = pd.read_csv(data_path, index_col=0)\n",
    "df"
   ]
  },
  {
   "source": [
    "# 加入特征"
   ],
   "cell_type": "markdown",
   "metadata": {}
  },
  {
   "cell_type": "code",
   "execution_count": 36,
   "metadata": {},
   "outputs": [
    {
     "output_type": "execute_result",
     "data": {
      "text/plain": [
       "              symbol      close       high        low       open  pre_close  \\\n",
       "date                                                                          \n",
       "1990-12-20  SH000001   104.3900   104.3900    99.9800   104.3000    99.9800   \n",
       "1990-12-21  SH000001   109.1300   109.1300   103.7300   109.0700   104.3900   \n",
       "1990-12-24  SH000001   114.5500   114.5500   109.1300   113.5700   109.1300   \n",
       "1990-12-25  SH000001   120.2500   120.2500   114.5500   120.0900   114.5500   \n",
       "1990-12-26  SH000001   125.2700   125.2700   120.2500   125.2700   120.2500   \n",
       "...              ...        ...        ...        ...        ...        ...   \n",
       "2021-01-04  SH000001  3502.9584  3511.6554  3457.2061  3474.6793  3473.0693   \n",
       "2021-01-05  SH000001  3528.6767  3528.6767  3484.7151  3492.1912  3502.9584   \n",
       "2021-01-06  SH000001  3550.8767  3556.8022  3513.1262  3530.9072  3528.6767   \n",
       "2021-01-07  SH000001  3576.2046  3576.2046  3526.6174  3552.9087  3550.8767   \n",
       "2021-01-08  SH000001  3570.1082  3588.0625  3544.8912  3577.6923  3576.2046   \n",
       "\n",
       "             change  pct_chg     volume        amount  ...    LOWERBAND  \\\n",
       "date                                                   ...                \n",
       "1990-12-20   4.4100   4.4109        197  8.400000e+04  ...          NaN   \n",
       "1990-12-21   4.7400   4.5407         28  1.600000e+04  ...          NaN   \n",
       "1990-12-24   5.4200   4.9666         32  3.100000e+04  ...          NaN   \n",
       "1990-12-25   5.7000   4.9760         15  6.000000e+03  ...          NaN   \n",
       "1990-12-26   5.0200   4.1746        100  5.300000e+04  ...    99.754864   \n",
       "...             ...      ...        ...           ...  ...          ...   \n",
       "2021-01-04  29.8891   0.8606  380790800  5.230000e+11  ...  3339.421255   \n",
       "2021-01-05  25.7183   0.7342  407995934  5.680000e+11  ...  3348.781056   \n",
       "2021-01-06  22.2000   0.6291  370230926  5.220000e+11  ...  3398.997066   \n",
       "2021-01-07  25.3279   0.7133  405348226  5.460000e+11  ...  3454.365733   \n",
       "2021-01-08  -6.0964  -0.1705  345557896  5.020000e+11  ...  3491.582228   \n",
       "\n",
       "                 RSI6      RSI12      RSI24          EMA      NATR  \\\n",
       "date                                                                 \n",
       "1990-12-20        NaN        NaN        NaN          NaN       NaN   \n",
       "1990-12-21        NaN        NaN        NaN          NaN       NaN   \n",
       "1990-12-24        NaN        NaN        NaN          NaN       NaN   \n",
       "1990-12-25        NaN        NaN        NaN          NaN       NaN   \n",
       "1990-12-26        NaN        NaN        NaN          NaN       NaN   \n",
       "...               ...        ...        ...          ...       ...   \n",
       "2021-01-04  77.932831  67.823903  61.407759  3423.254038  1.188239   \n",
       "2021-01-05  81.207047  70.496011  63.127443  3442.421795  1.184311   \n",
       "2021-01-06  83.710605  72.635944  64.550280  3462.140869  1.180700   \n",
       "2021-01-07  86.223278  74.901631  66.107278  3482.879729  1.187641   \n",
       "2021-01-08  82.545545  73.307835  65.385976  3498.739451  1.191067   \n",
       "\n",
       "            CDL3OUTSIDE   TRANGE  CDLBELTHOLD  CDLCLOSINGMARUBOZU  \n",
       "date                                                               \n",
       "1990-12-20            0      NaN            0                   0  \n",
       "1990-12-21            0   5.4000            0                   0  \n",
       "1990-12-24            0   5.4200            0                   0  \n",
       "1990-12-25            0   5.7000            0                   0  \n",
       "1990-12-26            0   5.0200            0                   0  \n",
       "...                 ...      ...          ...                 ...  \n",
       "2021-01-04            0  54.4493            0                   0  \n",
       "2021-01-05            0  43.9616            0                 100  \n",
       "2021-01-06            0  43.6760            0                   0  \n",
       "2021-01-07            0  49.5872            0                   0  \n",
       "2021-01-08            0  43.1713            0                   0  \n",
       "\n",
       "[7337 rows x 39 columns]"
      ],
      "text/html": "<div>\n<style scoped>\n    .dataframe tbody tr th:only-of-type {\n        vertical-align: middle;\n    }\n\n    .dataframe tbody tr th {\n        vertical-align: top;\n    }\n\n    .dataframe thead th {\n        text-align: right;\n    }\n</style>\n<table border=\"1\" class=\"dataframe\">\n  <thead>\n    <tr style=\"text-align: right;\">\n      <th></th>\n      <th>symbol</th>\n      <th>close</th>\n      <th>high</th>\n      <th>low</th>\n      <th>open</th>\n      <th>pre_close</th>\n      <th>change</th>\n      <th>pct_chg</th>\n      <th>volume</th>\n      <th>amount</th>\n      <th>...</th>\n      <th>LOWERBAND</th>\n      <th>RSI6</th>\n      <th>RSI12</th>\n      <th>RSI24</th>\n      <th>EMA</th>\n      <th>NATR</th>\n      <th>CDL3OUTSIDE</th>\n      <th>TRANGE</th>\n      <th>CDLBELTHOLD</th>\n      <th>CDLCLOSINGMARUBOZU</th>\n    </tr>\n    <tr>\n      <th>date</th>\n      <th></th>\n      <th></th>\n      <th></th>\n      <th></th>\n      <th></th>\n      <th></th>\n      <th></th>\n      <th></th>\n      <th></th>\n      <th></th>\n      <th></th>\n      <th></th>\n      <th></th>\n      <th></th>\n      <th></th>\n      <th></th>\n      <th></th>\n      <th></th>\n      <th></th>\n      <th></th>\n      <th></th>\n    </tr>\n  </thead>\n  <tbody>\n    <tr>\n      <th>1990-12-20</th>\n      <td>SH000001</td>\n      <td>104.3900</td>\n      <td>104.3900</td>\n      <td>99.9800</td>\n      <td>104.3000</td>\n      <td>99.9800</td>\n      <td>4.4100</td>\n      <td>4.4109</td>\n      <td>197</td>\n      <td>8.400000e+04</td>\n      <td>...</td>\n      <td>NaN</td>\n      <td>NaN</td>\n      <td>NaN</td>\n      <td>NaN</td>\n      <td>NaN</td>\n      <td>NaN</td>\n      <td>0</td>\n      <td>NaN</td>\n      <td>0</td>\n      <td>0</td>\n    </tr>\n    <tr>\n      <th>1990-12-21</th>\n      <td>SH000001</td>\n      <td>109.1300</td>\n      <td>109.1300</td>\n      <td>103.7300</td>\n      <td>109.0700</td>\n      <td>104.3900</td>\n      <td>4.7400</td>\n      <td>4.5407</td>\n      <td>28</td>\n      <td>1.600000e+04</td>\n      <td>...</td>\n      <td>NaN</td>\n      <td>NaN</td>\n      <td>NaN</td>\n      <td>NaN</td>\n      <td>NaN</td>\n      <td>NaN</td>\n      <td>0</td>\n      <td>5.4000</td>\n      <td>0</td>\n      <td>0</td>\n    </tr>\n    <tr>\n      <th>1990-12-24</th>\n      <td>SH000001</td>\n      <td>114.5500</td>\n      <td>114.5500</td>\n      <td>109.1300</td>\n      <td>113.5700</td>\n      <td>109.1300</td>\n      <td>5.4200</td>\n      <td>4.9666</td>\n      <td>32</td>\n      <td>3.100000e+04</td>\n      <td>...</td>\n      <td>NaN</td>\n      <td>NaN</td>\n      <td>NaN</td>\n      <td>NaN</td>\n      <td>NaN</td>\n      <td>NaN</td>\n      <td>0</td>\n      <td>5.4200</td>\n      <td>0</td>\n      <td>0</td>\n    </tr>\n    <tr>\n      <th>1990-12-25</th>\n      <td>SH000001</td>\n      <td>120.2500</td>\n      <td>120.2500</td>\n      <td>114.5500</td>\n      <td>120.0900</td>\n      <td>114.5500</td>\n      <td>5.7000</td>\n      <td>4.9760</td>\n      <td>15</td>\n      <td>6.000000e+03</td>\n      <td>...</td>\n      <td>NaN</td>\n      <td>NaN</td>\n      <td>NaN</td>\n      <td>NaN</td>\n      <td>NaN</td>\n      <td>NaN</td>\n      <td>0</td>\n      <td>5.7000</td>\n      <td>0</td>\n      <td>0</td>\n    </tr>\n    <tr>\n      <th>1990-12-26</th>\n      <td>SH000001</td>\n      <td>125.2700</td>\n      <td>125.2700</td>\n      <td>120.2500</td>\n      <td>125.2700</td>\n      <td>120.2500</td>\n      <td>5.0200</td>\n      <td>4.1746</td>\n      <td>100</td>\n      <td>5.300000e+04</td>\n      <td>...</td>\n      <td>99.754864</td>\n      <td>NaN</td>\n      <td>NaN</td>\n      <td>NaN</td>\n      <td>NaN</td>\n      <td>NaN</td>\n      <td>0</td>\n      <td>5.0200</td>\n      <td>0</td>\n      <td>0</td>\n    </tr>\n    <tr>\n      <th>...</th>\n      <td>...</td>\n      <td>...</td>\n      <td>...</td>\n      <td>...</td>\n      <td>...</td>\n      <td>...</td>\n      <td>...</td>\n      <td>...</td>\n      <td>...</td>\n      <td>...</td>\n      <td>...</td>\n      <td>...</td>\n      <td>...</td>\n      <td>...</td>\n      <td>...</td>\n      <td>...</td>\n      <td>...</td>\n      <td>...</td>\n      <td>...</td>\n      <td>...</td>\n      <td>...</td>\n    </tr>\n    <tr>\n      <th>2021-01-04</th>\n      <td>SH000001</td>\n      <td>3502.9584</td>\n      <td>3511.6554</td>\n      <td>3457.2061</td>\n      <td>3474.6793</td>\n      <td>3473.0693</td>\n      <td>29.8891</td>\n      <td>0.8606</td>\n      <td>380790800</td>\n      <td>5.230000e+11</td>\n      <td>...</td>\n      <td>3339.421255</td>\n      <td>77.932831</td>\n      <td>67.823903</td>\n      <td>61.407759</td>\n      <td>3423.254038</td>\n      <td>1.188239</td>\n      <td>0</td>\n      <td>54.4493</td>\n      <td>0</td>\n      <td>0</td>\n    </tr>\n    <tr>\n      <th>2021-01-05</th>\n      <td>SH000001</td>\n      <td>3528.6767</td>\n      <td>3528.6767</td>\n      <td>3484.7151</td>\n      <td>3492.1912</td>\n      <td>3502.9584</td>\n      <td>25.7183</td>\n      <td>0.7342</td>\n      <td>407995934</td>\n      <td>5.680000e+11</td>\n      <td>...</td>\n      <td>3348.781056</td>\n      <td>81.207047</td>\n      <td>70.496011</td>\n      <td>63.127443</td>\n      <td>3442.421795</td>\n      <td>1.184311</td>\n      <td>0</td>\n      <td>43.9616</td>\n      <td>0</td>\n      <td>100</td>\n    </tr>\n    <tr>\n      <th>2021-01-06</th>\n      <td>SH000001</td>\n      <td>3550.8767</td>\n      <td>3556.8022</td>\n      <td>3513.1262</td>\n      <td>3530.9072</td>\n      <td>3528.6767</td>\n      <td>22.2000</td>\n      <td>0.6291</td>\n      <td>370230926</td>\n      <td>5.220000e+11</td>\n      <td>...</td>\n      <td>3398.997066</td>\n      <td>83.710605</td>\n      <td>72.635944</td>\n      <td>64.550280</td>\n      <td>3462.140869</td>\n      <td>1.180700</td>\n      <td>0</td>\n      <td>43.6760</td>\n      <td>0</td>\n      <td>0</td>\n    </tr>\n    <tr>\n      <th>2021-01-07</th>\n      <td>SH000001</td>\n      <td>3576.2046</td>\n      <td>3576.2046</td>\n      <td>3526.6174</td>\n      <td>3552.9087</td>\n      <td>3550.8767</td>\n      <td>25.3279</td>\n      <td>0.7133</td>\n      <td>405348226</td>\n      <td>5.460000e+11</td>\n      <td>...</td>\n      <td>3454.365733</td>\n      <td>86.223278</td>\n      <td>74.901631</td>\n      <td>66.107278</td>\n      <td>3482.879729</td>\n      <td>1.187641</td>\n      <td>0</td>\n      <td>49.5872</td>\n      <td>0</td>\n      <td>0</td>\n    </tr>\n    <tr>\n      <th>2021-01-08</th>\n      <td>SH000001</td>\n      <td>3570.1082</td>\n      <td>3588.0625</td>\n      <td>3544.8912</td>\n      <td>3577.6923</td>\n      <td>3576.2046</td>\n      <td>-6.0964</td>\n      <td>-0.1705</td>\n      <td>345557896</td>\n      <td>5.020000e+11</td>\n      <td>...</td>\n      <td>3491.582228</td>\n      <td>82.545545</td>\n      <td>73.307835</td>\n      <td>65.385976</td>\n      <td>3498.739451</td>\n      <td>1.191067</td>\n      <td>0</td>\n      <td>43.1713</td>\n      <td>0</td>\n      <td>0</td>\n    </tr>\n  </tbody>\n</table>\n<p>7337 rows × 39 columns</p>\n</div>"
     },
     "metadata": {},
     "execution_count": 36
    }
   ],
   "source": [
    "df['ADX'] = ta.ADX(df['high'], df['low'], df['close'], timeperiod=14)\n",
    "df['ADXR'] = ta.ADXR(df['high'], df['low'], df['close'], timeperiod=14)\n",
    "df['AROONDOWN'], df['AROONUP'] = ta.AROON(df['high'], df['low'], timeperiod=14)\n",
    "df['AROONOSC'] = ta.AROONOSC(df['high'], df['low'], timeperiod=14)\n",
    "df['ULTOSC'] = ta.ULTOSC(df['high'], df['low'], df['close'], timeperiod1=7, timeperiod2=14, timeperiod3=28)\n",
    "df['MA5'] = ta.MA(df['close'], timeperiod=5, matype=0)\n",
    "df['MA10'] = ta.MA(df['close'], timeperiod=10, matype=0)\n",
    "df['MA20'] = ta.MA(df['close'], timeperiod=20, matype=0)\n",
    "df['MA30'] = ta.MA(df['close'], timeperiod=30, matype=0)\n",
    "df['MA60'] = ta.MA(df['close'], timeperiod=60, matype=0)\n",
    "\n",
    "df['K'] , df['D']= ta.STOCHF(df['high'], df['low'], df['close'], fastk_period=5, fastd_period=3, fastd_matype=0)\n",
    "\n",
    "df['DIF'], df['DEM'], df['HISTOGRAM'] = ta.MACD(df['close'], fastperiod=12, slowperiod=26, signalperiod=9)\n",
    "\n",
    "# 布林线\n",
    "df['UPPERBAND'], df['MIDDLEBAND'], df['LOWERBAND'] = ta.BBANDS(df['close'], timeperiod=5, nbdevup=2, nbdevdn=2, matype=0)\n",
    "\n",
    "df['RSI6'] = ta.RSI(df['close'], timeperiod=6)\n",
    "df['RSI12'] = ta.RSI(df['close'], timeperiod=12)\n",
    "df['RSI24'] = ta.RSI(df['close'], timeperiod=24)\n",
    "\n",
    "df['EMA'] = ta.EMA(df['close'], timeperiod=10)\n",
    "df['NATR'] = ta.NATR(df['high'], df['low'], df['close'], timeperiod=14)\n",
    "df['CDL3OUTSIDE'] = ta.CDL3OUTSIDE(df['open'], df['high'], df['low'], df['close'])\n",
    "df['TRANGE'] = ta.TRANGE(df['high'], df['low'], df['close'])\n",
    "\n",
    "# 形态模式\n",
    "df['CDLBELTHOLD'] = ta.CDLBELTHOLD(df['open'], df['high'], df['low'], df['close'])\n",
    "df['CDLCLOSINGMARUBOZU'] = ta.CDLCLOSINGMARUBOZU(df['open'], df['high'], df['low'], df['close'])\n",
    "\n",
    "\n",
    "df"
   ]
  },
  {
   "cell_type": "code",
   "execution_count": 37,
   "metadata": {},
   "outputs": [
    {
     "output_type": "execute_result",
     "data": {
      "text/plain": [
       "              symbol      close       high        low       open  pre_close  \\\n",
       "date                                                                          \n",
       "2016-01-04  SH000001  3296.2580  3538.6890  3295.7410  3536.5890  3539.1820   \n",
       "2016-01-05  SH000001  3287.7110  3328.1390  3189.6050  3196.6510  3296.2580   \n",
       "2016-01-06  SH000001  3361.8400  3362.9740  3288.9330  3291.1950  3287.7110   \n",
       "2016-01-07  SH000001  3125.0020  3309.6570  3115.8850  3309.6570  3361.8400   \n",
       "2016-01-08  SH000001  3186.4120  3235.4510  3056.8780  3194.6250  3125.0020   \n",
       "...              ...        ...        ...        ...        ...        ...   \n",
       "2020-11-24  SH000001  3402.8225  3413.9263  3396.2436  3407.4087  3414.4899   \n",
       "2020-11-25  SH000001  3362.3274  3423.4853  3362.3274  3417.5150  3402.8225   \n",
       "2020-11-26  SH000001  3369.7334  3371.4537  3344.2822  3360.0609  3362.3274   \n",
       "2020-11-27  SH000001  3408.3071  3408.3071  3364.4919  3373.8434  3369.7334   \n",
       "2020-11-30  SH000001  3391.7551  3456.7365  3391.7551  3418.1583  3408.3071   \n",
       "\n",
       "              change  pct_chg     volume        amount  ...    LOWERBAND  \\\n",
       "date                                                    ...                \n",
       "2016-01-04 -242.9240  -6.8638  184418423  2.410000e+11  ...  3294.181289   \n",
       "2016-01-05   -8.5470  -0.2593  266882083  3.280000e+11  ...  3189.741880   \n",
       "2016-01-06   74.1290   2.2547  238886670  2.850000e+11  ...  3169.225831   \n",
       "2016-01-07 -236.8380  -7.0449   70569123  7.998199e+10  ...  3054.563606   \n",
       "2016-01-08   61.4100   1.9651  286440822  3.240000e+11  ...  3082.382228   \n",
       "...              ...      ...        ...           ...  ...          ...   \n",
       "2020-11-24  -11.6674  -0.3417  300994144  3.600000e+11  ...  3331.570064   \n",
       "2020-11-25  -40.4951  -1.1900  322110207  3.830000e+11  ...  3341.850899   \n",
       "2020-11-26    7.4060   0.2203  255886822  3.170000e+11  ...  3345.555905   \n",
       "2020-11-27   38.5737   1.1447  280649894  3.260000e+11  ...  3348.977563   \n",
       "2020-11-30  -16.5520  -0.4856  384989968  4.550000e+11  ...  3350.835792   \n",
       "\n",
       "                 RSI6      RSI12      RSI24          EMA      NATR  \\\n",
       "date                                                                 \n",
       "2016-01-04  15.963421  28.672971  39.698774  3521.130646  2.276708   \n",
       "2016-01-05  15.567306  28.244298  39.389240  3478.690711  2.420560   \n",
       "2016-01-06  32.897056  37.136602  43.384316  3457.445127  2.358012   \n",
       "2016-01-07  18.410004  25.934715  35.568306  3397.000922  2.917709   \n",
       "2016-01-08  28.242410  31.757370  38.563006  3358.712027  3.057387   \n",
       "...               ...        ...        ...          ...       ...   \n",
       "2020-11-24  70.947945  64.554994  58.410928  3365.134619  1.105950   \n",
       "2020-11-25  50.137992  54.712472  54.128854  3364.624216  1.169245   \n",
       "2020-11-26  53.153568  56.049409  54.761747  3365.553158  1.140937   \n",
       "2020-11-27  66.003988  62.362591  57.917368  3373.326602  1.139275   \n",
       "2020-11-30  57.834939  58.433491  56.163192  3376.677238  1.199908   \n",
       "\n",
       "            CDL3OUTSIDE    TRANGE  CDLBELTHOLD  CDLCLOSINGMARUBOZU  \n",
       "date                                                                \n",
       "2016-01-04            0  243.4410         -100                -100  \n",
       "2016-01-05            0  138.5340          100                   0  \n",
       "2016-01-06            0   75.2630          100                 100  \n",
       "2016-01-07            0  245.9550         -100                   0  \n",
       "2016-01-08            0  178.5730            0                   0  \n",
       "...                 ...       ...          ...                 ...  \n",
       "2020-11-24            0   18.2463            0                   0  \n",
       "2020-11-25            0   61.1579            0                -100  \n",
       "2020-11-26            0   27.1715            0                   0  \n",
       "2020-11-27            0   43.8152            0                 100  \n",
       "2020-11-30            0   64.9814            0                -100  \n",
       "\n",
       "[1195 rows x 39 columns]"
      ],
      "text/html": "<div>\n<style scoped>\n    .dataframe tbody tr th:only-of-type {\n        vertical-align: middle;\n    }\n\n    .dataframe tbody tr th {\n        vertical-align: top;\n    }\n\n    .dataframe thead th {\n        text-align: right;\n    }\n</style>\n<table border=\"1\" class=\"dataframe\">\n  <thead>\n    <tr style=\"text-align: right;\">\n      <th></th>\n      <th>symbol</th>\n      <th>close</th>\n      <th>high</th>\n      <th>low</th>\n      <th>open</th>\n      <th>pre_close</th>\n      <th>change</th>\n      <th>pct_chg</th>\n      <th>volume</th>\n      <th>amount</th>\n      <th>...</th>\n      <th>LOWERBAND</th>\n      <th>RSI6</th>\n      <th>RSI12</th>\n      <th>RSI24</th>\n      <th>EMA</th>\n      <th>NATR</th>\n      <th>CDL3OUTSIDE</th>\n      <th>TRANGE</th>\n      <th>CDLBELTHOLD</th>\n      <th>CDLCLOSINGMARUBOZU</th>\n    </tr>\n    <tr>\n      <th>date</th>\n      <th></th>\n      <th></th>\n      <th></th>\n      <th></th>\n      <th></th>\n      <th></th>\n      <th></th>\n      <th></th>\n      <th></th>\n      <th></th>\n      <th></th>\n      <th></th>\n      <th></th>\n      <th></th>\n      <th></th>\n      <th></th>\n      <th></th>\n      <th></th>\n      <th></th>\n      <th></th>\n      <th></th>\n    </tr>\n  </thead>\n  <tbody>\n    <tr>\n      <th>2016-01-04</th>\n      <td>SH000001</td>\n      <td>3296.2580</td>\n      <td>3538.6890</td>\n      <td>3295.7410</td>\n      <td>3536.5890</td>\n      <td>3539.1820</td>\n      <td>-242.9240</td>\n      <td>-6.8638</td>\n      <td>184418423</td>\n      <td>2.410000e+11</td>\n      <td>...</td>\n      <td>3294.181289</td>\n      <td>15.963421</td>\n      <td>28.672971</td>\n      <td>39.698774</td>\n      <td>3521.130646</td>\n      <td>2.276708</td>\n      <td>0</td>\n      <td>243.4410</td>\n      <td>-100</td>\n      <td>-100</td>\n    </tr>\n    <tr>\n      <th>2016-01-05</th>\n      <td>SH000001</td>\n      <td>3287.7110</td>\n      <td>3328.1390</td>\n      <td>3189.6050</td>\n      <td>3196.6510</td>\n      <td>3296.2580</td>\n      <td>-8.5470</td>\n      <td>-0.2593</td>\n      <td>266882083</td>\n      <td>3.280000e+11</td>\n      <td>...</td>\n      <td>3189.741880</td>\n      <td>15.567306</td>\n      <td>28.244298</td>\n      <td>39.389240</td>\n      <td>3478.690711</td>\n      <td>2.420560</td>\n      <td>0</td>\n      <td>138.5340</td>\n      <td>100</td>\n      <td>0</td>\n    </tr>\n    <tr>\n      <th>2016-01-06</th>\n      <td>SH000001</td>\n      <td>3361.8400</td>\n      <td>3362.9740</td>\n      <td>3288.9330</td>\n      <td>3291.1950</td>\n      <td>3287.7110</td>\n      <td>74.1290</td>\n      <td>2.2547</td>\n      <td>238886670</td>\n      <td>2.850000e+11</td>\n      <td>...</td>\n      <td>3169.225831</td>\n      <td>32.897056</td>\n      <td>37.136602</td>\n      <td>43.384316</td>\n      <td>3457.445127</td>\n      <td>2.358012</td>\n      <td>0</td>\n      <td>75.2630</td>\n      <td>100</td>\n      <td>100</td>\n    </tr>\n    <tr>\n      <th>2016-01-07</th>\n      <td>SH000001</td>\n      <td>3125.0020</td>\n      <td>3309.6570</td>\n      <td>3115.8850</td>\n      <td>3309.6570</td>\n      <td>3361.8400</td>\n      <td>-236.8380</td>\n      <td>-7.0449</td>\n      <td>70569123</td>\n      <td>7.998199e+10</td>\n      <td>...</td>\n      <td>3054.563606</td>\n      <td>18.410004</td>\n      <td>25.934715</td>\n      <td>35.568306</td>\n      <td>3397.000922</td>\n      <td>2.917709</td>\n      <td>0</td>\n      <td>245.9550</td>\n      <td>-100</td>\n      <td>0</td>\n    </tr>\n    <tr>\n      <th>2016-01-08</th>\n      <td>SH000001</td>\n      <td>3186.4120</td>\n      <td>3235.4510</td>\n      <td>3056.8780</td>\n      <td>3194.6250</td>\n      <td>3125.0020</td>\n      <td>61.4100</td>\n      <td>1.9651</td>\n      <td>286440822</td>\n      <td>3.240000e+11</td>\n      <td>...</td>\n      <td>3082.382228</td>\n      <td>28.242410</td>\n      <td>31.757370</td>\n      <td>38.563006</td>\n      <td>3358.712027</td>\n      <td>3.057387</td>\n      <td>0</td>\n      <td>178.5730</td>\n      <td>0</td>\n      <td>0</td>\n    </tr>\n    <tr>\n      <th>...</th>\n      <td>...</td>\n      <td>...</td>\n      <td>...</td>\n      <td>...</td>\n      <td>...</td>\n      <td>...</td>\n      <td>...</td>\n      <td>...</td>\n      <td>...</td>\n      <td>...</td>\n      <td>...</td>\n      <td>...</td>\n      <td>...</td>\n      <td>...</td>\n      <td>...</td>\n      <td>...</td>\n      <td>...</td>\n      <td>...</td>\n      <td>...</td>\n      <td>...</td>\n      <td>...</td>\n    </tr>\n    <tr>\n      <th>2020-11-24</th>\n      <td>SH000001</td>\n      <td>3402.8225</td>\n      <td>3413.9263</td>\n      <td>3396.2436</td>\n      <td>3407.4087</td>\n      <td>3414.4899</td>\n      <td>-11.6674</td>\n      <td>-0.3417</td>\n      <td>300994144</td>\n      <td>3.600000e+11</td>\n      <td>...</td>\n      <td>3331.570064</td>\n      <td>70.947945</td>\n      <td>64.554994</td>\n      <td>58.410928</td>\n      <td>3365.134619</td>\n      <td>1.105950</td>\n      <td>0</td>\n      <td>18.2463</td>\n      <td>0</td>\n      <td>0</td>\n    </tr>\n    <tr>\n      <th>2020-11-25</th>\n      <td>SH000001</td>\n      <td>3362.3274</td>\n      <td>3423.4853</td>\n      <td>3362.3274</td>\n      <td>3417.5150</td>\n      <td>3402.8225</td>\n      <td>-40.4951</td>\n      <td>-1.1900</td>\n      <td>322110207</td>\n      <td>3.830000e+11</td>\n      <td>...</td>\n      <td>3341.850899</td>\n      <td>50.137992</td>\n      <td>54.712472</td>\n      <td>54.128854</td>\n      <td>3364.624216</td>\n      <td>1.169245</td>\n      <td>0</td>\n      <td>61.1579</td>\n      <td>0</td>\n      <td>-100</td>\n    </tr>\n    <tr>\n      <th>2020-11-26</th>\n      <td>SH000001</td>\n      <td>3369.7334</td>\n      <td>3371.4537</td>\n      <td>3344.2822</td>\n      <td>3360.0609</td>\n      <td>3362.3274</td>\n      <td>7.4060</td>\n      <td>0.2203</td>\n      <td>255886822</td>\n      <td>3.170000e+11</td>\n      <td>...</td>\n      <td>3345.555905</td>\n      <td>53.153568</td>\n      <td>56.049409</td>\n      <td>54.761747</td>\n      <td>3365.553158</td>\n      <td>1.140937</td>\n      <td>0</td>\n      <td>27.1715</td>\n      <td>0</td>\n      <td>0</td>\n    </tr>\n    <tr>\n      <th>2020-11-27</th>\n      <td>SH000001</td>\n      <td>3408.3071</td>\n      <td>3408.3071</td>\n      <td>3364.4919</td>\n      <td>3373.8434</td>\n      <td>3369.7334</td>\n      <td>38.5737</td>\n      <td>1.1447</td>\n      <td>280649894</td>\n      <td>3.260000e+11</td>\n      <td>...</td>\n      <td>3348.977563</td>\n      <td>66.003988</td>\n      <td>62.362591</td>\n      <td>57.917368</td>\n      <td>3373.326602</td>\n      <td>1.139275</td>\n      <td>0</td>\n      <td>43.8152</td>\n      <td>0</td>\n      <td>100</td>\n    </tr>\n    <tr>\n      <th>2020-11-30</th>\n      <td>SH000001</td>\n      <td>3391.7551</td>\n      <td>3456.7365</td>\n      <td>3391.7551</td>\n      <td>3418.1583</td>\n      <td>3408.3071</td>\n      <td>-16.5520</td>\n      <td>-0.4856</td>\n      <td>384989968</td>\n      <td>4.550000e+11</td>\n      <td>...</td>\n      <td>3350.835792</td>\n      <td>57.834939</td>\n      <td>58.433491</td>\n      <td>56.163192</td>\n      <td>3376.677238</td>\n      <td>1.199908</td>\n      <td>0</td>\n      <td>64.9814</td>\n      <td>0</td>\n      <td>-100</td>\n    </tr>\n  </tbody>\n</table>\n<p>1195 rows × 39 columns</p>\n</div>"
     },
     "metadata": {},
     "execution_count": 37
    }
   ],
   "source": [
    "# 数据集划分\n",
    "train_start_time = '2016-01-01'\n",
    "train_end_time = '2020-11-30'\n",
    "valid_start_time = '2021-01-01'\n",
    "valid_end_time = '2021-01-07'\n",
    "test_start_time = '2020-12-01'\n",
    "test_end_time = '2020-12-31'\n",
    "train_df = df.loc[train_start_time:train_end_time]\n",
    "valid_df = df.loc[valid_start_time:valid_end_time]\n",
    "test_df = df.loc[test_start_time:test_end_time]\n",
    "train_df"
   ]
  },
  {
   "cell_type": "code",
   "execution_count": 38,
   "metadata": {},
   "outputs": [
    {
     "output_type": "execute_result",
     "data": {
      "text/plain": [
       "array([[3296.258 , 3538.689 , 3295.741 , ...,  243.441 , -100.    ,\n",
       "        -100.    ],\n",
       "       [3287.711 , 3328.139 , 3189.605 , ...,  138.534 ,  100.    ,\n",
       "           0.    ],\n",
       "       [3361.84  , 3362.974 , 3288.933 , ...,   75.263 ,  100.    ,\n",
       "         100.    ],\n",
       "       ...,\n",
       "       [3369.7334, 3371.4537, 3344.2822, ...,   27.1715,    0.    ,\n",
       "           0.    ],\n",
       "       [3408.3071, 3408.3071, 3364.4919, ...,   43.8152,    0.    ,\n",
       "         100.    ],\n",
       "       [3391.7551, 3456.7365, 3391.7551, ...,   64.9814,    0.    ,\n",
       "        -100.    ]])"
      ]
     },
     "metadata": {},
     "execution_count": 38
    }
   ],
   "source": [
    "# 选择特征\n",
    "all_features = ['close', 'high', 'low', 'open', 'pre_close', 'change', 'pct_chg', 'volume', 'amount', 'ADX', 'ADXR', 'AROONDOWN', 'AROONUP', 'AROONOSC', 'ULTOSC', 'MA5', 'MA10', 'MA20', 'MA30', 'MA60', 'K', 'D', 'DIF', 'DEM', 'HISTOGRAM', 'UPPERBAND', 'MIDDLEBAND', 'LOWERBAND', 'RSI6', 'RSI12', 'RSI24', 'EMA', 'NATR', 'CDL3OUTSIDE', 'TRANGE', 'CDLBELTHOLD', 'CDLCLOSINGMARUBOZU']\n",
    "\n",
    "selected_features = ['close', 'high', 'low', 'open', 'pre_close', 'change', 'pct_chg', 'amount', 'ADX', 'ADXR', 'AROONDOWN', 'AROONOSC', 'ULTOSC', 'MA5', 'MA10', 'MA20', 'MA30', 'MA60', 'K', 'D', 'DEM', 'HISTOGRAM', 'UPPERBAND', 'MIDDLEBAND', 'RSI6', 'RSI12', 'RSI24', 'NATR', 'CDL3OUTSIDE', 'TRANGE', 'CDLBELTHOLD', 'CDLCLOSINGMARUBOZU']\n",
    "\n",
    "# 选择全部特征或者筛选特征\n",
    "features = selected_features\n",
    "\n",
    "x_train = train_df[features].values\n",
    "y_train = train_df['label'].values\n",
    "x_valid = valid_df[features].values\n",
    "y_valid = valid_df['label'].values\n",
    "x_test = test_df[features].values\n",
    "y_test = test_df['label'].values\n",
    "x_train"
   ]
  },
  {
   "cell_type": "code",
   "execution_count": 39,
   "metadata": {},
   "outputs": [],
   "source": [
    "def model_report(y_true, y_pred, name=''):\n",
    "    print(f'模型{name}')\n",
    "    print('指标报告:')\n",
    "    print(classification_report(y_true, y_pred))\n",
    "    print(f'准确率: {accuracy_score(y_true, y_pred)}')\n"
   ]
  },
  {
   "source": [
    "# 多模型训练"
   ],
   "cell_type": "markdown",
   "metadata": {}
  },
  {
   "cell_type": "code",
   "execution_count": 40,
   "metadata": {},
   "outputs": [
    {
     "output_type": "stream",
     "name": "stdout",
     "text": [
      "模型\n指标报告:\n              precision    recall  f1-score   support\n\n           0       0.00      0.00      0.00        12\n           1       0.48      1.00      0.65        11\n\n    accuracy                           0.48        23\n   macro avg       0.24      0.50      0.32        23\nweighted avg       0.23      0.48      0.31        23\n\n准确率: 0.4782608695652174\n"
     ]
    }
   ],
   "source": [
    "# logistic\n",
    "from sklearn.linear_model import LogisticRegression\n",
    "lrModel = LogisticRegression(penalty='l2')\n",
    "lrModel.fit(x_train, y_train)\n",
    "pred_lrModel = lrModel.predict(x_test)\n",
    "\n",
    "model_report(y_test, pred_lrModel)"
   ]
  },
  {
   "cell_type": "code",
   "execution_count": 41,
   "metadata": {},
   "outputs": [
    {
     "output_type": "stream",
     "name": "stdout",
     "text": [
      "模型GBDT\n指标报告:\n              precision    recall  f1-score   support\n\n           0       0.70      0.58      0.64        12\n           1       0.62      0.73      0.67        11\n\n    accuracy                           0.65        23\n   macro avg       0.66      0.66      0.65        23\nweighted avg       0.66      0.65      0.65        23\n\n准确率: 0.6521739130434783\n"
     ]
    }
   ],
   "source": [
    "# GBDT\n",
    "from sklearn.ensemble import GradientBoostingClassifier\n",
    "gbdtModel = GradientBoostingClassifier(n_estimators=200)\n",
    "gbdtModel.fit(x_train, y_train)\n",
    "pred_gbdtModel = gbdtModel.predict(x_test)\n",
    "\n",
    "model_report(y_test, pred_gbdtModel, 'GBDT')"
   ]
  },
  {
   "cell_type": "code",
   "execution_count": 42,
   "metadata": {},
   "outputs": [
    {
     "output_type": "stream",
     "name": "stdout",
     "text": [
      "模型SVC\n指标报告:\n              precision    recall  f1-score   support\n\n           0       0.00      0.00      0.00        12\n           1       0.48      1.00      0.65        11\n\n    accuracy                           0.48        23\n   macro avg       0.24      0.50      0.32        23\nweighted avg       0.23      0.48      0.31        23\n\n准确率: 0.4782608695652174\n"
     ]
    }
   ],
   "source": [
    "# SVC\n",
    "from sklearn.svm import SVC\n",
    "svmModel = SVC(kernel='rbf', probability=True)\n",
    "svmModel.fit(x_train, y_train)\n",
    "pred_svmModel = svmModel.predict(x_test)\n",
    "\n",
    "model_report(y_test, pred_svmModel, 'SVC')"
   ]
  },
  {
   "cell_type": "code",
   "execution_count": 43,
   "metadata": {},
   "outputs": [
    {
     "output_type": "stream",
     "name": "stdout",
     "text": [
      "模型QuadraticDiscriminantAnalysis\n指标报告:\n              precision    recall  f1-score   support\n\n           0       0.80      0.67      0.73        12\n           1       0.69      0.82      0.75        11\n\n    accuracy                           0.74        23\n   macro avg       0.75      0.74      0.74        23\nweighted avg       0.75      0.74      0.74        23\n\n准确率: 0.7391304347826086\n"
     ]
    }
   ],
   "source": [
    "# QDA\n",
    "from sklearn.discriminant_analysis import QuadraticDiscriminantAnalysis\n",
    "qdaModel = QuadraticDiscriminantAnalysis()\n",
    "qdaModel.fit(x_train, y_train)\n",
    "pred_qdaModel = qdaModel.predict(x_test)\n",
    "model_report(y_test, pred_qdaModel, 'QuadraticDiscriminantAnalysis')"
   ]
  },
  {
   "cell_type": "code",
   "execution_count": 44,
   "metadata": {},
   "outputs": [
    {
     "output_type": "stream",
     "name": "stdout",
     "text": [
      "模型RandomForest\n指标报告:\n              precision    recall  f1-score   support\n\n           0       0.67      0.50      0.57        12\n           1       0.57      0.73      0.64        11\n\n    accuracy                           0.61        23\n   macro avg       0.62      0.61      0.61        23\nweighted avg       0.62      0.61      0.60        23\n\n准确率: 0.6086956521739131\n"
     ]
    }
   ],
   "source": [
    "# RandomForest\n",
    "from sklearn.ensemble import RandomForestClassifier\n",
    "rfModel = RandomForestClassifier(n_estimators=10000)\n",
    "rfModel.fit(x_train, y_train)\n",
    "pred_rfModel = rfModel.predict(x_test)\n",
    "\n",
    "model_report(y_test, pred_rfModel, 'RandomForest')"
   ]
  },
  {
   "cell_type": "code",
   "execution_count": 45,
   "metadata": {},
   "outputs": [
    {
     "output_type": "execute_result",
     "data": {
      "text/plain": [
       "array(['D', 'NATR', 'ULTOSC', 'TRANGE', 'K', 'pct_chg', 'change',\n",
       "       'amount', 'ADX', 'DEM', 'ADXR', 'RSI6', 'HISTOGRAM', 'RSI24',\n",
       "       'RSI12', 'MA60', 'MA30', 'MA20', 'pre_close', 'close', 'MA10',\n",
       "       'UPPERBAND', 'open', 'low', 'high', 'MIDDLEBAND', 'MA5',\n",
       "       'AROONOSC', 'AROONDOWN', 'CDLCLOSINGMARUBOZU', 'CDLBELTHOLD',\n",
       "       'CDL3OUTSIDE'], dtype=object)"
      ]
     },
     "metadata": {},
     "execution_count": 45
    }
   ],
   "source": [
    "# 特征重要性\n",
    "importances = rfModel.feature_importances_\n",
    "features_importances = [[feature, importance] for feature, importance in zip(features, importances)]\n",
    "features_importances_df = pd.DataFrame(features_importances, columns=['feature', 'importance'])\n",
    "features_importances_df = features_importances_df.sort_values(by='importance', ascending=False)\n",
    "features_sorted = features_importances_df['feature'].values\n",
    "features_sorted"
   ]
  },
  {
   "source": [
    "# 融合模型"
   ],
   "cell_type": "markdown",
   "metadata": {}
  },
  {
   "cell_type": "code",
   "execution_count": 46,
   "metadata": {},
   "outputs": [
    {
     "output_type": "execute_result",
     "data": {
      "text/plain": [
       "VotingClassifier(estimators=[('QDA', QuadraticDiscriminantAnalysis()),\n",
       "                             ('RF',\n",
       "                              RandomForestClassifier(n_estimators=10000,\n",
       "                                                     random_state=2021)),\n",
       "                             ('GBDT',\n",
       "                              GradientBoostingClassifier(n_estimators=200))],\n",
       "                 voting='soft')"
      ]
     },
     "metadata": {},
     "execution_count": 46
    }
   ],
   "source": [
    "# 融合模型\n",
    "from sklearn.ensemble import VotingClassifier\n",
    "clf1 = QuadraticDiscriminantAnalysis()\n",
    "clf2 = RandomForestClassifier(n_estimators=10000, random_state=2021)\n",
    "clf3 = GradientBoostingClassifier(n_estimators=200)\n",
    "\n",
    "eclf = VotingClassifier(estimators=[('QDA', clf1), ('RF', clf2), ('GBDT', clf3)], voting='soft')\n",
    "eclf.fit(x_train, y_train)\n"
   ]
  },
  {
   "cell_type": "code",
   "execution_count": 47,
   "metadata": {},
   "outputs": [
    {
     "output_type": "stream",
     "name": "stdout",
     "text": [
      "模型eclf\n指标报告:\n              precision    recall  f1-score   support\n\n           0       0.70      0.58      0.64        12\n           1       0.62      0.73      0.67        11\n\n    accuracy                           0.65        23\n   macro avg       0.66      0.66      0.65        23\nweighted avg       0.66      0.65      0.65        23\n\n准确率: 0.6521739130434783\n"
     ]
    }
   ],
   "source": [
    "# 预测\n",
    "pred_eclf = eclf.predict(x_test)\n",
    "model_report(y_test, pred_eclf, 'eclf')"
   ]
  },
  {
   "cell_type": "code",
   "execution_count": null,
   "metadata": {},
   "outputs": [],
   "source": []
  }
 ]
}