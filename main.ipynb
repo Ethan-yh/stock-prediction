{
 "metadata": {
  "language_info": {
   "codemirror_mode": {
    "name": "ipython",
    "version": 3
   },
   "file_extension": ".py",
   "mimetype": "text/x-python",
   "name": "python",
   "nbconvert_exporter": "python",
   "pygments_lexer": "ipython3",
   "version": "3.8.5-final"
  },
  "orig_nbformat": 2,
  "kernelspec": {
   "name": "python3",
   "display_name": "Python 3",
   "language": "python"
  }
 },
 "nbformat": 4,
 "nbformat_minor": 2,
 "cells": [
  {
   "cell_type": "code",
   "execution_count": 1,
   "metadata": {},
   "outputs": [],
   "source": [
    "import pandas as pd\n",
    "import numpy as np\n",
    "import lightgbm as lgb\n",
    "from sklearn.model_selection import KFold, train_test_split\n",
    "from sklearn.metrics import accuracy_score, f1_score, confusion_matrix, classification_report, roc_auc_score\n",
    "import talib as ta\n"
   ]
  },
  {
   "source": [
    "# 数据加载"
   ],
   "cell_type": "markdown",
   "metadata": {}
  },
  {
   "cell_type": "code",
   "execution_count": 2,
   "metadata": {},
   "outputs": [
    {
     "output_type": "execute_result",
     "data": {
      "text/plain": [
       "             symbol      close       high        low       open  pre_close  \\\n",
       "date                                                                         \n",
       "1990-12-20  '000001   104.3900   104.3900    99.9800   104.3000    99.9800   \n",
       "1990-12-21  '000001   109.1300   109.1300   103.7300   109.0700   104.3900   \n",
       "1990-12-24  '000001   114.5500   114.5500   109.1300   113.5700   109.1300   \n",
       "1990-12-25  '000001   120.2500   120.2500   114.5500   120.0900   114.5500   \n",
       "1990-12-26  '000001   125.2700   125.2700   120.2500   125.2700   120.2500   \n",
       "...             ...        ...        ...        ...        ...        ...   \n",
       "2021-01-14  '000001  3565.9046  3599.0584  3559.6001  3584.9324  3598.6518   \n",
       "2021-01-15  '000001  3566.3778  3589.2655  3533.7882  3566.2847  3565.9046   \n",
       "2021-01-18  '000001  3596.2237  3608.7665  3544.2614  3554.7977  3566.3778   \n",
       "2021-01-19  '000001  3566.3814  3603.1477  3553.0236  3596.3564  3596.2237   \n",
       "2021-01-20  '000001  3583.0900  3589.9600  3556.4400  3564.1200  3566.3814   \n",
       "\n",
       "             change  pct_chg       volume        amount  label  \n",
       "date                                                            \n",
       "1990-12-20   4.4100   4.4109        197.0  8.400000e+04      1  \n",
       "1990-12-21   4.7400   4.5407         28.0  1.600000e+04      1  \n",
       "1990-12-24   5.4200   4.9666         32.0  3.100000e+04      1  \n",
       "1990-12-25   5.7000   4.9760         15.0  6.000000e+03      1  \n",
       "1990-12-26   5.0200   4.1746        100.0  5.300000e+04      1  \n",
       "...             ...      ...          ...           ...    ...  \n",
       "2021-01-14 -32.7472  -0.9100  347666819.0  5.113251e+11      1  \n",
       "2021-01-15   0.4732   0.0133  324612744.0  4.803438e+11      1  \n",
       "2021-01-18  29.8459   0.8369  301652565.0  4.517407e+10      0  \n",
       "2021-01-19 -29.8423  -0.8298  323439541.0  4.674026e+11      1  \n",
       "2021-01-20  16.7100   0.4700  272000000.0  3.971450e+11      0  \n",
       "\n",
       "[7345 rows x 11 columns]"
      ],
      "text/html": "<div>\n<style scoped>\n    .dataframe tbody tr th:only-of-type {\n        vertical-align: middle;\n    }\n\n    .dataframe tbody tr th {\n        vertical-align: top;\n    }\n\n    .dataframe thead th {\n        text-align: right;\n    }\n</style>\n<table border=\"1\" class=\"dataframe\">\n  <thead>\n    <tr style=\"text-align: right;\">\n      <th></th>\n      <th>symbol</th>\n      <th>close</th>\n      <th>high</th>\n      <th>low</th>\n      <th>open</th>\n      <th>pre_close</th>\n      <th>change</th>\n      <th>pct_chg</th>\n      <th>volume</th>\n      <th>amount</th>\n      <th>label</th>\n    </tr>\n    <tr>\n      <th>date</th>\n      <th></th>\n      <th></th>\n      <th></th>\n      <th></th>\n      <th></th>\n      <th></th>\n      <th></th>\n      <th></th>\n      <th></th>\n      <th></th>\n      <th></th>\n    </tr>\n  </thead>\n  <tbody>\n    <tr>\n      <th>1990-12-20</th>\n      <td>'000001</td>\n      <td>104.3900</td>\n      <td>104.3900</td>\n      <td>99.9800</td>\n      <td>104.3000</td>\n      <td>99.9800</td>\n      <td>4.4100</td>\n      <td>4.4109</td>\n      <td>197.0</td>\n      <td>8.400000e+04</td>\n      <td>1</td>\n    </tr>\n    <tr>\n      <th>1990-12-21</th>\n      <td>'000001</td>\n      <td>109.1300</td>\n      <td>109.1300</td>\n      <td>103.7300</td>\n      <td>109.0700</td>\n      <td>104.3900</td>\n      <td>4.7400</td>\n      <td>4.5407</td>\n      <td>28.0</td>\n      <td>1.600000e+04</td>\n      <td>1</td>\n    </tr>\n    <tr>\n      <th>1990-12-24</th>\n      <td>'000001</td>\n      <td>114.5500</td>\n      <td>114.5500</td>\n      <td>109.1300</td>\n      <td>113.5700</td>\n      <td>109.1300</td>\n      <td>5.4200</td>\n      <td>4.9666</td>\n      <td>32.0</td>\n      <td>3.100000e+04</td>\n      <td>1</td>\n    </tr>\n    <tr>\n      <th>1990-12-25</th>\n      <td>'000001</td>\n      <td>120.2500</td>\n      <td>120.2500</td>\n      <td>114.5500</td>\n      <td>120.0900</td>\n      <td>114.5500</td>\n      <td>5.7000</td>\n      <td>4.9760</td>\n      <td>15.0</td>\n      <td>6.000000e+03</td>\n      <td>1</td>\n    </tr>\n    <tr>\n      <th>1990-12-26</th>\n      <td>'000001</td>\n      <td>125.2700</td>\n      <td>125.2700</td>\n      <td>120.2500</td>\n      <td>125.2700</td>\n      <td>120.2500</td>\n      <td>5.0200</td>\n      <td>4.1746</td>\n      <td>100.0</td>\n      <td>5.300000e+04</td>\n      <td>1</td>\n    </tr>\n    <tr>\n      <th>...</th>\n      <td>...</td>\n      <td>...</td>\n      <td>...</td>\n      <td>...</td>\n      <td>...</td>\n      <td>...</td>\n      <td>...</td>\n      <td>...</td>\n      <td>...</td>\n      <td>...</td>\n      <td>...</td>\n    </tr>\n    <tr>\n      <th>2021-01-14</th>\n      <td>'000001</td>\n      <td>3565.9046</td>\n      <td>3599.0584</td>\n      <td>3559.6001</td>\n      <td>3584.9324</td>\n      <td>3598.6518</td>\n      <td>-32.7472</td>\n      <td>-0.9100</td>\n      <td>347666819.0</td>\n      <td>5.113251e+11</td>\n      <td>1</td>\n    </tr>\n    <tr>\n      <th>2021-01-15</th>\n      <td>'000001</td>\n      <td>3566.3778</td>\n      <td>3589.2655</td>\n      <td>3533.7882</td>\n      <td>3566.2847</td>\n      <td>3565.9046</td>\n      <td>0.4732</td>\n      <td>0.0133</td>\n      <td>324612744.0</td>\n      <td>4.803438e+11</td>\n      <td>1</td>\n    </tr>\n    <tr>\n      <th>2021-01-18</th>\n      <td>'000001</td>\n      <td>3596.2237</td>\n      <td>3608.7665</td>\n      <td>3544.2614</td>\n      <td>3554.7977</td>\n      <td>3566.3778</td>\n      <td>29.8459</td>\n      <td>0.8369</td>\n      <td>301652565.0</td>\n      <td>4.517407e+10</td>\n      <td>0</td>\n    </tr>\n    <tr>\n      <th>2021-01-19</th>\n      <td>'000001</td>\n      <td>3566.3814</td>\n      <td>3603.1477</td>\n      <td>3553.0236</td>\n      <td>3596.3564</td>\n      <td>3596.2237</td>\n      <td>-29.8423</td>\n      <td>-0.8298</td>\n      <td>323439541.0</td>\n      <td>4.674026e+11</td>\n      <td>1</td>\n    </tr>\n    <tr>\n      <th>2021-01-20</th>\n      <td>'000001</td>\n      <td>3583.0900</td>\n      <td>3589.9600</td>\n      <td>3556.4400</td>\n      <td>3564.1200</td>\n      <td>3566.3814</td>\n      <td>16.7100</td>\n      <td>0.4700</td>\n      <td>272000000.0</td>\n      <td>3.971450e+11</td>\n      <td>0</td>\n    </tr>\n  </tbody>\n</table>\n<p>7345 rows × 11 columns</p>\n</div>"
     },
     "metadata": {},
     "execution_count": 2
    }
   ],
   "source": [
    "# 原始数据\n",
    "data_path = './data/pre/000001.SH.csv'\n",
    "df = pd.read_csv(data_path, index_col=0)\n",
    "df"
   ]
  },
  {
   "source": [
    "# 加入特征"
   ],
   "cell_type": "markdown",
   "metadata": {}
  },
  {
   "cell_type": "code",
   "execution_count": 3,
   "metadata": {},
   "outputs": [
    {
     "output_type": "execute_result",
     "data": {
      "text/plain": [
       "             symbol      close       high        low       open  pre_close  \\\n",
       "date                                                                         \n",
       "1990-12-20  '000001   104.3900   104.3900    99.9800   104.3000    99.9800   \n",
       "1990-12-21  '000001   109.1300   109.1300   103.7300   109.0700   104.3900   \n",
       "1990-12-24  '000001   114.5500   114.5500   109.1300   113.5700   109.1300   \n",
       "1990-12-25  '000001   120.2500   120.2500   114.5500   120.0900   114.5500   \n",
       "1990-12-26  '000001   125.2700   125.2700   120.2500   125.2700   120.2500   \n",
       "...             ...        ...        ...        ...        ...        ...   \n",
       "2021-01-14  '000001  3565.9046  3599.0584  3559.6001  3584.9324  3598.6518   \n",
       "2021-01-15  '000001  3566.3778  3589.2655  3533.7882  3566.2847  3565.9046   \n",
       "2021-01-18  '000001  3596.2237  3608.7665  3544.2614  3554.7977  3566.3778   \n",
       "2021-01-19  '000001  3566.3814  3603.1477  3553.0236  3596.3564  3596.2237   \n",
       "2021-01-20  '000001  3583.0900  3589.9600  3556.4400  3564.1200  3566.3814   \n",
       "\n",
       "             change  pct_chg       volume        amount  ...    LOWERBAND  \\\n",
       "date                                                     ...                \n",
       "1990-12-20   4.4100   4.4109        197.0  8.400000e+04  ...          NaN   \n",
       "1990-12-21   4.7400   4.5407         28.0  1.600000e+04  ...          NaN   \n",
       "1990-12-24   5.4200   4.9666         32.0  3.100000e+04  ...          NaN   \n",
       "1990-12-25   5.7000   4.9760         15.0  6.000000e+03  ...          NaN   \n",
       "1990-12-26   5.0200   4.1746        100.0  5.300000e+04  ...    99.754864   \n",
       "...             ...      ...          ...           ...  ...          ...   \n",
       "2021-01-14 -32.7472  -0.9100  347666819.0  5.113251e+11  ...  3520.715852   \n",
       "2021-01-15   0.4732   0.0133  324612744.0  4.803438e+11  ...  3519.624754   \n",
       "2021-01-18  29.8459   0.8369  301652565.0  4.517407e+10  ...  3551.926286   \n",
       "2021-01-19 -29.8423  -0.8298  323439541.0  4.674026e+11  ...  3548.081586   \n",
       "2021-01-20  16.7100   0.4700  272000000.0  3.971450e+11  ...  3551.174700   \n",
       "\n",
       "                 RSI6      RSI12      RSI24          EMA      NATR  \\\n",
       "date                                                                 \n",
       "1990-12-20        NaN        NaN        NaN          NaN       NaN   \n",
       "1990-12-21        NaN        NaN        NaN          NaN       NaN   \n",
       "1990-12-24        NaN        NaN        NaN          NaN       NaN   \n",
       "1990-12-25        NaN        NaN        NaN          NaN       NaN   \n",
       "1990-12-26        NaN        NaN        NaN          NaN       NaN   \n",
       "...               ...        ...        ...          ...       ...   \n",
       "2021-01-14  59.453545  62.935210  61.295314  3542.416154  1.338962   \n",
       "2021-01-15  59.577316  62.991694  61.326221  3546.772817  1.354268   \n",
       "2021-01-18  67.163764  66.503946  63.257251  3555.763887  1.375219   \n",
       "2021-01-19  54.819220  60.265305  60.124987  3557.694344  1.388064   \n",
       "2021-01-20  59.785302  62.418639  61.246113  3562.311736  1.349728   \n",
       "\n",
       "            CDL3OUTSIDE   TRANGE  CDLBELTHOLD  CDLCLOSINGMARUBOZU  \n",
       "date                                                               \n",
       "1990-12-20            0      NaN            0                   0  \n",
       "1990-12-21            0   5.4000            0                   0  \n",
       "1990-12-24            0   5.4200            0                   0  \n",
       "1990-12-25            0   5.7000            0                   0  \n",
       "1990-12-26            0   5.0200            0                   0  \n",
       "...                 ...      ...          ...                 ...  \n",
       "2021-01-14            0  39.4583            0                   0  \n",
       "2021-01-15            0  55.4773            0                   0  \n",
       "2021-01-18            0  64.5051            0                   0  \n",
       "2021-01-19            0  50.1241            0                   0  \n",
       "2021-01-20            0  33.5200            0                   0  \n",
       "\n",
       "[7345 rows x 39 columns]"
      ],
      "text/html": "<div>\n<style scoped>\n    .dataframe tbody tr th:only-of-type {\n        vertical-align: middle;\n    }\n\n    .dataframe tbody tr th {\n        vertical-align: top;\n    }\n\n    .dataframe thead th {\n        text-align: right;\n    }\n</style>\n<table border=\"1\" class=\"dataframe\">\n  <thead>\n    <tr style=\"text-align: right;\">\n      <th></th>\n      <th>symbol</th>\n      <th>close</th>\n      <th>high</th>\n      <th>low</th>\n      <th>open</th>\n      <th>pre_close</th>\n      <th>change</th>\n      <th>pct_chg</th>\n      <th>volume</th>\n      <th>amount</th>\n      <th>...</th>\n      <th>LOWERBAND</th>\n      <th>RSI6</th>\n      <th>RSI12</th>\n      <th>RSI24</th>\n      <th>EMA</th>\n      <th>NATR</th>\n      <th>CDL3OUTSIDE</th>\n      <th>TRANGE</th>\n      <th>CDLBELTHOLD</th>\n      <th>CDLCLOSINGMARUBOZU</th>\n    </tr>\n    <tr>\n      <th>date</th>\n      <th></th>\n      <th></th>\n      <th></th>\n      <th></th>\n      <th></th>\n      <th></th>\n      <th></th>\n      <th></th>\n      <th></th>\n      <th></th>\n      <th></th>\n      <th></th>\n      <th></th>\n      <th></th>\n      <th></th>\n      <th></th>\n      <th></th>\n      <th></th>\n      <th></th>\n      <th></th>\n      <th></th>\n    </tr>\n  </thead>\n  <tbody>\n    <tr>\n      <th>1990-12-20</th>\n      <td>'000001</td>\n      <td>104.3900</td>\n      <td>104.3900</td>\n      <td>99.9800</td>\n      <td>104.3000</td>\n      <td>99.9800</td>\n      <td>4.4100</td>\n      <td>4.4109</td>\n      <td>197.0</td>\n      <td>8.400000e+04</td>\n      <td>...</td>\n      <td>NaN</td>\n      <td>NaN</td>\n      <td>NaN</td>\n      <td>NaN</td>\n      <td>NaN</td>\n      <td>NaN</td>\n      <td>0</td>\n      <td>NaN</td>\n      <td>0</td>\n      <td>0</td>\n    </tr>\n    <tr>\n      <th>1990-12-21</th>\n      <td>'000001</td>\n      <td>109.1300</td>\n      <td>109.1300</td>\n      <td>103.7300</td>\n      <td>109.0700</td>\n      <td>104.3900</td>\n      <td>4.7400</td>\n      <td>4.5407</td>\n      <td>28.0</td>\n      <td>1.600000e+04</td>\n      <td>...</td>\n      <td>NaN</td>\n      <td>NaN</td>\n      <td>NaN</td>\n      <td>NaN</td>\n      <td>NaN</td>\n      <td>NaN</td>\n      <td>0</td>\n      <td>5.4000</td>\n      <td>0</td>\n      <td>0</td>\n    </tr>\n    <tr>\n      <th>1990-12-24</th>\n      <td>'000001</td>\n      <td>114.5500</td>\n      <td>114.5500</td>\n      <td>109.1300</td>\n      <td>113.5700</td>\n      <td>109.1300</td>\n      <td>5.4200</td>\n      <td>4.9666</td>\n      <td>32.0</td>\n      <td>3.100000e+04</td>\n      <td>...</td>\n      <td>NaN</td>\n      <td>NaN</td>\n      <td>NaN</td>\n      <td>NaN</td>\n      <td>NaN</td>\n      <td>NaN</td>\n      <td>0</td>\n      <td>5.4200</td>\n      <td>0</td>\n      <td>0</td>\n    </tr>\n    <tr>\n      <th>1990-12-25</th>\n      <td>'000001</td>\n      <td>120.2500</td>\n      <td>120.2500</td>\n      <td>114.5500</td>\n      <td>120.0900</td>\n      <td>114.5500</td>\n      <td>5.7000</td>\n      <td>4.9760</td>\n      <td>15.0</td>\n      <td>6.000000e+03</td>\n      <td>...</td>\n      <td>NaN</td>\n      <td>NaN</td>\n      <td>NaN</td>\n      <td>NaN</td>\n      <td>NaN</td>\n      <td>NaN</td>\n      <td>0</td>\n      <td>5.7000</td>\n      <td>0</td>\n      <td>0</td>\n    </tr>\n    <tr>\n      <th>1990-12-26</th>\n      <td>'000001</td>\n      <td>125.2700</td>\n      <td>125.2700</td>\n      <td>120.2500</td>\n      <td>125.2700</td>\n      <td>120.2500</td>\n      <td>5.0200</td>\n      <td>4.1746</td>\n      <td>100.0</td>\n      <td>5.300000e+04</td>\n      <td>...</td>\n      <td>99.754864</td>\n      <td>NaN</td>\n      <td>NaN</td>\n      <td>NaN</td>\n      <td>NaN</td>\n      <td>NaN</td>\n      <td>0</td>\n      <td>5.0200</td>\n      <td>0</td>\n      <td>0</td>\n    </tr>\n    <tr>\n      <th>...</th>\n      <td>...</td>\n      <td>...</td>\n      <td>...</td>\n      <td>...</td>\n      <td>...</td>\n      <td>...</td>\n      <td>...</td>\n      <td>...</td>\n      <td>...</td>\n      <td>...</td>\n      <td>...</td>\n      <td>...</td>\n      <td>...</td>\n      <td>...</td>\n      <td>...</td>\n      <td>...</td>\n      <td>...</td>\n      <td>...</td>\n      <td>...</td>\n      <td>...</td>\n      <td>...</td>\n    </tr>\n    <tr>\n      <th>2021-01-14</th>\n      <td>'000001</td>\n      <td>3565.9046</td>\n      <td>3599.0584</td>\n      <td>3559.6001</td>\n      <td>3584.9324</td>\n      <td>3598.6518</td>\n      <td>-32.7472</td>\n      <td>-0.9100</td>\n      <td>347666819.0</td>\n      <td>5.113251e+11</td>\n      <td>...</td>\n      <td>3520.715852</td>\n      <td>59.453545</td>\n      <td>62.935210</td>\n      <td>61.295314</td>\n      <td>3542.416154</td>\n      <td>1.338962</td>\n      <td>0</td>\n      <td>39.4583</td>\n      <td>0</td>\n      <td>0</td>\n    </tr>\n    <tr>\n      <th>2021-01-15</th>\n      <td>'000001</td>\n      <td>3566.3778</td>\n      <td>3589.2655</td>\n      <td>3533.7882</td>\n      <td>3566.2847</td>\n      <td>3565.9046</td>\n      <td>0.4732</td>\n      <td>0.0133</td>\n      <td>324612744.0</td>\n      <td>4.803438e+11</td>\n      <td>...</td>\n      <td>3519.624754</td>\n      <td>59.577316</td>\n      <td>62.991694</td>\n      <td>61.326221</td>\n      <td>3546.772817</td>\n      <td>1.354268</td>\n      <td>0</td>\n      <td>55.4773</td>\n      <td>0</td>\n      <td>0</td>\n    </tr>\n    <tr>\n      <th>2021-01-18</th>\n      <td>'000001</td>\n      <td>3596.2237</td>\n      <td>3608.7665</td>\n      <td>3544.2614</td>\n      <td>3554.7977</td>\n      <td>3566.3778</td>\n      <td>29.8459</td>\n      <td>0.8369</td>\n      <td>301652565.0</td>\n      <td>4.517407e+10</td>\n      <td>...</td>\n      <td>3551.926286</td>\n      <td>67.163764</td>\n      <td>66.503946</td>\n      <td>63.257251</td>\n      <td>3555.763887</td>\n      <td>1.375219</td>\n      <td>0</td>\n      <td>64.5051</td>\n      <td>0</td>\n      <td>0</td>\n    </tr>\n    <tr>\n      <th>2021-01-19</th>\n      <td>'000001</td>\n      <td>3566.3814</td>\n      <td>3603.1477</td>\n      <td>3553.0236</td>\n      <td>3596.3564</td>\n      <td>3596.2237</td>\n      <td>-29.8423</td>\n      <td>-0.8298</td>\n      <td>323439541.0</td>\n      <td>4.674026e+11</td>\n      <td>...</td>\n      <td>3548.081586</td>\n      <td>54.819220</td>\n      <td>60.265305</td>\n      <td>60.124987</td>\n      <td>3557.694344</td>\n      <td>1.388064</td>\n      <td>0</td>\n      <td>50.1241</td>\n      <td>0</td>\n      <td>0</td>\n    </tr>\n    <tr>\n      <th>2021-01-20</th>\n      <td>'000001</td>\n      <td>3583.0900</td>\n      <td>3589.9600</td>\n      <td>3556.4400</td>\n      <td>3564.1200</td>\n      <td>3566.3814</td>\n      <td>16.7100</td>\n      <td>0.4700</td>\n      <td>272000000.0</td>\n      <td>3.971450e+11</td>\n      <td>...</td>\n      <td>3551.174700</td>\n      <td>59.785302</td>\n      <td>62.418639</td>\n      <td>61.246113</td>\n      <td>3562.311736</td>\n      <td>1.349728</td>\n      <td>0</td>\n      <td>33.5200</td>\n      <td>0</td>\n      <td>0</td>\n    </tr>\n  </tbody>\n</table>\n<p>7345 rows × 39 columns</p>\n</div>"
     },
     "metadata": {},
     "execution_count": 3
    }
   ],
   "source": [
    "df['ADX'] = ta.ADX(df['high'], df['low'], df['close'], timeperiod=14)\n",
    "df['ADXR'] = ta.ADXR(df['high'], df['low'], df['close'], timeperiod=14)\n",
    "df['AROONDOWN'], df['AROONUP'] = ta.AROON(df['high'], df['low'], timeperiod=14)\n",
    "df['AROONOSC'] = ta.AROONOSC(df['high'], df['low'], timeperiod=14)\n",
    "df['ULTOSC'] = ta.ULTOSC(df['high'], df['low'], df['close'], timeperiod1=7, timeperiod2=14, timeperiod3=28)\n",
    "df['MA5'] = ta.MA(df['close'], timeperiod=5, matype=0)\n",
    "df['MA10'] = ta.MA(df['close'], timeperiod=10, matype=0)\n",
    "df['MA20'] = ta.MA(df['close'], timeperiod=20, matype=0)\n",
    "df['MA30'] = ta.MA(df['close'], timeperiod=30, matype=0)\n",
    "df['MA60'] = ta.MA(df['close'], timeperiod=60, matype=0)\n",
    "\n",
    "df['K'] , df['D']= ta.STOCHF(df['high'], df['low'], df['close'], fastk_period=5, fastd_period=3, fastd_matype=0)\n",
    "\n",
    "df['DIF'], df['DEM'], df['HISTOGRAM'] = ta.MACD(df['close'], fastperiod=12, slowperiod=26, signalperiod=9)\n",
    "\n",
    "# 布林线\n",
    "df['UPPERBAND'], df['MIDDLEBAND'], df['LOWERBAND'] = ta.BBANDS(df['close'], timeperiod=5, nbdevup=2, nbdevdn=2, matype=0)\n",
    "\n",
    "df['RSI6'] = ta.RSI(df['close'], timeperiod=6)\n",
    "df['RSI12'] = ta.RSI(df['close'], timeperiod=12)\n",
    "df['RSI24'] = ta.RSI(df['close'], timeperiod=24)\n",
    "\n",
    "df['EMA'] = ta.EMA(df['close'], timeperiod=10)\n",
    "df['NATR'] = ta.NATR(df['high'], df['low'], df['close'], timeperiod=14)\n",
    "df['CDL3OUTSIDE'] = ta.CDL3OUTSIDE(df['open'], df['high'], df['low'], df['close'])\n",
    "df['TRANGE'] = ta.TRANGE(df['high'], df['low'], df['close'])\n",
    "\n",
    "# 形态模式\n",
    "df['CDLBELTHOLD'] = ta.CDLBELTHOLD(df['open'], df['high'], df['low'], df['close'])\n",
    "df['CDLCLOSINGMARUBOZU'] = ta.CDLCLOSINGMARUBOZU(df['open'], df['high'], df['low'], df['close'])\n",
    "\n",
    "\n",
    "df"
   ]
  },
  {
   "cell_type": "code",
   "execution_count": 4,
   "metadata": {},
   "outputs": [
    {
     "output_type": "execute_result",
     "data": {
      "text/plain": [
       "             symbol      close       high        low       open  pre_close  \\\n",
       "date                                                                         \n",
       "2016-01-04  '000001  3296.2580  3538.6890  3295.7410  3536.5890  3539.1820   \n",
       "2016-01-05  '000001  3287.7110  3328.1390  3189.6050  3196.6510  3296.2580   \n",
       "2016-01-06  '000001  3361.8400  3362.9740  3288.9330  3291.1950  3287.7110   \n",
       "2016-01-07  '000001  3125.0020  3309.6570  3115.8850  3309.6570  3361.8400   \n",
       "2016-01-08  '000001  3186.4120  3235.4510  3056.8780  3194.6250  3125.0020   \n",
       "...             ...        ...        ...        ...        ...        ...   \n",
       "2020-11-24  '000001  3402.8225  3413.9263  3396.2436  3407.4087  3414.4899   \n",
       "2020-11-25  '000001  3362.3274  3423.4853  3362.3274  3417.5150  3402.8225   \n",
       "2020-11-26  '000001  3369.7334  3371.4537  3344.2822  3360.0609  3362.3274   \n",
       "2020-11-27  '000001  3408.3071  3408.3071  3364.4919  3373.8434  3369.7334   \n",
       "2020-11-30  '000001  3391.7551  3456.7365  3391.7551  3418.1583  3408.3071   \n",
       "\n",
       "              change  pct_chg       volume        amount  ...    LOWERBAND  \\\n",
       "date                                                      ...                \n",
       "2016-01-04 -242.9240  -6.8638  184418423.0  2.409292e+11  ...  3294.181289   \n",
       "2016-01-05   -8.5470  -0.2593  266882083.0  3.284172e+11  ...  3189.741880   \n",
       "2016-01-06   74.1290   2.2547  238886670.0  2.852432e+11  ...  3169.225831   \n",
       "2016-01-07 -236.8380  -7.0449   70569123.0  7.998199e+10  ...  3054.563606   \n",
       "2016-01-08   61.4100   1.9651  286440822.0  3.241671e+11  ...  3082.382228   \n",
       "...              ...      ...          ...           ...  ...          ...   \n",
       "2020-11-24  -11.6674  -0.3417  300994144.0  3.595058e+11  ...  3331.570064   \n",
       "2020-11-25  -40.4951  -1.1900  322110207.0  3.834778e+11  ...  3341.850899   \n",
       "2020-11-26    7.4060   0.2203  255886822.0  3.173086e+11  ...  3345.555905   \n",
       "2020-11-27   38.5737   1.1447  280649894.0  3.260695e+11  ...  3348.977563   \n",
       "2020-11-30  -16.5520  -0.4856  384989968.0  4.545006e+11  ...  3350.835792   \n",
       "\n",
       "                 RSI6      RSI12      RSI24          EMA      NATR  \\\n",
       "date                                                                 \n",
       "2016-01-04  15.963421  28.672971  39.698774  3521.130646  2.276708   \n",
       "2016-01-05  15.567306  28.244298  39.389240  3478.690711  2.420560   \n",
       "2016-01-06  32.897056  37.136602  43.384316  3457.445127  2.358012   \n",
       "2016-01-07  18.410004  25.934715  35.568306  3397.000922  2.917709   \n",
       "2016-01-08  28.242410  31.757370  38.563006  3358.712027  3.057387   \n",
       "...               ...        ...        ...          ...       ...   \n",
       "2020-11-24  70.947945  64.554994  58.410928  3365.134619  1.105950   \n",
       "2020-11-25  50.137992  54.712472  54.128854  3364.624216  1.169245   \n",
       "2020-11-26  53.153568  56.049409  54.761747  3365.553158  1.140937   \n",
       "2020-11-27  66.003988  62.362591  57.917368  3373.326602  1.139275   \n",
       "2020-11-30  57.834939  58.433491  56.163192  3376.677238  1.199908   \n",
       "\n",
       "            CDL3OUTSIDE    TRANGE  CDLBELTHOLD  CDLCLOSINGMARUBOZU  \n",
       "date                                                                \n",
       "2016-01-04            0  243.4410         -100                -100  \n",
       "2016-01-05            0  138.5340          100                   0  \n",
       "2016-01-06            0   75.2630          100                 100  \n",
       "2016-01-07            0  245.9550         -100                   0  \n",
       "2016-01-08            0  178.5730            0                   0  \n",
       "...                 ...       ...          ...                 ...  \n",
       "2020-11-24            0   18.2463            0                   0  \n",
       "2020-11-25            0   61.1579            0                -100  \n",
       "2020-11-26            0   27.1715            0                   0  \n",
       "2020-11-27            0   43.8152            0                 100  \n",
       "2020-11-30            0   64.9814            0                -100  \n",
       "\n",
       "[1195 rows x 39 columns]"
      ],
      "text/html": "<div>\n<style scoped>\n    .dataframe tbody tr th:only-of-type {\n        vertical-align: middle;\n    }\n\n    .dataframe tbody tr th {\n        vertical-align: top;\n    }\n\n    .dataframe thead th {\n        text-align: right;\n    }\n</style>\n<table border=\"1\" class=\"dataframe\">\n  <thead>\n    <tr style=\"text-align: right;\">\n      <th></th>\n      <th>symbol</th>\n      <th>close</th>\n      <th>high</th>\n      <th>low</th>\n      <th>open</th>\n      <th>pre_close</th>\n      <th>change</th>\n      <th>pct_chg</th>\n      <th>volume</th>\n      <th>amount</th>\n      <th>...</th>\n      <th>LOWERBAND</th>\n      <th>RSI6</th>\n      <th>RSI12</th>\n      <th>RSI24</th>\n      <th>EMA</th>\n      <th>NATR</th>\n      <th>CDL3OUTSIDE</th>\n      <th>TRANGE</th>\n      <th>CDLBELTHOLD</th>\n      <th>CDLCLOSINGMARUBOZU</th>\n    </tr>\n    <tr>\n      <th>date</th>\n      <th></th>\n      <th></th>\n      <th></th>\n      <th></th>\n      <th></th>\n      <th></th>\n      <th></th>\n      <th></th>\n      <th></th>\n      <th></th>\n      <th></th>\n      <th></th>\n      <th></th>\n      <th></th>\n      <th></th>\n      <th></th>\n      <th></th>\n      <th></th>\n      <th></th>\n      <th></th>\n      <th></th>\n    </tr>\n  </thead>\n  <tbody>\n    <tr>\n      <th>2016-01-04</th>\n      <td>'000001</td>\n      <td>3296.2580</td>\n      <td>3538.6890</td>\n      <td>3295.7410</td>\n      <td>3536.5890</td>\n      <td>3539.1820</td>\n      <td>-242.9240</td>\n      <td>-6.8638</td>\n      <td>184418423.0</td>\n      <td>2.409292e+11</td>\n      <td>...</td>\n      <td>3294.181289</td>\n      <td>15.963421</td>\n      <td>28.672971</td>\n      <td>39.698774</td>\n      <td>3521.130646</td>\n      <td>2.276708</td>\n      <td>0</td>\n      <td>243.4410</td>\n      <td>-100</td>\n      <td>-100</td>\n    </tr>\n    <tr>\n      <th>2016-01-05</th>\n      <td>'000001</td>\n      <td>3287.7110</td>\n      <td>3328.1390</td>\n      <td>3189.6050</td>\n      <td>3196.6510</td>\n      <td>3296.2580</td>\n      <td>-8.5470</td>\n      <td>-0.2593</td>\n      <td>266882083.0</td>\n      <td>3.284172e+11</td>\n      <td>...</td>\n      <td>3189.741880</td>\n      <td>15.567306</td>\n      <td>28.244298</td>\n      <td>39.389240</td>\n      <td>3478.690711</td>\n      <td>2.420560</td>\n      <td>0</td>\n      <td>138.5340</td>\n      <td>100</td>\n      <td>0</td>\n    </tr>\n    <tr>\n      <th>2016-01-06</th>\n      <td>'000001</td>\n      <td>3361.8400</td>\n      <td>3362.9740</td>\n      <td>3288.9330</td>\n      <td>3291.1950</td>\n      <td>3287.7110</td>\n      <td>74.1290</td>\n      <td>2.2547</td>\n      <td>238886670.0</td>\n      <td>2.852432e+11</td>\n      <td>...</td>\n      <td>3169.225831</td>\n      <td>32.897056</td>\n      <td>37.136602</td>\n      <td>43.384316</td>\n      <td>3457.445127</td>\n      <td>2.358012</td>\n      <td>0</td>\n      <td>75.2630</td>\n      <td>100</td>\n      <td>100</td>\n    </tr>\n    <tr>\n      <th>2016-01-07</th>\n      <td>'000001</td>\n      <td>3125.0020</td>\n      <td>3309.6570</td>\n      <td>3115.8850</td>\n      <td>3309.6570</td>\n      <td>3361.8400</td>\n      <td>-236.8380</td>\n      <td>-7.0449</td>\n      <td>70569123.0</td>\n      <td>7.998199e+10</td>\n      <td>...</td>\n      <td>3054.563606</td>\n      <td>18.410004</td>\n      <td>25.934715</td>\n      <td>35.568306</td>\n      <td>3397.000922</td>\n      <td>2.917709</td>\n      <td>0</td>\n      <td>245.9550</td>\n      <td>-100</td>\n      <td>0</td>\n    </tr>\n    <tr>\n      <th>2016-01-08</th>\n      <td>'000001</td>\n      <td>3186.4120</td>\n      <td>3235.4510</td>\n      <td>3056.8780</td>\n      <td>3194.6250</td>\n      <td>3125.0020</td>\n      <td>61.4100</td>\n      <td>1.9651</td>\n      <td>286440822.0</td>\n      <td>3.241671e+11</td>\n      <td>...</td>\n      <td>3082.382228</td>\n      <td>28.242410</td>\n      <td>31.757370</td>\n      <td>38.563006</td>\n      <td>3358.712027</td>\n      <td>3.057387</td>\n      <td>0</td>\n      <td>178.5730</td>\n      <td>0</td>\n      <td>0</td>\n    </tr>\n    <tr>\n      <th>...</th>\n      <td>...</td>\n      <td>...</td>\n      <td>...</td>\n      <td>...</td>\n      <td>...</td>\n      <td>...</td>\n      <td>...</td>\n      <td>...</td>\n      <td>...</td>\n      <td>...</td>\n      <td>...</td>\n      <td>...</td>\n      <td>...</td>\n      <td>...</td>\n      <td>...</td>\n      <td>...</td>\n      <td>...</td>\n      <td>...</td>\n      <td>...</td>\n      <td>...</td>\n      <td>...</td>\n    </tr>\n    <tr>\n      <th>2020-11-24</th>\n      <td>'000001</td>\n      <td>3402.8225</td>\n      <td>3413.9263</td>\n      <td>3396.2436</td>\n      <td>3407.4087</td>\n      <td>3414.4899</td>\n      <td>-11.6674</td>\n      <td>-0.3417</td>\n      <td>300994144.0</td>\n      <td>3.595058e+11</td>\n      <td>...</td>\n      <td>3331.570064</td>\n      <td>70.947945</td>\n      <td>64.554994</td>\n      <td>58.410928</td>\n      <td>3365.134619</td>\n      <td>1.105950</td>\n      <td>0</td>\n      <td>18.2463</td>\n      <td>0</td>\n      <td>0</td>\n    </tr>\n    <tr>\n      <th>2020-11-25</th>\n      <td>'000001</td>\n      <td>3362.3274</td>\n      <td>3423.4853</td>\n      <td>3362.3274</td>\n      <td>3417.5150</td>\n      <td>3402.8225</td>\n      <td>-40.4951</td>\n      <td>-1.1900</td>\n      <td>322110207.0</td>\n      <td>3.834778e+11</td>\n      <td>...</td>\n      <td>3341.850899</td>\n      <td>50.137992</td>\n      <td>54.712472</td>\n      <td>54.128854</td>\n      <td>3364.624216</td>\n      <td>1.169245</td>\n      <td>0</td>\n      <td>61.1579</td>\n      <td>0</td>\n      <td>-100</td>\n    </tr>\n    <tr>\n      <th>2020-11-26</th>\n      <td>'000001</td>\n      <td>3369.7334</td>\n      <td>3371.4537</td>\n      <td>3344.2822</td>\n      <td>3360.0609</td>\n      <td>3362.3274</td>\n      <td>7.4060</td>\n      <td>0.2203</td>\n      <td>255886822.0</td>\n      <td>3.173086e+11</td>\n      <td>...</td>\n      <td>3345.555905</td>\n      <td>53.153568</td>\n      <td>56.049409</td>\n      <td>54.761747</td>\n      <td>3365.553158</td>\n      <td>1.140937</td>\n      <td>0</td>\n      <td>27.1715</td>\n      <td>0</td>\n      <td>0</td>\n    </tr>\n    <tr>\n      <th>2020-11-27</th>\n      <td>'000001</td>\n      <td>3408.3071</td>\n      <td>3408.3071</td>\n      <td>3364.4919</td>\n      <td>3373.8434</td>\n      <td>3369.7334</td>\n      <td>38.5737</td>\n      <td>1.1447</td>\n      <td>280649894.0</td>\n      <td>3.260695e+11</td>\n      <td>...</td>\n      <td>3348.977563</td>\n      <td>66.003988</td>\n      <td>62.362591</td>\n      <td>57.917368</td>\n      <td>3373.326602</td>\n      <td>1.139275</td>\n      <td>0</td>\n      <td>43.8152</td>\n      <td>0</td>\n      <td>100</td>\n    </tr>\n    <tr>\n      <th>2020-11-30</th>\n      <td>'000001</td>\n      <td>3391.7551</td>\n      <td>3456.7365</td>\n      <td>3391.7551</td>\n      <td>3418.1583</td>\n      <td>3408.3071</td>\n      <td>-16.5520</td>\n      <td>-0.4856</td>\n      <td>384989968.0</td>\n      <td>4.545006e+11</td>\n      <td>...</td>\n      <td>3350.835792</td>\n      <td>57.834939</td>\n      <td>58.433491</td>\n      <td>56.163192</td>\n      <td>3376.677238</td>\n      <td>1.199908</td>\n      <td>0</td>\n      <td>64.9814</td>\n      <td>0</td>\n      <td>-100</td>\n    </tr>\n  </tbody>\n</table>\n<p>1195 rows × 39 columns</p>\n</div>"
     },
     "metadata": {},
     "execution_count": 4
    }
   ],
   "source": [
    "# 数据集划分\n",
    "train_start_time = '2016-01-01'\n",
    "train_end_time = '2020-11-30'\n",
    "valid_start_time = '2021-01-01'\n",
    "valid_end_time = '2021-01-07'\n",
    "test_start_time = '2020-12-01'\n",
    "test_end_time = '2021-01-20'\n",
    "train_df = df.loc[train_start_time:train_end_time]\n",
    "valid_df = df.loc[valid_start_time:valid_end_time]\n",
    "test_df = df.loc[test_start_time:test_end_time]\n",
    "train_df"
   ]
  },
  {
   "cell_type": "code",
   "execution_count": 5,
   "metadata": {},
   "outputs": [
    {
     "output_type": "execute_result",
     "data": {
      "text/plain": [
       "array([[3296.258 , 3538.689 , 3295.741 , ...,  243.441 , -100.    ,\n",
       "        -100.    ],\n",
       "       [3287.711 , 3328.139 , 3189.605 , ...,  138.534 ,  100.    ,\n",
       "           0.    ],\n",
       "       [3361.84  , 3362.974 , 3288.933 , ...,   75.263 ,  100.    ,\n",
       "         100.    ],\n",
       "       ...,\n",
       "       [3369.7334, 3371.4537, 3344.2822, ...,   27.1715,    0.    ,\n",
       "           0.    ],\n",
       "       [3408.3071, 3408.3071, 3364.4919, ...,   43.8152,    0.    ,\n",
       "         100.    ],\n",
       "       [3391.7551, 3456.7365, 3391.7551, ...,   64.9814,    0.    ,\n",
       "        -100.    ]])"
      ]
     },
     "metadata": {},
     "execution_count": 5
    }
   ],
   "source": [
    "# 选择特征\n",
    "all_features = ['close', 'high', 'low', 'open', 'pre_close', 'change', 'pct_chg', 'volume', 'amount', 'ADX', 'ADXR', 'AROONDOWN', 'AROONUP', 'AROONOSC', 'ULTOSC', 'MA5', 'MA10', 'MA20', 'MA30', 'MA60', 'K', 'D', 'DIF', 'DEM', 'HISTOGRAM', 'UPPERBAND', 'MIDDLEBAND', 'LOWERBAND', 'RSI6', 'RSI12', 'RSI24', 'EMA', 'NATR', 'CDL3OUTSIDE', 'TRANGE', 'CDLBELTHOLD', 'CDLCLOSINGMARUBOZU']\n",
    "\n",
    "selected_features = ['close', 'high', 'low', 'open', 'pre_close', 'change', 'pct_chg', 'amount', 'ADX', 'ADXR', 'AROONDOWN', 'AROONOSC', 'ULTOSC', 'MA5', 'MA10', 'MA20', 'MA30', 'MA60', 'K', 'D', 'DEM', 'HISTOGRAM', 'UPPERBAND', 'MIDDLEBAND', 'RSI6', 'RSI12', 'RSI24', 'NATR', 'CDL3OUTSIDE', 'TRANGE', 'CDLBELTHOLD', 'CDLCLOSINGMARUBOZU']\n",
    "\n",
    "# 选择全部特征或者筛选特征\n",
    "features = selected_features\n",
    "\n",
    "x_train = train_df[features].values\n",
    "y_train = train_df['label'].values\n",
    "x_valid = valid_df[features].values\n",
    "y_valid = valid_df['label'].values\n",
    "x_test = test_df[features].values\n",
    "y_test = test_df['label'].values\n",
    "x_train"
   ]
  },
  {
   "cell_type": "code",
   "execution_count": 6,
   "metadata": {},
   "outputs": [],
   "source": [
    "def model_report(y_true, y_pred, name=''):\n",
    "    print(f'模型{name}')\n",
    "    print('指标报告:')\n",
    "    print(classification_report(y_true, y_pred))\n",
    "    print(f'准确率: {accuracy_score(y_true, y_pred)}')\n"
   ]
  },
  {
   "source": [
    "# 多模型训练"
   ],
   "cell_type": "markdown",
   "metadata": {}
  },
  {
   "cell_type": "code",
   "execution_count": 7,
   "metadata": {},
   "outputs": [],
   "source": [
    "def print_true_pred(pred_values):\n",
    "    pred_df = pd.DataFrame()\n",
    "    pred_df['date'] = test_df.index.get_level_values(0).values\n",
    "    pred_df['true'] = test_df['label'].values\n",
    "    pred_df['pred'] = pred_values\n",
    "    return pred_df"
   ]
  },
  {
   "cell_type": "code",
   "execution_count": 8,
   "metadata": {},
   "outputs": [
    {
     "output_type": "stream",
     "name": "stdout",
     "text": [
      "模型logistic\n指标报告:\n              precision    recall  f1-score   support\n\n           0       0.00      0.00      0.00        17\n           1       0.51      1.00      0.68        18\n\n    accuracy                           0.51        35\n   macro avg       0.26      0.50      0.34        35\nweighted avg       0.26      0.51      0.35        35\n\n准确率: 0.5142857142857142\n"
     ]
    },
    {
     "output_type": "execute_result",
     "data": {
      "text/plain": [
       "          date  true  pred\n",
       "0   2020-12-01     0     1\n",
       "1   2020-12-02     0     1\n",
       "2   2020-12-03     1     1\n",
       "3   2020-12-04     0     1\n",
       "4   2020-12-07     0     1\n",
       "5   2020-12-08     0     1\n",
       "6   2020-12-09     1     1\n",
       "7   2020-12-10     0     1\n",
       "8   2020-12-11     1     1\n",
       "9   2020-12-14     0     1\n",
       "10  2020-12-15     0     1\n",
       "11  2020-12-16     1     1\n",
       "12  2020-12-17     0     1\n",
       "13  2020-12-18     1     1\n",
       "14  2020-12-21     0     1\n",
       "15  2020-12-22     1     1\n",
       "16  2020-12-23     0     1\n",
       "17  2020-12-24     1     1\n",
       "18  2020-12-25     1     1\n",
       "19  2020-12-28     0     1\n",
       "20  2020-12-29     1     1\n",
       "21  2020-12-30     1     1\n",
       "22  2020-12-31     1     1\n",
       "23  2021-01-04     1     1\n",
       "24  2021-01-05     1     1\n",
       "25  2021-01-06     1     1\n",
       "26  2021-01-07     0     1\n",
       "27  2021-01-08     0     1\n",
       "28  2021-01-11     1     1\n",
       "29  2021-01-12     0     1\n",
       "30  2021-01-13     0     1\n",
       "31  2021-01-14     1     1\n",
       "32  2021-01-15     1     1\n",
       "33  2021-01-18     0     1\n",
       "34  2021-01-19     1     1"
      ],
      "text/html": "<div>\n<style scoped>\n    .dataframe tbody tr th:only-of-type {\n        vertical-align: middle;\n    }\n\n    .dataframe tbody tr th {\n        vertical-align: top;\n    }\n\n    .dataframe thead th {\n        text-align: right;\n    }\n</style>\n<table border=\"1\" class=\"dataframe\">\n  <thead>\n    <tr style=\"text-align: right;\">\n      <th></th>\n      <th>date</th>\n      <th>true</th>\n      <th>pred</th>\n    </tr>\n  </thead>\n  <tbody>\n    <tr>\n      <th>0</th>\n      <td>2020-12-01</td>\n      <td>0</td>\n      <td>1</td>\n    </tr>\n    <tr>\n      <th>1</th>\n      <td>2020-12-02</td>\n      <td>0</td>\n      <td>1</td>\n    </tr>\n    <tr>\n      <th>2</th>\n      <td>2020-12-03</td>\n      <td>1</td>\n      <td>1</td>\n    </tr>\n    <tr>\n      <th>3</th>\n      <td>2020-12-04</td>\n      <td>0</td>\n      <td>1</td>\n    </tr>\n    <tr>\n      <th>4</th>\n      <td>2020-12-07</td>\n      <td>0</td>\n      <td>1</td>\n    </tr>\n    <tr>\n      <th>5</th>\n      <td>2020-12-08</td>\n      <td>0</td>\n      <td>1</td>\n    </tr>\n    <tr>\n      <th>6</th>\n      <td>2020-12-09</td>\n      <td>1</td>\n      <td>1</td>\n    </tr>\n    <tr>\n      <th>7</th>\n      <td>2020-12-10</td>\n      <td>0</td>\n      <td>1</td>\n    </tr>\n    <tr>\n      <th>8</th>\n      <td>2020-12-11</td>\n      <td>1</td>\n      <td>1</td>\n    </tr>\n    <tr>\n      <th>9</th>\n      <td>2020-12-14</td>\n      <td>0</td>\n      <td>1</td>\n    </tr>\n    <tr>\n      <th>10</th>\n      <td>2020-12-15</td>\n      <td>0</td>\n      <td>1</td>\n    </tr>\n    <tr>\n      <th>11</th>\n      <td>2020-12-16</td>\n      <td>1</td>\n      <td>1</td>\n    </tr>\n    <tr>\n      <th>12</th>\n      <td>2020-12-17</td>\n      <td>0</td>\n      <td>1</td>\n    </tr>\n    <tr>\n      <th>13</th>\n      <td>2020-12-18</td>\n      <td>1</td>\n      <td>1</td>\n    </tr>\n    <tr>\n      <th>14</th>\n      <td>2020-12-21</td>\n      <td>0</td>\n      <td>1</td>\n    </tr>\n    <tr>\n      <th>15</th>\n      <td>2020-12-22</td>\n      <td>1</td>\n      <td>1</td>\n    </tr>\n    <tr>\n      <th>16</th>\n      <td>2020-12-23</td>\n      <td>0</td>\n      <td>1</td>\n    </tr>\n    <tr>\n      <th>17</th>\n      <td>2020-12-24</td>\n      <td>1</td>\n      <td>1</td>\n    </tr>\n    <tr>\n      <th>18</th>\n      <td>2020-12-25</td>\n      <td>1</td>\n      <td>1</td>\n    </tr>\n    <tr>\n      <th>19</th>\n      <td>2020-12-28</td>\n      <td>0</td>\n      <td>1</td>\n    </tr>\n    <tr>\n      <th>20</th>\n      <td>2020-12-29</td>\n      <td>1</td>\n      <td>1</td>\n    </tr>\n    <tr>\n      <th>21</th>\n      <td>2020-12-30</td>\n      <td>1</td>\n      <td>1</td>\n    </tr>\n    <tr>\n      <th>22</th>\n      <td>2020-12-31</td>\n      <td>1</td>\n      <td>1</td>\n    </tr>\n    <tr>\n      <th>23</th>\n      <td>2021-01-04</td>\n      <td>1</td>\n      <td>1</td>\n    </tr>\n    <tr>\n      <th>24</th>\n      <td>2021-01-05</td>\n      <td>1</td>\n      <td>1</td>\n    </tr>\n    <tr>\n      <th>25</th>\n      <td>2021-01-06</td>\n      <td>1</td>\n      <td>1</td>\n    </tr>\n    <tr>\n      <th>26</th>\n      <td>2021-01-07</td>\n      <td>0</td>\n      <td>1</td>\n    </tr>\n    <tr>\n      <th>27</th>\n      <td>2021-01-08</td>\n      <td>0</td>\n      <td>1</td>\n    </tr>\n    <tr>\n      <th>28</th>\n      <td>2021-01-11</td>\n      <td>1</td>\n      <td>1</td>\n    </tr>\n    <tr>\n      <th>29</th>\n      <td>2021-01-12</td>\n      <td>0</td>\n      <td>1</td>\n    </tr>\n    <tr>\n      <th>30</th>\n      <td>2021-01-13</td>\n      <td>0</td>\n      <td>1</td>\n    </tr>\n    <tr>\n      <th>31</th>\n      <td>2021-01-14</td>\n      <td>1</td>\n      <td>1</td>\n    </tr>\n    <tr>\n      <th>32</th>\n      <td>2021-01-15</td>\n      <td>1</td>\n      <td>1</td>\n    </tr>\n    <tr>\n      <th>33</th>\n      <td>2021-01-18</td>\n      <td>0</td>\n      <td>1</td>\n    </tr>\n    <tr>\n      <th>34</th>\n      <td>2021-01-19</td>\n      <td>1</td>\n      <td>1</td>\n    </tr>\n  </tbody>\n</table>\n</div>"
     },
     "metadata": {},
     "execution_count": 8
    }
   ],
   "source": [
    "# logistic\n",
    "from sklearn.linear_model import LogisticRegression\n",
    "lrModel = LogisticRegression(penalty='l2')\n",
    "lrModel.fit(x_train, y_train)\n",
    "pred_lrModel = lrModel.predict(x_test)\n",
    "\n",
    "model_report(y_test, pred_lrModel, 'logistic')\n",
    "print_true_pred(pred_lrModel)"
   ]
  },
  {
   "cell_type": "code",
   "execution_count": 9,
   "metadata": {},
   "outputs": [
    {
     "output_type": "stream",
     "name": "stdout",
     "text": [
      "模型GBDT\n指标报告:\n              precision    recall  f1-score   support\n\n           0       0.53      0.59      0.56        17\n           1       0.56      0.50      0.53        18\n\n    accuracy                           0.54        35\n   macro avg       0.54      0.54      0.54        35\nweighted avg       0.54      0.54      0.54        35\n\n准确率: 0.5428571428571428\n"
     ]
    },
    {
     "output_type": "execute_result",
     "data": {
      "text/plain": [
       "          date  true  pred\n",
       "0   2020-12-01     0     0\n",
       "1   2020-12-02     0     0\n",
       "2   2020-12-03     1     0\n",
       "3   2020-12-04     0     0\n",
       "4   2020-12-07     0     0\n",
       "5   2020-12-08     0     1\n",
       "6   2020-12-09     1     0\n",
       "7   2020-12-10     0     1\n",
       "8   2020-12-11     1     1\n",
       "9   2020-12-14     0     1\n",
       "10  2020-12-15     0     1\n",
       "11  2020-12-16     1     1\n",
       "12  2020-12-17     0     1\n",
       "13  2020-12-18     1     0\n",
       "14  2020-12-21     0     0\n",
       "15  2020-12-22     1     1\n",
       "16  2020-12-23     0     1\n",
       "17  2020-12-24     1     1\n",
       "18  2020-12-25     1     1\n",
       "19  2020-12-28     0     1\n",
       "20  2020-12-29     1     1\n",
       "21  2020-12-30     1     1\n",
       "22  2020-12-31     1     1\n",
       "23  2021-01-04     1     1\n",
       "24  2021-01-05     1     0\n",
       "25  2021-01-06     1     0\n",
       "26  2021-01-07     0     0\n",
       "27  2021-01-08     0     0\n",
       "28  2021-01-11     1     0\n",
       "29  2021-01-12     0     0\n",
       "30  2021-01-13     0     0\n",
       "31  2021-01-14     1     0\n",
       "32  2021-01-15     1     0\n",
       "33  2021-01-18     0     0\n",
       "34  2021-01-19     1     0"
      ],
      "text/html": "<div>\n<style scoped>\n    .dataframe tbody tr th:only-of-type {\n        vertical-align: middle;\n    }\n\n    .dataframe tbody tr th {\n        vertical-align: top;\n    }\n\n    .dataframe thead th {\n        text-align: right;\n    }\n</style>\n<table border=\"1\" class=\"dataframe\">\n  <thead>\n    <tr style=\"text-align: right;\">\n      <th></th>\n      <th>date</th>\n      <th>true</th>\n      <th>pred</th>\n    </tr>\n  </thead>\n  <tbody>\n    <tr>\n      <th>0</th>\n      <td>2020-12-01</td>\n      <td>0</td>\n      <td>0</td>\n    </tr>\n    <tr>\n      <th>1</th>\n      <td>2020-12-02</td>\n      <td>0</td>\n      <td>0</td>\n    </tr>\n    <tr>\n      <th>2</th>\n      <td>2020-12-03</td>\n      <td>1</td>\n      <td>0</td>\n    </tr>\n    <tr>\n      <th>3</th>\n      <td>2020-12-04</td>\n      <td>0</td>\n      <td>0</td>\n    </tr>\n    <tr>\n      <th>4</th>\n      <td>2020-12-07</td>\n      <td>0</td>\n      <td>0</td>\n    </tr>\n    <tr>\n      <th>5</th>\n      <td>2020-12-08</td>\n      <td>0</td>\n      <td>1</td>\n    </tr>\n    <tr>\n      <th>6</th>\n      <td>2020-12-09</td>\n      <td>1</td>\n      <td>0</td>\n    </tr>\n    <tr>\n      <th>7</th>\n      <td>2020-12-10</td>\n      <td>0</td>\n      <td>1</td>\n    </tr>\n    <tr>\n      <th>8</th>\n      <td>2020-12-11</td>\n      <td>1</td>\n      <td>1</td>\n    </tr>\n    <tr>\n      <th>9</th>\n      <td>2020-12-14</td>\n      <td>0</td>\n      <td>1</td>\n    </tr>\n    <tr>\n      <th>10</th>\n      <td>2020-12-15</td>\n      <td>0</td>\n      <td>1</td>\n    </tr>\n    <tr>\n      <th>11</th>\n      <td>2020-12-16</td>\n      <td>1</td>\n      <td>1</td>\n    </tr>\n    <tr>\n      <th>12</th>\n      <td>2020-12-17</td>\n      <td>0</td>\n      <td>1</td>\n    </tr>\n    <tr>\n      <th>13</th>\n      <td>2020-12-18</td>\n      <td>1</td>\n      <td>0</td>\n    </tr>\n    <tr>\n      <th>14</th>\n      <td>2020-12-21</td>\n      <td>0</td>\n      <td>0</td>\n    </tr>\n    <tr>\n      <th>15</th>\n      <td>2020-12-22</td>\n      <td>1</td>\n      <td>1</td>\n    </tr>\n    <tr>\n      <th>16</th>\n      <td>2020-12-23</td>\n      <td>0</td>\n      <td>1</td>\n    </tr>\n    <tr>\n      <th>17</th>\n      <td>2020-12-24</td>\n      <td>1</td>\n      <td>1</td>\n    </tr>\n    <tr>\n      <th>18</th>\n      <td>2020-12-25</td>\n      <td>1</td>\n      <td>1</td>\n    </tr>\n    <tr>\n      <th>19</th>\n      <td>2020-12-28</td>\n      <td>0</td>\n      <td>1</td>\n    </tr>\n    <tr>\n      <th>20</th>\n      <td>2020-12-29</td>\n      <td>1</td>\n      <td>1</td>\n    </tr>\n    <tr>\n      <th>21</th>\n      <td>2020-12-30</td>\n      <td>1</td>\n      <td>1</td>\n    </tr>\n    <tr>\n      <th>22</th>\n      <td>2020-12-31</td>\n      <td>1</td>\n      <td>1</td>\n    </tr>\n    <tr>\n      <th>23</th>\n      <td>2021-01-04</td>\n      <td>1</td>\n      <td>1</td>\n    </tr>\n    <tr>\n      <th>24</th>\n      <td>2021-01-05</td>\n      <td>1</td>\n      <td>0</td>\n    </tr>\n    <tr>\n      <th>25</th>\n      <td>2021-01-06</td>\n      <td>1</td>\n      <td>0</td>\n    </tr>\n    <tr>\n      <th>26</th>\n      <td>2021-01-07</td>\n      <td>0</td>\n      <td>0</td>\n    </tr>\n    <tr>\n      <th>27</th>\n      <td>2021-01-08</td>\n      <td>0</td>\n      <td>0</td>\n    </tr>\n    <tr>\n      <th>28</th>\n      <td>2021-01-11</td>\n      <td>1</td>\n      <td>0</td>\n    </tr>\n    <tr>\n      <th>29</th>\n      <td>2021-01-12</td>\n      <td>0</td>\n      <td>0</td>\n    </tr>\n    <tr>\n      <th>30</th>\n      <td>2021-01-13</td>\n      <td>0</td>\n      <td>0</td>\n    </tr>\n    <tr>\n      <th>31</th>\n      <td>2021-01-14</td>\n      <td>1</td>\n      <td>0</td>\n    </tr>\n    <tr>\n      <th>32</th>\n      <td>2021-01-15</td>\n      <td>1</td>\n      <td>0</td>\n    </tr>\n    <tr>\n      <th>33</th>\n      <td>2021-01-18</td>\n      <td>0</td>\n      <td>0</td>\n    </tr>\n    <tr>\n      <th>34</th>\n      <td>2021-01-19</td>\n      <td>1</td>\n      <td>0</td>\n    </tr>\n  </tbody>\n</table>\n</div>"
     },
     "metadata": {},
     "execution_count": 9
    }
   ],
   "source": [
    "# GBDT\n",
    "from sklearn.ensemble import GradientBoostingClassifier\n",
    "gbdtModel = GradientBoostingClassifier(n_estimators=200)\n",
    "gbdtModel.fit(x_train, y_train)\n",
    "pred_gbdtModel = gbdtModel.predict(x_test)\n",
    "\n",
    "model_report(y_test, pred_gbdtModel, 'GBDT')\n",
    "print_true_pred(pred_gbdtModel)"
   ]
  },
  {
   "cell_type": "code",
   "execution_count": 10,
   "metadata": {},
   "outputs": [
    {
     "output_type": "stream",
     "name": "stdout",
     "text": [
      "模型SVC\n指标报告:\n              precision    recall  f1-score   support\n\n           0       0.00      0.00      0.00        17\n           1       0.51      1.00      0.68        18\n\n    accuracy                           0.51        35\n   macro avg       0.26      0.50      0.34        35\nweighted avg       0.26      0.51      0.35        35\n\n准确率: 0.5142857142857142\n"
     ]
    },
    {
     "output_type": "execute_result",
     "data": {
      "text/plain": [
       "          date  true  pred\n",
       "0   2020-12-01     0     1\n",
       "1   2020-12-02     0     1\n",
       "2   2020-12-03     1     1\n",
       "3   2020-12-04     0     1\n",
       "4   2020-12-07     0     1\n",
       "5   2020-12-08     0     1\n",
       "6   2020-12-09     1     1\n",
       "7   2020-12-10     0     1\n",
       "8   2020-12-11     1     1\n",
       "9   2020-12-14     0     1\n",
       "10  2020-12-15     0     1\n",
       "11  2020-12-16     1     1\n",
       "12  2020-12-17     0     1\n",
       "13  2020-12-18     1     1\n",
       "14  2020-12-21     0     1\n",
       "15  2020-12-22     1     1\n",
       "16  2020-12-23     0     1\n",
       "17  2020-12-24     1     1\n",
       "18  2020-12-25     1     1\n",
       "19  2020-12-28     0     1\n",
       "20  2020-12-29     1     1\n",
       "21  2020-12-30     1     1\n",
       "22  2020-12-31     1     1\n",
       "23  2021-01-04     1     1\n",
       "24  2021-01-05     1     1\n",
       "25  2021-01-06     1     1\n",
       "26  2021-01-07     0     1\n",
       "27  2021-01-08     0     1\n",
       "28  2021-01-11     1     1\n",
       "29  2021-01-12     0     1\n",
       "30  2021-01-13     0     1\n",
       "31  2021-01-14     1     1\n",
       "32  2021-01-15     1     1\n",
       "33  2021-01-18     0     1\n",
       "34  2021-01-19     1     1"
      ],
      "text/html": "<div>\n<style scoped>\n    .dataframe tbody tr th:only-of-type {\n        vertical-align: middle;\n    }\n\n    .dataframe tbody tr th {\n        vertical-align: top;\n    }\n\n    .dataframe thead th {\n        text-align: right;\n    }\n</style>\n<table border=\"1\" class=\"dataframe\">\n  <thead>\n    <tr style=\"text-align: right;\">\n      <th></th>\n      <th>date</th>\n      <th>true</th>\n      <th>pred</th>\n    </tr>\n  </thead>\n  <tbody>\n    <tr>\n      <th>0</th>\n      <td>2020-12-01</td>\n      <td>0</td>\n      <td>1</td>\n    </tr>\n    <tr>\n      <th>1</th>\n      <td>2020-12-02</td>\n      <td>0</td>\n      <td>1</td>\n    </tr>\n    <tr>\n      <th>2</th>\n      <td>2020-12-03</td>\n      <td>1</td>\n      <td>1</td>\n    </tr>\n    <tr>\n      <th>3</th>\n      <td>2020-12-04</td>\n      <td>0</td>\n      <td>1</td>\n    </tr>\n    <tr>\n      <th>4</th>\n      <td>2020-12-07</td>\n      <td>0</td>\n      <td>1</td>\n    </tr>\n    <tr>\n      <th>5</th>\n      <td>2020-12-08</td>\n      <td>0</td>\n      <td>1</td>\n    </tr>\n    <tr>\n      <th>6</th>\n      <td>2020-12-09</td>\n      <td>1</td>\n      <td>1</td>\n    </tr>\n    <tr>\n      <th>7</th>\n      <td>2020-12-10</td>\n      <td>0</td>\n      <td>1</td>\n    </tr>\n    <tr>\n      <th>8</th>\n      <td>2020-12-11</td>\n      <td>1</td>\n      <td>1</td>\n    </tr>\n    <tr>\n      <th>9</th>\n      <td>2020-12-14</td>\n      <td>0</td>\n      <td>1</td>\n    </tr>\n    <tr>\n      <th>10</th>\n      <td>2020-12-15</td>\n      <td>0</td>\n      <td>1</td>\n    </tr>\n    <tr>\n      <th>11</th>\n      <td>2020-12-16</td>\n      <td>1</td>\n      <td>1</td>\n    </tr>\n    <tr>\n      <th>12</th>\n      <td>2020-12-17</td>\n      <td>0</td>\n      <td>1</td>\n    </tr>\n    <tr>\n      <th>13</th>\n      <td>2020-12-18</td>\n      <td>1</td>\n      <td>1</td>\n    </tr>\n    <tr>\n      <th>14</th>\n      <td>2020-12-21</td>\n      <td>0</td>\n      <td>1</td>\n    </tr>\n    <tr>\n      <th>15</th>\n      <td>2020-12-22</td>\n      <td>1</td>\n      <td>1</td>\n    </tr>\n    <tr>\n      <th>16</th>\n      <td>2020-12-23</td>\n      <td>0</td>\n      <td>1</td>\n    </tr>\n    <tr>\n      <th>17</th>\n      <td>2020-12-24</td>\n      <td>1</td>\n      <td>1</td>\n    </tr>\n    <tr>\n      <th>18</th>\n      <td>2020-12-25</td>\n      <td>1</td>\n      <td>1</td>\n    </tr>\n    <tr>\n      <th>19</th>\n      <td>2020-12-28</td>\n      <td>0</td>\n      <td>1</td>\n    </tr>\n    <tr>\n      <th>20</th>\n      <td>2020-12-29</td>\n      <td>1</td>\n      <td>1</td>\n    </tr>\n    <tr>\n      <th>21</th>\n      <td>2020-12-30</td>\n      <td>1</td>\n      <td>1</td>\n    </tr>\n    <tr>\n      <th>22</th>\n      <td>2020-12-31</td>\n      <td>1</td>\n      <td>1</td>\n    </tr>\n    <tr>\n      <th>23</th>\n      <td>2021-01-04</td>\n      <td>1</td>\n      <td>1</td>\n    </tr>\n    <tr>\n      <th>24</th>\n      <td>2021-01-05</td>\n      <td>1</td>\n      <td>1</td>\n    </tr>\n    <tr>\n      <th>25</th>\n      <td>2021-01-06</td>\n      <td>1</td>\n      <td>1</td>\n    </tr>\n    <tr>\n      <th>26</th>\n      <td>2021-01-07</td>\n      <td>0</td>\n      <td>1</td>\n    </tr>\n    <tr>\n      <th>27</th>\n      <td>2021-01-08</td>\n      <td>0</td>\n      <td>1</td>\n    </tr>\n    <tr>\n      <th>28</th>\n      <td>2021-01-11</td>\n      <td>1</td>\n      <td>1</td>\n    </tr>\n    <tr>\n      <th>29</th>\n      <td>2021-01-12</td>\n      <td>0</td>\n      <td>1</td>\n    </tr>\n    <tr>\n      <th>30</th>\n      <td>2021-01-13</td>\n      <td>0</td>\n      <td>1</td>\n    </tr>\n    <tr>\n      <th>31</th>\n      <td>2021-01-14</td>\n      <td>1</td>\n      <td>1</td>\n    </tr>\n    <tr>\n      <th>32</th>\n      <td>2021-01-15</td>\n      <td>1</td>\n      <td>1</td>\n    </tr>\n    <tr>\n      <th>33</th>\n      <td>2021-01-18</td>\n      <td>0</td>\n      <td>1</td>\n    </tr>\n    <tr>\n      <th>34</th>\n      <td>2021-01-19</td>\n      <td>1</td>\n      <td>1</td>\n    </tr>\n  </tbody>\n</table>\n</div>"
     },
     "metadata": {},
     "execution_count": 10
    }
   ],
   "source": [
    "# SVC\n",
    "from sklearn.svm import SVC\n",
    "svmModel = SVC(kernel='rbf', probability=True)\n",
    "svmModel.fit(x_train, y_train)\n",
    "pred_svmModel = svmModel.predict(x_test)\n",
    "\n",
    "model_report(y_test, pred_svmModel, 'SVC')\n",
    "print_true_pred(pred_svmModel)"
   ]
  },
  {
   "cell_type": "code",
   "execution_count": 11,
   "metadata": {},
   "outputs": [
    {
     "output_type": "stream",
     "name": "stdout",
     "text": [
      "模型QuadraticDiscriminantAnalysis\n指标报告:\n              precision    recall  f1-score   support\n\n           0       0.75      0.71      0.73        17\n           1       0.74      0.78      0.76        18\n\n    accuracy                           0.74        35\n   macro avg       0.74      0.74      0.74        35\nweighted avg       0.74      0.74      0.74        35\n\n准确率: 0.7428571428571429\n"
     ]
    },
    {
     "output_type": "execute_result",
     "data": {
      "text/plain": [
       "          date  true  pred\n",
       "0   2020-12-01     0     0\n",
       "1   2020-12-02     0     0\n",
       "2   2020-12-03     1     0\n",
       "3   2020-12-04     0     0\n",
       "4   2020-12-07     0     0\n",
       "5   2020-12-08     0     0\n",
       "6   2020-12-09     1     0\n",
       "7   2020-12-10     0     0\n",
       "8   2020-12-11     1     1\n",
       "9   2020-12-14     0     0\n",
       "10  2020-12-15     0     1\n",
       "11  2020-12-16     1     1\n",
       "12  2020-12-17     0     0\n",
       "13  2020-12-18     1     1\n",
       "14  2020-12-21     0     1\n",
       "15  2020-12-22     1     1\n",
       "16  2020-12-23     0     1\n",
       "17  2020-12-24     1     1\n",
       "18  2020-12-25     1     1\n",
       "19  2020-12-28     0     1\n",
       "20  2020-12-29     1     1\n",
       "21  2020-12-30     1     1\n",
       "22  2020-12-31     1     1\n",
       "23  2021-01-04     1     1\n",
       "24  2021-01-05     1     1\n",
       "25  2021-01-06     1     1\n",
       "26  2021-01-07     0     0\n",
       "27  2021-01-08     0     0\n",
       "28  2021-01-11     1     1\n",
       "29  2021-01-12     0     0\n",
       "30  2021-01-13     0     0\n",
       "31  2021-01-14     1     0\n",
       "32  2021-01-15     1     0\n",
       "33  2021-01-18     0     1\n",
       "34  2021-01-19     1     1"
      ],
      "text/html": "<div>\n<style scoped>\n    .dataframe tbody tr th:only-of-type {\n        vertical-align: middle;\n    }\n\n    .dataframe tbody tr th {\n        vertical-align: top;\n    }\n\n    .dataframe thead th {\n        text-align: right;\n    }\n</style>\n<table border=\"1\" class=\"dataframe\">\n  <thead>\n    <tr style=\"text-align: right;\">\n      <th></th>\n      <th>date</th>\n      <th>true</th>\n      <th>pred</th>\n    </tr>\n  </thead>\n  <tbody>\n    <tr>\n      <th>0</th>\n      <td>2020-12-01</td>\n      <td>0</td>\n      <td>0</td>\n    </tr>\n    <tr>\n      <th>1</th>\n      <td>2020-12-02</td>\n      <td>0</td>\n      <td>0</td>\n    </tr>\n    <tr>\n      <th>2</th>\n      <td>2020-12-03</td>\n      <td>1</td>\n      <td>0</td>\n    </tr>\n    <tr>\n      <th>3</th>\n      <td>2020-12-04</td>\n      <td>0</td>\n      <td>0</td>\n    </tr>\n    <tr>\n      <th>4</th>\n      <td>2020-12-07</td>\n      <td>0</td>\n      <td>0</td>\n    </tr>\n    <tr>\n      <th>5</th>\n      <td>2020-12-08</td>\n      <td>0</td>\n      <td>0</td>\n    </tr>\n    <tr>\n      <th>6</th>\n      <td>2020-12-09</td>\n      <td>1</td>\n      <td>0</td>\n    </tr>\n    <tr>\n      <th>7</th>\n      <td>2020-12-10</td>\n      <td>0</td>\n      <td>0</td>\n    </tr>\n    <tr>\n      <th>8</th>\n      <td>2020-12-11</td>\n      <td>1</td>\n      <td>1</td>\n    </tr>\n    <tr>\n      <th>9</th>\n      <td>2020-12-14</td>\n      <td>0</td>\n      <td>0</td>\n    </tr>\n    <tr>\n      <th>10</th>\n      <td>2020-12-15</td>\n      <td>0</td>\n      <td>1</td>\n    </tr>\n    <tr>\n      <th>11</th>\n      <td>2020-12-16</td>\n      <td>1</td>\n      <td>1</td>\n    </tr>\n    <tr>\n      <th>12</th>\n      <td>2020-12-17</td>\n      <td>0</td>\n      <td>0</td>\n    </tr>\n    <tr>\n      <th>13</th>\n      <td>2020-12-18</td>\n      <td>1</td>\n      <td>1</td>\n    </tr>\n    <tr>\n      <th>14</th>\n      <td>2020-12-21</td>\n      <td>0</td>\n      <td>1</td>\n    </tr>\n    <tr>\n      <th>15</th>\n      <td>2020-12-22</td>\n      <td>1</td>\n      <td>1</td>\n    </tr>\n    <tr>\n      <th>16</th>\n      <td>2020-12-23</td>\n      <td>0</td>\n      <td>1</td>\n    </tr>\n    <tr>\n      <th>17</th>\n      <td>2020-12-24</td>\n      <td>1</td>\n      <td>1</td>\n    </tr>\n    <tr>\n      <th>18</th>\n      <td>2020-12-25</td>\n      <td>1</td>\n      <td>1</td>\n    </tr>\n    <tr>\n      <th>19</th>\n      <td>2020-12-28</td>\n      <td>0</td>\n      <td>1</td>\n    </tr>\n    <tr>\n      <th>20</th>\n      <td>2020-12-29</td>\n      <td>1</td>\n      <td>1</td>\n    </tr>\n    <tr>\n      <th>21</th>\n      <td>2020-12-30</td>\n      <td>1</td>\n      <td>1</td>\n    </tr>\n    <tr>\n      <th>22</th>\n      <td>2020-12-31</td>\n      <td>1</td>\n      <td>1</td>\n    </tr>\n    <tr>\n      <th>23</th>\n      <td>2021-01-04</td>\n      <td>1</td>\n      <td>1</td>\n    </tr>\n    <tr>\n      <th>24</th>\n      <td>2021-01-05</td>\n      <td>1</td>\n      <td>1</td>\n    </tr>\n    <tr>\n      <th>25</th>\n      <td>2021-01-06</td>\n      <td>1</td>\n      <td>1</td>\n    </tr>\n    <tr>\n      <th>26</th>\n      <td>2021-01-07</td>\n      <td>0</td>\n      <td>0</td>\n    </tr>\n    <tr>\n      <th>27</th>\n      <td>2021-01-08</td>\n      <td>0</td>\n      <td>0</td>\n    </tr>\n    <tr>\n      <th>28</th>\n      <td>2021-01-11</td>\n      <td>1</td>\n      <td>1</td>\n    </tr>\n    <tr>\n      <th>29</th>\n      <td>2021-01-12</td>\n      <td>0</td>\n      <td>0</td>\n    </tr>\n    <tr>\n      <th>30</th>\n      <td>2021-01-13</td>\n      <td>0</td>\n      <td>0</td>\n    </tr>\n    <tr>\n      <th>31</th>\n      <td>2021-01-14</td>\n      <td>1</td>\n      <td>0</td>\n    </tr>\n    <tr>\n      <th>32</th>\n      <td>2021-01-15</td>\n      <td>1</td>\n      <td>0</td>\n    </tr>\n    <tr>\n      <th>33</th>\n      <td>2021-01-18</td>\n      <td>0</td>\n      <td>1</td>\n    </tr>\n    <tr>\n      <th>34</th>\n      <td>2021-01-19</td>\n      <td>1</td>\n      <td>1</td>\n    </tr>\n  </tbody>\n</table>\n</div>"
     },
     "metadata": {},
     "execution_count": 11
    }
   ],
   "source": [
    "# QDA\n",
    "from sklearn.discriminant_analysis import QuadraticDiscriminantAnalysis\n",
    "qdaModel = QuadraticDiscriminantAnalysis()\n",
    "qdaModel.fit(x_train, y_train)\n",
    "pred_qdaModel = qdaModel.predict(x_test)\n",
    "model_report(y_test, pred_qdaModel, 'QuadraticDiscriminantAnalysis')\n",
    "print_true_pred(pred_qdaModel)"
   ]
  },
  {
   "cell_type": "code",
   "execution_count": 69,
   "metadata": {},
   "outputs": [
    {
     "output_type": "stream",
     "name": "stdout",
     "text": [
      "模型RandomForest\n指标报告:\n              precision    recall  f1-score   support\n\n           0       0.57      0.67      0.62        18\n           1       0.57      0.47      0.52        17\n\n    accuracy                           0.57        35\n   macro avg       0.57      0.57      0.57        35\nweighted avg       0.57      0.57      0.57        35\n\n准确率: 0.5714285714285714\n"
     ]
    },
    {
     "output_type": "execute_result",
     "data": {
      "text/plain": [
       "          date  true  pred\n",
       "0   2020-12-01     0     0\n",
       "1   2020-12-02     0     0\n",
       "2   2020-12-03     1     0\n",
       "3   2020-12-04     0     0\n",
       "4   2020-12-07     0     0\n",
       "5   2020-12-08     0     1\n",
       "6   2020-12-09     1     1\n",
       "7   2020-12-10     0     1\n",
       "8   2020-12-11     1     1\n",
       "9   2020-12-14     0     1\n",
       "10  2020-12-15     0     1\n",
       "11  2020-12-16     1     1\n",
       "12  2020-12-17     0     0\n",
       "13  2020-12-18     1     0\n",
       "14  2020-12-21     0     0\n",
       "15  2020-12-22     1     1\n",
       "16  2020-12-23     0     1\n",
       "17  2020-12-24     1     1\n",
       "18  2020-12-25     1     1\n",
       "19  2020-12-28     0     1\n",
       "20  2020-12-29     1     1\n",
       "21  2020-12-30     1     0\n",
       "22  2020-12-31     1     1\n",
       "23  2021-01-04     1     0\n",
       "24  2021-01-05     1     0\n",
       "25  2021-01-06     1     0\n",
       "26  2021-01-07     0     0\n",
       "27  2021-01-08     0     0\n",
       "28  2021-01-11     1     0\n",
       "29  2021-01-12     0     0\n",
       "30  2021-01-13     0     0\n",
       "31  2021-01-14     1     0\n",
       "32  2021-01-15     1     0\n",
       "33  2021-01-18     0     0\n",
       "34  2021-01-19     0     0"
      ],
      "text/html": "<div>\n<style scoped>\n    .dataframe tbody tr th:only-of-type {\n        vertical-align: middle;\n    }\n\n    .dataframe tbody tr th {\n        vertical-align: top;\n    }\n\n    .dataframe thead th {\n        text-align: right;\n    }\n</style>\n<table border=\"1\" class=\"dataframe\">\n  <thead>\n    <tr style=\"text-align: right;\">\n      <th></th>\n      <th>date</th>\n      <th>true</th>\n      <th>pred</th>\n    </tr>\n  </thead>\n  <tbody>\n    <tr>\n      <th>0</th>\n      <td>2020-12-01</td>\n      <td>0</td>\n      <td>0</td>\n    </tr>\n    <tr>\n      <th>1</th>\n      <td>2020-12-02</td>\n      <td>0</td>\n      <td>0</td>\n    </tr>\n    <tr>\n      <th>2</th>\n      <td>2020-12-03</td>\n      <td>1</td>\n      <td>0</td>\n    </tr>\n    <tr>\n      <th>3</th>\n      <td>2020-12-04</td>\n      <td>0</td>\n      <td>0</td>\n    </tr>\n    <tr>\n      <th>4</th>\n      <td>2020-12-07</td>\n      <td>0</td>\n      <td>0</td>\n    </tr>\n    <tr>\n      <th>5</th>\n      <td>2020-12-08</td>\n      <td>0</td>\n      <td>1</td>\n    </tr>\n    <tr>\n      <th>6</th>\n      <td>2020-12-09</td>\n      <td>1</td>\n      <td>1</td>\n    </tr>\n    <tr>\n      <th>7</th>\n      <td>2020-12-10</td>\n      <td>0</td>\n      <td>1</td>\n    </tr>\n    <tr>\n      <th>8</th>\n      <td>2020-12-11</td>\n      <td>1</td>\n      <td>1</td>\n    </tr>\n    <tr>\n      <th>9</th>\n      <td>2020-12-14</td>\n      <td>0</td>\n      <td>1</td>\n    </tr>\n    <tr>\n      <th>10</th>\n      <td>2020-12-15</td>\n      <td>0</td>\n      <td>1</td>\n    </tr>\n    <tr>\n      <th>11</th>\n      <td>2020-12-16</td>\n      <td>1</td>\n      <td>1</td>\n    </tr>\n    <tr>\n      <th>12</th>\n      <td>2020-12-17</td>\n      <td>0</td>\n      <td>0</td>\n    </tr>\n    <tr>\n      <th>13</th>\n      <td>2020-12-18</td>\n      <td>1</td>\n      <td>0</td>\n    </tr>\n    <tr>\n      <th>14</th>\n      <td>2020-12-21</td>\n      <td>0</td>\n      <td>0</td>\n    </tr>\n    <tr>\n      <th>15</th>\n      <td>2020-12-22</td>\n      <td>1</td>\n      <td>1</td>\n    </tr>\n    <tr>\n      <th>16</th>\n      <td>2020-12-23</td>\n      <td>0</td>\n      <td>1</td>\n    </tr>\n    <tr>\n      <th>17</th>\n      <td>2020-12-24</td>\n      <td>1</td>\n      <td>1</td>\n    </tr>\n    <tr>\n      <th>18</th>\n      <td>2020-12-25</td>\n      <td>1</td>\n      <td>1</td>\n    </tr>\n    <tr>\n      <th>19</th>\n      <td>2020-12-28</td>\n      <td>0</td>\n      <td>1</td>\n    </tr>\n    <tr>\n      <th>20</th>\n      <td>2020-12-29</td>\n      <td>1</td>\n      <td>1</td>\n    </tr>\n    <tr>\n      <th>21</th>\n      <td>2020-12-30</td>\n      <td>1</td>\n      <td>0</td>\n    </tr>\n    <tr>\n      <th>22</th>\n      <td>2020-12-31</td>\n      <td>1</td>\n      <td>1</td>\n    </tr>\n    <tr>\n      <th>23</th>\n      <td>2021-01-04</td>\n      <td>1</td>\n      <td>0</td>\n    </tr>\n    <tr>\n      <th>24</th>\n      <td>2021-01-05</td>\n      <td>1</td>\n      <td>0</td>\n    </tr>\n    <tr>\n      <th>25</th>\n      <td>2021-01-06</td>\n      <td>1</td>\n      <td>0</td>\n    </tr>\n    <tr>\n      <th>26</th>\n      <td>2021-01-07</td>\n      <td>0</td>\n      <td>0</td>\n    </tr>\n    <tr>\n      <th>27</th>\n      <td>2021-01-08</td>\n      <td>0</td>\n      <td>0</td>\n    </tr>\n    <tr>\n      <th>28</th>\n      <td>2021-01-11</td>\n      <td>1</td>\n      <td>0</td>\n    </tr>\n    <tr>\n      <th>29</th>\n      <td>2021-01-12</td>\n      <td>0</td>\n      <td>0</td>\n    </tr>\n    <tr>\n      <th>30</th>\n      <td>2021-01-13</td>\n      <td>0</td>\n      <td>0</td>\n    </tr>\n    <tr>\n      <th>31</th>\n      <td>2021-01-14</td>\n      <td>1</td>\n      <td>0</td>\n    </tr>\n    <tr>\n      <th>32</th>\n      <td>2021-01-15</td>\n      <td>1</td>\n      <td>0</td>\n    </tr>\n    <tr>\n      <th>33</th>\n      <td>2021-01-18</td>\n      <td>0</td>\n      <td>0</td>\n    </tr>\n    <tr>\n      <th>34</th>\n      <td>2021-01-19</td>\n      <td>0</td>\n      <td>0</td>\n    </tr>\n  </tbody>\n</table>\n</div>"
     },
     "metadata": {},
     "execution_count": 69
    }
   ],
   "source": [
    "# RandomForest\n",
    "from sklearn.ensemble import RandomForestClassifier\n",
    "rfModel = RandomForestClassifier(n_estimators=10000, random_state=20)\n",
    "rfModel.fit(x_train, y_train)\n",
    "pred_rfModel = rfModel.predict(x_test)\n",
    "\n",
    "model_report(y_test, pred_rfModel, 'RandomForest')\n",
    "print_true_pred(pred_rfModel)"
   ]
  },
  {
   "cell_type": "code",
   "execution_count": 70,
   "metadata": {},
   "outputs": [
    {
     "output_type": "execute_result",
     "data": {
      "text/plain": [
       "               feature  importance\n",
       "19                   D    0.045406\n",
       "27                NATR    0.043731\n",
       "12              ULTOSC    0.043329\n",
       "29              TRANGE    0.042879\n",
       "7               amount    0.042116\n",
       "6              pct_chg    0.041931\n",
       "18                   K    0.041841\n",
       "5               change    0.040883\n",
       "8                  ADX    0.039015\n",
       "20                 DEM    0.038403\n",
       "9                 ADXR    0.038216\n",
       "24                RSI6    0.037074\n",
       "21           HISTOGRAM    0.035861\n",
       "26               RSI24    0.035542\n",
       "25               RSI12    0.035266\n",
       "17                MA60    0.031678\n",
       "16                MA30    0.030320\n",
       "15                MA20    0.028780\n",
       "4            pre_close    0.028555\n",
       "0                close    0.027982\n",
       "22           UPPERBAND    0.027775\n",
       "14                MA10    0.027748\n",
       "3                 open    0.027498\n",
       "2                  low    0.027317\n",
       "1                 high    0.026968\n",
       "13                 MA5    0.026761\n",
       "23          MIDDLEBAND    0.026670\n",
       "11            AROONOSC    0.024431\n",
       "10           AROONDOWN    0.020543\n",
       "31  CDLCLOSINGMARUBOZU    0.006989\n",
       "30         CDLBELTHOLD    0.004948\n",
       "28         CDL3OUTSIDE    0.003545"
      ],
      "text/html": "<div>\n<style scoped>\n    .dataframe tbody tr th:only-of-type {\n        vertical-align: middle;\n    }\n\n    .dataframe tbody tr th {\n        vertical-align: top;\n    }\n\n    .dataframe thead th {\n        text-align: right;\n    }\n</style>\n<table border=\"1\" class=\"dataframe\">\n  <thead>\n    <tr style=\"text-align: right;\">\n      <th></th>\n      <th>feature</th>\n      <th>importance</th>\n    </tr>\n  </thead>\n  <tbody>\n    <tr>\n      <th>19</th>\n      <td>D</td>\n      <td>0.045406</td>\n    </tr>\n    <tr>\n      <th>27</th>\n      <td>NATR</td>\n      <td>0.043731</td>\n    </tr>\n    <tr>\n      <th>12</th>\n      <td>ULTOSC</td>\n      <td>0.043329</td>\n    </tr>\n    <tr>\n      <th>29</th>\n      <td>TRANGE</td>\n      <td>0.042879</td>\n    </tr>\n    <tr>\n      <th>7</th>\n      <td>amount</td>\n      <td>0.042116</td>\n    </tr>\n    <tr>\n      <th>6</th>\n      <td>pct_chg</td>\n      <td>0.041931</td>\n    </tr>\n    <tr>\n      <th>18</th>\n      <td>K</td>\n      <td>0.041841</td>\n    </tr>\n    <tr>\n      <th>5</th>\n      <td>change</td>\n      <td>0.040883</td>\n    </tr>\n    <tr>\n      <th>8</th>\n      <td>ADX</td>\n      <td>0.039015</td>\n    </tr>\n    <tr>\n      <th>20</th>\n      <td>DEM</td>\n      <td>0.038403</td>\n    </tr>\n    <tr>\n      <th>9</th>\n      <td>ADXR</td>\n      <td>0.038216</td>\n    </tr>\n    <tr>\n      <th>24</th>\n      <td>RSI6</td>\n      <td>0.037074</td>\n    </tr>\n    <tr>\n      <th>21</th>\n      <td>HISTOGRAM</td>\n      <td>0.035861</td>\n    </tr>\n    <tr>\n      <th>26</th>\n      <td>RSI24</td>\n      <td>0.035542</td>\n    </tr>\n    <tr>\n      <th>25</th>\n      <td>RSI12</td>\n      <td>0.035266</td>\n    </tr>\n    <tr>\n      <th>17</th>\n      <td>MA60</td>\n      <td>0.031678</td>\n    </tr>\n    <tr>\n      <th>16</th>\n      <td>MA30</td>\n      <td>0.030320</td>\n    </tr>\n    <tr>\n      <th>15</th>\n      <td>MA20</td>\n      <td>0.028780</td>\n    </tr>\n    <tr>\n      <th>4</th>\n      <td>pre_close</td>\n      <td>0.028555</td>\n    </tr>\n    <tr>\n      <th>0</th>\n      <td>close</td>\n      <td>0.027982</td>\n    </tr>\n    <tr>\n      <th>22</th>\n      <td>UPPERBAND</td>\n      <td>0.027775</td>\n    </tr>\n    <tr>\n      <th>14</th>\n      <td>MA10</td>\n      <td>0.027748</td>\n    </tr>\n    <tr>\n      <th>3</th>\n      <td>open</td>\n      <td>0.027498</td>\n    </tr>\n    <tr>\n      <th>2</th>\n      <td>low</td>\n      <td>0.027317</td>\n    </tr>\n    <tr>\n      <th>1</th>\n      <td>high</td>\n      <td>0.026968</td>\n    </tr>\n    <tr>\n      <th>13</th>\n      <td>MA5</td>\n      <td>0.026761</td>\n    </tr>\n    <tr>\n      <th>23</th>\n      <td>MIDDLEBAND</td>\n      <td>0.026670</td>\n    </tr>\n    <tr>\n      <th>11</th>\n      <td>AROONOSC</td>\n      <td>0.024431</td>\n    </tr>\n    <tr>\n      <th>10</th>\n      <td>AROONDOWN</td>\n      <td>0.020543</td>\n    </tr>\n    <tr>\n      <th>31</th>\n      <td>CDLCLOSINGMARUBOZU</td>\n      <td>0.006989</td>\n    </tr>\n    <tr>\n      <th>30</th>\n      <td>CDLBELTHOLD</td>\n      <td>0.004948</td>\n    </tr>\n    <tr>\n      <th>28</th>\n      <td>CDL3OUTSIDE</td>\n      <td>0.003545</td>\n    </tr>\n  </tbody>\n</table>\n</div>"
     },
     "metadata": {},
     "execution_count": 70
    }
   ],
   "source": [
    "# 特征重要性\n",
    "importances = rfModel.feature_importances_\n",
    "features_importances = [[feature, importance] for feature, importance in zip(features, importances)]\n",
    "features_importances_df = pd.DataFrame(features_importances, columns=['feature', 'importance'])\n",
    "features_importances_df = features_importances_df.sort_values(by='importance', ascending=False)\n",
    "features_sorted = features_importances_df['feature'].values\n",
    "features_importances_df"
   ]
  },
  {
   "source": [
    "# 融合模型"
   ],
   "cell_type": "markdown",
   "metadata": {}
  },
  {
   "cell_type": "code",
   "execution_count": 71,
   "metadata": {},
   "outputs": [
    {
     "output_type": "execute_result",
     "data": {
      "text/plain": [
       "VotingClassifier(estimators=[('QDA', QuadraticDiscriminantAnalysis()),\n",
       "                             ('RF',\n",
       "                              RandomForestClassifier(n_estimators=1000,\n",
       "                                                     random_state=20)),\n",
       "                             ('GBDT',\n",
       "                              GradientBoostingClassifier(n_estimators=200))],\n",
       "                 voting='soft')"
      ]
     },
     "metadata": {},
     "execution_count": 71
    }
   ],
   "source": [
    "# 融合模型\n",
    "from sklearn.ensemble import VotingClassifier\n",
    "clf1 = QuadraticDiscriminantAnalysis()\n",
    "clf2 = RandomForestClassifier(n_estimators=1000, random_state=20)\n",
    "clf3 = GradientBoostingClassifier(n_estimators=200)\n",
    "\n",
    "eclf = VotingClassifier(estimators=[('QDA', clf1), ('RF', clf2), ('GBDT', clf3)], voting='soft')\n",
    "eclf.fit(x_train, y_train)\n"
   ]
  },
  {
   "cell_type": "code",
   "execution_count": 72,
   "metadata": {},
   "outputs": [
    {
     "output_type": "stream",
     "name": "stdout",
     "text": [
      "模型eclf\n指标报告:\n              precision    recall  f1-score   support\n\n           0       0.59      0.56      0.57        18\n           1       0.56      0.59      0.57        17\n\n    accuracy                           0.57        35\n   macro avg       0.57      0.57      0.57        35\nweighted avg       0.57      0.57      0.57        35\n\n准确率: 0.5714285714285714\n"
     ]
    },
    {
     "output_type": "execute_result",
     "data": {
      "text/plain": [
       "          date  true  pred\n",
       "0   2020-12-01     0     0\n",
       "1   2020-12-02     0     0\n",
       "2   2020-12-03     1     0\n",
       "3   2020-12-04     0     0\n",
       "4   2020-12-07     0     0\n",
       "5   2020-12-08     0     1\n",
       "6   2020-12-09     1     0\n",
       "7   2020-12-10     0     0\n",
       "8   2020-12-11     1     1\n",
       "9   2020-12-14     0     1\n",
       "10  2020-12-15     0     1\n",
       "11  2020-12-16     1     1\n",
       "12  2020-12-17     0     1\n",
       "13  2020-12-18     1     0\n",
       "14  2020-12-21     0     1\n",
       "15  2020-12-22     1     1\n",
       "16  2020-12-23     0     1\n",
       "17  2020-12-24     1     1\n",
       "18  2020-12-25     1     1\n",
       "19  2020-12-28     0     1\n",
       "20  2020-12-29     1     1\n",
       "21  2020-12-30     1     1\n",
       "22  2020-12-31     1     1\n",
       "23  2021-01-04     1     1\n",
       "24  2021-01-05     1     1\n",
       "25  2021-01-06     1     0\n",
       "26  2021-01-07     0     0\n",
       "27  2021-01-08     0     0\n",
       "28  2021-01-11     1     0\n",
       "29  2021-01-12     0     0\n",
       "30  2021-01-13     0     0\n",
       "31  2021-01-14     1     0\n",
       "32  2021-01-15     1     0\n",
       "33  2021-01-18     0     1\n",
       "34  2021-01-19     0     0"
      ],
      "text/html": "<div>\n<style scoped>\n    .dataframe tbody tr th:only-of-type {\n        vertical-align: middle;\n    }\n\n    .dataframe tbody tr th {\n        vertical-align: top;\n    }\n\n    .dataframe thead th {\n        text-align: right;\n    }\n</style>\n<table border=\"1\" class=\"dataframe\">\n  <thead>\n    <tr style=\"text-align: right;\">\n      <th></th>\n      <th>date</th>\n      <th>true</th>\n      <th>pred</th>\n    </tr>\n  </thead>\n  <tbody>\n    <tr>\n      <th>0</th>\n      <td>2020-12-01</td>\n      <td>0</td>\n      <td>0</td>\n    </tr>\n    <tr>\n      <th>1</th>\n      <td>2020-12-02</td>\n      <td>0</td>\n      <td>0</td>\n    </tr>\n    <tr>\n      <th>2</th>\n      <td>2020-12-03</td>\n      <td>1</td>\n      <td>0</td>\n    </tr>\n    <tr>\n      <th>3</th>\n      <td>2020-12-04</td>\n      <td>0</td>\n      <td>0</td>\n    </tr>\n    <tr>\n      <th>4</th>\n      <td>2020-12-07</td>\n      <td>0</td>\n      <td>0</td>\n    </tr>\n    <tr>\n      <th>5</th>\n      <td>2020-12-08</td>\n      <td>0</td>\n      <td>1</td>\n    </tr>\n    <tr>\n      <th>6</th>\n      <td>2020-12-09</td>\n      <td>1</td>\n      <td>0</td>\n    </tr>\n    <tr>\n      <th>7</th>\n      <td>2020-12-10</td>\n      <td>0</td>\n      <td>0</td>\n    </tr>\n    <tr>\n      <th>8</th>\n      <td>2020-12-11</td>\n      <td>1</td>\n      <td>1</td>\n    </tr>\n    <tr>\n      <th>9</th>\n      <td>2020-12-14</td>\n      <td>0</td>\n      <td>1</td>\n    </tr>\n    <tr>\n      <th>10</th>\n      <td>2020-12-15</td>\n      <td>0</td>\n      <td>1</td>\n    </tr>\n    <tr>\n      <th>11</th>\n      <td>2020-12-16</td>\n      <td>1</td>\n      <td>1</td>\n    </tr>\n    <tr>\n      <th>12</th>\n      <td>2020-12-17</td>\n      <td>0</td>\n      <td>1</td>\n    </tr>\n    <tr>\n      <th>13</th>\n      <td>2020-12-18</td>\n      <td>1</td>\n      <td>0</td>\n    </tr>\n    <tr>\n      <th>14</th>\n      <td>2020-12-21</td>\n      <td>0</td>\n      <td>1</td>\n    </tr>\n    <tr>\n      <th>15</th>\n      <td>2020-12-22</td>\n      <td>1</td>\n      <td>1</td>\n    </tr>\n    <tr>\n      <th>16</th>\n      <td>2020-12-23</td>\n      <td>0</td>\n      <td>1</td>\n    </tr>\n    <tr>\n      <th>17</th>\n      <td>2020-12-24</td>\n      <td>1</td>\n      <td>1</td>\n    </tr>\n    <tr>\n      <th>18</th>\n      <td>2020-12-25</td>\n      <td>1</td>\n      <td>1</td>\n    </tr>\n    <tr>\n      <th>19</th>\n      <td>2020-12-28</td>\n      <td>0</td>\n      <td>1</td>\n    </tr>\n    <tr>\n      <th>20</th>\n      <td>2020-12-29</td>\n      <td>1</td>\n      <td>1</td>\n    </tr>\n    <tr>\n      <th>21</th>\n      <td>2020-12-30</td>\n      <td>1</td>\n      <td>1</td>\n    </tr>\n    <tr>\n      <th>22</th>\n      <td>2020-12-31</td>\n      <td>1</td>\n      <td>1</td>\n    </tr>\n    <tr>\n      <th>23</th>\n      <td>2021-01-04</td>\n      <td>1</td>\n      <td>1</td>\n    </tr>\n    <tr>\n      <th>24</th>\n      <td>2021-01-05</td>\n      <td>1</td>\n      <td>1</td>\n    </tr>\n    <tr>\n      <th>25</th>\n      <td>2021-01-06</td>\n      <td>1</td>\n      <td>0</td>\n    </tr>\n    <tr>\n      <th>26</th>\n      <td>2021-01-07</td>\n      <td>0</td>\n      <td>0</td>\n    </tr>\n    <tr>\n      <th>27</th>\n      <td>2021-01-08</td>\n      <td>0</td>\n      <td>0</td>\n    </tr>\n    <tr>\n      <th>28</th>\n      <td>2021-01-11</td>\n      <td>1</td>\n      <td>0</td>\n    </tr>\n    <tr>\n      <th>29</th>\n      <td>2021-01-12</td>\n      <td>0</td>\n      <td>0</td>\n    </tr>\n    <tr>\n      <th>30</th>\n      <td>2021-01-13</td>\n      <td>0</td>\n      <td>0</td>\n    </tr>\n    <tr>\n      <th>31</th>\n      <td>2021-01-14</td>\n      <td>1</td>\n      <td>0</td>\n    </tr>\n    <tr>\n      <th>32</th>\n      <td>2021-01-15</td>\n      <td>1</td>\n      <td>0</td>\n    </tr>\n    <tr>\n      <th>33</th>\n      <td>2021-01-18</td>\n      <td>0</td>\n      <td>1</td>\n    </tr>\n    <tr>\n      <th>34</th>\n      <td>2021-01-19</td>\n      <td>0</td>\n      <td>0</td>\n    </tr>\n  </tbody>\n</table>\n</div>"
     },
     "metadata": {},
     "execution_count": 72
    }
   ],
   "source": [
    "# 预测\n",
    "pred_eclf = eclf.predict(x_test)\n",
    "model_report(y_test, pred_eclf, 'eclf')\n",
    "print_true_pred(pred_eclf)"
   ]
  },
  {
   "cell_type": "code",
   "execution_count": null,
   "metadata": {},
   "outputs": [],
   "source": []
  }
 ]
}